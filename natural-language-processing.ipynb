{
 "cells": [
  {
   "cell_type": "markdown",
   "metadata": {},
   "source": [
    "<img src=\"http://imgur.com/1ZcRyrc.png\" style=\"float: left; margin: 20px; height: 55px\">\n",
    " \n",
    "# Natural Language Processing\n",
    " \n",
    "_Authors: Kiefer Katovich (San Francisco), Joseph Nelson (Washington, D.C.)_\n",
    " \n",
    "---\n"
   ]
  },
  {
   "cell_type": "markdown",
   "metadata": {},
   "source": [
    "### Learning Objectives\n",
    "- Discuss the major tasks involved with natural language processing.\n",
    "- Discuss, on a low level, the components of natural language processing.\n",
    "- Identify why natural language processing is difficult.\n",
    "- Demonstrate text classification.\n",
    "- Demonstrate common text preprocessing techniques."
   ]
  },
  {
   "cell_type": "markdown",
   "metadata": {},
   "source": [
    "### How Do We Use NLP in Data Science?\n",
    "\n",
    "In data science, we are often asked to analyze unstructured text or make a predictive model using it. Unfortunately, most data science techniques require numeric data. NLP libraries provide a tool set of methods to convert unstructured text into meaningful numeric data.\n",
    "\n",
    "- **Analysis:** NLP techniques provide tools to allow us to understand and analyze large amounts of text. For example:\n",
    "\n",
    "    - Analyze the positivity/negativity of comments on different websites. \n",
    "    - Extract key words from meeting notes and visualize how meeting topics change over time.\n",
    "\n",
    "- **Vectorizing for machine learning:** When building a machine learning model, we typically must transform our data into numeric features. This process of transforming non-numeric data such as natural language into numeric features is called vectorization. For example:\n",
    "\n",
    "    - Understanding related words. Using stemming, NLP lets us know that \"swim\", \"swims\", and \"swimming\" all refer to the same base word. This allows us to reduce the number of features used in our model.\n",
    "    - Identifying important and unique words. Using TF-IDF (term frequency-inverse document frequency), we can identify which words are most likely to be meaningful in a document."
   ]
  },
  {
   "cell_type": "markdown",
   "metadata": {},
   "source": [
    "### Install TextBlob\n",
    "\n",
    "The TextBlob Python library provides a simplified interface for exploring common NLP tasks including part-of-speech tagging, noun phrase extraction, sentiment analysis, classification, translation, and more.\n",
    "\n",
    "To proceed with the lesson, first install TextBlob, as explained below. We tend to prefer Anaconda-based installations, since they tend to be tested with our other Anaconda packages.\n",
    "\n",
    "**To install textblob run:**\n",
    "\n",
    "> `conda install -c https://conda.anaconda.org/sloria textblob`\n",
    "\n",
    "**Or:**\n",
    "\n",
    "> `pip install textblob`\n",
    "\n",
    "> `python -m textblob.download_corpora lite`"
   ]
  },
  {
   "cell_type": "markdown",
   "metadata": {},
   "source": [
    "## Lesson Guide\n",
    "\n",
    "- [Introduction to Natural Language Processing](#intro)\n",
    "- [Reading Yelp reviews With NLP](#yelp_rev)\n",
    "- [Text Classification](#text_class)\n",
    "- [Count Vectorization](#count_vec)\n",
    "    - [Using CountVectorizer in a Model](#countvectorizer-model)\n",
    "    - [N-Grams](#ngrams)\n",
    "    - [Stop-Word Removal](#stopwords)\n",
    "\t- [Count Vector Options](#cvec_opt)\n",
    "- [Intro to TextBlob](#textblob)\n",
    "\t- [Stemming and Lemmatization](#stem)\n",
    "- [Term Frequency Inverse Document Frequency Vectorization](tfidf)\n",
    "\t- [Yelp Summary Using TFIDF](#yelp_tfidf)\n",
    "- [Sentiment Analysis](#sentiment)\n",
    "- [BONUS: Adding Features to a Document Term Matrix](#add_feat)\n",
    "- [BONUS: More TextBlob Features](#more_textblob)\n",
    "- [APPENDIX: Intro to Naive Bayes and Text Classification](#bayes)\n",
    "- [Conclusion](#conclusion)"
   ]
  },
  {
   "cell_type": "markdown",
   "metadata": {},
   "source": [
    "<a id='intro'></a>\n",
    "\n",
    "## Introduction\n",
    "\n",
    "*Adapted from [NLP Crash Course](http://files.meetup.com/7616132/DC-NLP-2013-09%20Charlie%20Greenbacker.pdf) by Charlie Greenbacker and [Introduction to NLP](http://spark-public.s3.amazonaws.com/nlp/slides/intro.pdf) by Dan Jurafsky*"
   ]
  },
  {
   "cell_type": "markdown",
   "metadata": {},
   "source": [
    "## Introduction"
   ]
  },
  {
   "cell_type": "markdown",
   "metadata": {},
   "source": [
    "### What Is Natural Language Processing (NLP)?\n",
    "\n",
    "- Using computers to process (analyze, understand, generate) natural human languages.\n",
    "- Making sense of human knowledge stored as unstructured text.\n",
    "- Building probabilistic models using data about a language."
   ]
  },
  {
   "cell_type": "markdown",
   "metadata": {},
   "source": [
    "### What Are Some of the Higher-Level Task Areas?\n",
    "\n",
    "- **Objective:** Discuss the major tasks involved with natural language processing.\n",
    "\n",
    "We often hope that computers can solve many high-level problems involving natural language. Unfortunately, due to the difficulty of understanding human language, many of these problems are still not well solved. That said, existing solutions to these problems all involve utilizing the lower-level components of NLP discussed in the next section. Some higher-level tasks include:\n",
    "\n",
    "- **Chatbots:** Understand natural language from the user and return intelligent responses.\n",
    "    - [Api.ai](https://api.ai/)\n",
    "- **Information retrieval:** Find relevant results and similar results.\n",
    "    - [Google](https://www.google.com/)    \n",
    "- **Information extraction:** Structured information from unstructured documents.\n",
    "    - [Events from Gmail](https://support.google.com/calendar/answer/6084018?hl=en)\n",
    "- **Machine translation:** One language to another.\n",
    "    - [Google Translate](https://translate.google.com/)\n",
    "- **Text simplification:** Preserve the meaning of text, but simplify the grammar and vocabulary.\n",
    "    - [Rewordify](https://rewordify.com/)\n",
    "    - [Simple English Wikipedia](https://simple.wikipedia.org/wiki/Main_Page)\n",
    "- **Predictive text input:** Faster or easier typing.\n",
    "    - [Phrase completion application](https://justmarkham.shinyapps.io/textprediction/)\n",
    "    - [A much better application](https://farsite.shinyapps.io/swiftkey-cap/)\n",
    "- **Sentiment analysis:** Attitude of speaker.\n",
    "    - [Hater News](https://medium.com/@KevinMcAlear/building-hater-news-62062c58325c)\n",
    "- **Automatic summarization:** Extractive or abstractive summarization.\n",
    "    - [autotldr](https://www.reddit.com/r/technology/comments/35brc8/21_million_people_still_use_aol_dialup/cr2zzj0)\n",
    "- **Natural language generation:** Generate text from data.\n",
    "    - [How a computer describes a sports match](http://www.bbc.com/news/technology-34204052)\n",
    "    - [Publishers withdraw more than 120 gibberish papers](http://www.nature.com/news/publishers-withdraw-more-than-120-gibberish-papers-1.14763)\n",
    "- **Speech recognition and generation:** Speech-to-text, text-to-speech.\n",
    "    - [Google's Web Speech API demo](https://www.google.com/intl/en/chrome/demos/speech.html)\n",
    "    - [Vocalware Text-to-Speech demo](https://www.vocalware.com/index/demo)\n",
    "- **Question answering:** Determine the intent of the question, match query with knowledge base, evaluate hypotheses.\n",
    "    - [How did supercomputer Watson beat Jeopardy champion Ken Jennings?](http://blog.ted.com/how-did-supercomputer-watson-beat-jeopardy-champion-ken-jennings-experts-discuss/)\n",
    "    - [IBM's Watson Trivia Challenge](http://www.nytimes.com/interactive/2010/06/16/magazine/watson-trivia-game.html)\n",
    "    - [The AI Behind Watson](http://www.aaai.org/Magazine/Watson/watson.php)"
   ]
  },
  {
   "cell_type": "markdown",
   "metadata": {},
   "source": [
    "### What Are Some of the Lower-Level Components?\n",
    "\n",
    "- **Objective:** Discuss, on a low level, the components of natural language processing.\n",
    "\n",
    "Unfortunately, the NLP programming libraries typically do not provide direct solutions for the high-level tasks above. Instead, they provide low-level building blocks that enable us to craft our own solutions. These include:\n",
    "\n",
    "- **Tokenization:** Breaking text into tokens (words, sentences, n-grams)\n",
    "- **Stop-word removal:** a/an/the\n",
    "- **Stemming and lemmatization:** root word\n",
    "- **TF-IDF:** word importance\n",
    "- **Part-of-speech tagging:** noun/verb/adjective\n",
    "- **Named entity recognition:** person/organization/location\n",
    "- **Spelling correction:** \"New Yrok City\"\n",
    "- **Word sense disambiguation:** \"buy a mouse\"\n",
    "- **Segmentation:** \"New York City subway\"\n",
    "- **Language detection:** \"translate this page\"\n",
    "- **Machine learning:** specialized models that work well with text"
   ]
  },
  {
   "cell_type": "markdown",
   "metadata": {},
   "source": [
    "### Why is NLP hard?\n",
    "\n",
    "- **Objective:** Identify why natural language processing is difficult.\n",
    "\n",
    "Natural language processing requires an understanding of the language and the world. Several limitations of NLP are:\n",
    "\n",
    "- **Ambiguity**:\n",
    "    - Hospitals Are Sued by 7 Foot Doctors\n",
    "    - Juvenile Court to Try Shooting Defendant\n",
    "    - Local High School Dropouts Cut in Half\n",
    "- **Non-standard English:** text messages\n",
    "- **Idioms:** \"throw in the towel\"\n",
    "- **Newly coined words:** \"retweet\"\n",
    "- **Tricky entity names:** \"Where is A Bug's Life playing?\"\n",
    "- **World knowledge:** \"Mary and Sue are sisters\", \"Mary and Sue are mothers\""
   ]
  },
  {
   "cell_type": "markdown",
   "metadata": {},
   "source": [
    "<a id='yelp_rev'></a>\n",
    "\n",
    "## Reading in the Yelp Reviews"
   ]
  },
  {
   "cell_type": "markdown",
   "metadata": {},
   "source": [
    "Throughout this lesson, we will use Yelp reviews to practice and discover common low-level NLP techniques.\n",
    "\n",
    "- **corpus**: a collection of documents (derived from the Latin word for \"body\")\n",
    "- **corpora**: plural form of corpus\n",
    "\n",
    "Throughout this lesson, we will use a model very popular for text classification called Naive Bayes (the \"NB\" in `BinonmialNB` and `MultinomialNB` below). If you are unfamiliar with it, know that it works exactly the same as all other models in scikit-learn! We will look extensively at the mechanics behind Naive Bayes later in the course. However, see the [appendix](#bayes) at the end of this notebook for a quick introduction."
   ]
  },
  {
   "cell_type": "code",
   "execution_count": 2,
   "metadata": {
    "collapsed": true
   },
   "outputs": [],
   "source": [
    "import pandas as pd\n",
    "import numpy as np\n",
    "import scipy as sp\n",
    "from sklearn.model_selection import train_test_split\n",
    "from sklearn.feature_extraction.text import CountVectorizer, TfidfVectorizer\n",
    "from sklearn.naive_bayes import MultinomialNB         # Naive Bayes\n",
    "from sklearn.linear_model import LogisticRegression\n",
    "from sklearn import metrics\n",
    "from textblob import TextBlob, Word\n",
    "from nltk.stem.snowball import SnowballStemmer\n",
    "\n",
    "%matplotlib inline"
   ]
  },
  {
   "cell_type": "code",
   "execution_count": 3,
   "metadata": {
    "collapsed": true
   },
   "outputs": [],
   "source": [
    "# Read yelp.csv into a DataFrame.\n",
    "path = r'./assets/dataset/yelp.csv'\n",
    "yelp = pd.read_csv(path)\n",
    "\n",
    "# Create a new DataFrame that only contains the 5-star and 1-star reviews.\n",
    "yelp_best_worst = yelp[(yelp.stars==5) | (yelp.stars==1)]\n",
    "\n",
    "# Define X and y.\n",
    "X = yelp_best_worst.text\n",
    "y = yelp_best_worst.stars\n",
    "\n",
    "# Split the new DataFrame into training and testing sets.\n",
    "X_train, X_test, y_train, y_test = train_test_split(X, y, random_state=1)"
   ]
  },
  {
   "cell_type": "code",
   "execution_count": 4,
   "metadata": {},
   "outputs": [
    {
     "data": {
      "text/html": [
       "<div>\n",
       "<style>\n",
       "    .dataframe thead tr:only-child th {\n",
       "        text-align: right;\n",
       "    }\n",
       "\n",
       "    .dataframe thead th {\n",
       "        text-align: left;\n",
       "    }\n",
       "\n",
       "    .dataframe tbody tr th {\n",
       "        vertical-align: top;\n",
       "    }\n",
       "</style>\n",
       "<table border=\"1\" class=\"dataframe\">\n",
       "  <thead>\n",
       "    <tr style=\"text-align: right;\">\n",
       "      <th></th>\n",
       "      <th>business_id</th>\n",
       "      <th>date</th>\n",
       "      <th>review_id</th>\n",
       "      <th>stars</th>\n",
       "      <th>text</th>\n",
       "      <th>type</th>\n",
       "      <th>user_id</th>\n",
       "      <th>cool</th>\n",
       "      <th>useful</th>\n",
       "      <th>funny</th>\n",
       "    </tr>\n",
       "  </thead>\n",
       "  <tbody>\n",
       "    <tr>\n",
       "      <th>0</th>\n",
       "      <td>9yKzy9PApeiPPOUJEtnvkg</td>\n",
       "      <td>2011-01-26</td>\n",
       "      <td>fWKvX83p0-ka4JS3dc6E5A</td>\n",
       "      <td>5</td>\n",
       "      <td>My wife took me here on my birthday for breakf...</td>\n",
       "      <td>review</td>\n",
       "      <td>rLtl8ZkDX5vH5nAx9C3q5Q</td>\n",
       "      <td>2</td>\n",
       "      <td>5</td>\n",
       "      <td>0</td>\n",
       "    </tr>\n",
       "    <tr>\n",
       "      <th>1</th>\n",
       "      <td>ZRJwVLyzEJq1VAihDhYiow</td>\n",
       "      <td>2011-07-27</td>\n",
       "      <td>IjZ33sJrzXqU-0X6U8NwyA</td>\n",
       "      <td>5</td>\n",
       "      <td>I have no idea why some people give bad review...</td>\n",
       "      <td>review</td>\n",
       "      <td>0a2KyEL0d3Yb1V6aivbIuQ</td>\n",
       "      <td>0</td>\n",
       "      <td>0</td>\n",
       "      <td>0</td>\n",
       "    </tr>\n",
       "    <tr>\n",
       "      <th>2</th>\n",
       "      <td>6oRAC4uyJCsJl1X0WZpVSA</td>\n",
       "      <td>2012-06-14</td>\n",
       "      <td>IESLBzqUCLdSzSqm0eCSxQ</td>\n",
       "      <td>4</td>\n",
       "      <td>love the gyro plate. Rice is so good and I als...</td>\n",
       "      <td>review</td>\n",
       "      <td>0hT2KtfLiobPvh6cDC8JQg</td>\n",
       "      <td>0</td>\n",
       "      <td>1</td>\n",
       "      <td>0</td>\n",
       "    </tr>\n",
       "    <tr>\n",
       "      <th>3</th>\n",
       "      <td>_1QQZuf4zZOyFCvXc0o6Vg</td>\n",
       "      <td>2010-05-27</td>\n",
       "      <td>G-WvGaISbqqaMHlNnByodA</td>\n",
       "      <td>5</td>\n",
       "      <td>Rosie, Dakota, and I LOVE Chaparral Dog Park!!...</td>\n",
       "      <td>review</td>\n",
       "      <td>uZetl9T0NcROGOyFfughhg</td>\n",
       "      <td>1</td>\n",
       "      <td>2</td>\n",
       "      <td>0</td>\n",
       "    </tr>\n",
       "    <tr>\n",
       "      <th>4</th>\n",
       "      <td>6ozycU1RpktNG2-1BroVtw</td>\n",
       "      <td>2012-01-05</td>\n",
       "      <td>1uJFq2r5QfJG_6ExMRCaGw</td>\n",
       "      <td>5</td>\n",
       "      <td>General Manager Scott Petello is a good egg!!!...</td>\n",
       "      <td>review</td>\n",
       "      <td>vYmM4KTsC8ZfQBg-j5MWkw</td>\n",
       "      <td>0</td>\n",
       "      <td>0</td>\n",
       "      <td>0</td>\n",
       "    </tr>\n",
       "  </tbody>\n",
       "</table>\n",
       "</div>"
      ],
      "text/plain": [
       "              business_id        date               review_id  stars  \\\n",
       "0  9yKzy9PApeiPPOUJEtnvkg  2011-01-26  fWKvX83p0-ka4JS3dc6E5A      5   \n",
       "1  ZRJwVLyzEJq1VAihDhYiow  2011-07-27  IjZ33sJrzXqU-0X6U8NwyA      5   \n",
       "2  6oRAC4uyJCsJl1X0WZpVSA  2012-06-14  IESLBzqUCLdSzSqm0eCSxQ      4   \n",
       "3  _1QQZuf4zZOyFCvXc0o6Vg  2010-05-27  G-WvGaISbqqaMHlNnByodA      5   \n",
       "4  6ozycU1RpktNG2-1BroVtw  2012-01-05  1uJFq2r5QfJG_6ExMRCaGw      5   \n",
       "\n",
       "                                                text    type  \\\n",
       "0  My wife took me here on my birthday for breakf...  review   \n",
       "1  I have no idea why some people give bad review...  review   \n",
       "2  love the gyro plate. Rice is so good and I als...  review   \n",
       "3  Rosie, Dakota, and I LOVE Chaparral Dog Park!!...  review   \n",
       "4  General Manager Scott Petello is a good egg!!!...  review   \n",
       "\n",
       "                  user_id  cool  useful  funny  \n",
       "0  rLtl8ZkDX5vH5nAx9C3q5Q     2       5      0  \n",
       "1  0a2KyEL0d3Yb1V6aivbIuQ     0       0      0  \n",
       "2  0hT2KtfLiobPvh6cDC8JQg     0       1      0  \n",
       "3  uZetl9T0NcROGOyFfughhg     1       2      0  \n",
       "4  vYmM4KTsC8ZfQBg-j5MWkw     0       0      0  "
      ]
     },
     "execution_count": 4,
     "metadata": {},
     "output_type": "execute_result"
    }
   ],
   "source": [
    "# The head of the original data\n",
    "yelp.head()"
   ]
  },
  {
   "cell_type": "markdown",
   "metadata": {},
   "source": [
    "<a id='text_class'></a>\n",
    "\n",
    "\n",
    "# Introduction: Text Classification"
   ]
  },
  {
   "cell_type": "markdown",
   "metadata": {},
   "source": [
    "As you proceed through this section, note that text classification is done in the same way as all other classification models. First, the text is vectorized into a set of numeric features. Then, a standard machine learning classifier is applied. NLP libraries often include vectorizers and ML models that work particularly well with text.\n",
    "\n",
    "> We will refer to each piece of text we are trying to classify as a document.\n",
    "> - For example, a document could refer to an email, book chapter, tweet, article, or text message.\n",
    "\n",
    "**Text classification is the task of predicting which category or topic a text sample is from.**\n",
    "\n",
    "We may want to identify:\n",
    "- Is an article a sports or business story?\n",
    "- Does an email have positive or negative sentiment?\n",
    "- Is the rating of a recipe 1, 2, 3, 4, or 5 stars?\n",
    "\n",
    "**Predictions are often made by using the words as features and the label as the target output.**\n",
    "\n",
    "Starting out, we will make each unique word (across all documents) a single feature. In any given corpora, we may have hundreds of thousands of unique words, so we may have hundreds of thousands of features!\n",
    "\n",
    "- For a given document, the numeric value of each feature could be the number of times the word appears in the document.\n",
    "    - So, most features will have a value of zero, resulting in a sparse matrix of features.\n",
    "\n",
    "- This technique for vectorizing text is referred to as a bag-of-words model. \n",
    "    - It is called bag of words because the document's structure is lost — as if the words are all jumbled up in a bag.\n",
    "    - The first step to creating a bag-of-words model is to create a vocabulary of all possible words in the corpora.\n",
    "\n",
    "> Alternatively, we could make each column an indicator column, which is 1 if the word is present in the document (no matter how many times) and 0 if not. This vectorization could be used to reduce the importance of repeated words. For example, a website search engine would be susceptible to spammers who load websites with repeated words. So, the search engine might use indicator columns as features rather than word counts.\n",
    "\n",
    "**We need to consider several things to decide if bag-of-words is appropriate.**\n",
    "\n",
    "- Does order of words matter?\n",
    "- Does punctuation matter?\n",
    "- Does upper or lower case matter?"
   ]
  },
  {
   "cell_type": "markdown",
   "metadata": {},
   "source": [
    "## Demo: Text Processing in scikit-learn\n",
    "\n",
    "- **Objective:** Demonstrate text classification."
   ]
  },
  {
   "cell_type": "markdown",
   "metadata": {},
   "source": [
    "<a id='count_vec'></a>\n",
    "\n",
    "\n",
    "### Creating Features Using CountVectorizer\n",
    "\n",
    "- **What:** Converts each document into a set of words and their counts.\n",
    "- **Why:** To use a machine learning model, we must convert unstructured text into numeric features.\n",
    "- **Notes:** Relatively easy with English language text, not as easy with some languages."
   ]
  },
  {
   "cell_type": "code",
   "execution_count": 5,
   "metadata": {
    "collapsed": true
   },
   "outputs": [],
   "source": [
    "# Use CountVectorizer to create document-term matrices from X_train and X_test.\n",
    "vect = CountVectorizer()\n",
    "X_train_dtm = vect.fit_transform(X_train)\n",
    "X_test_dtm = vect.transform(X_test)"
   ]
  },
  {
   "cell_type": "code",
   "execution_count": 6,
   "metadata": {},
   "outputs": [
    {
     "data": {
      "text/plain": [
       "(3064, 16825)"
      ]
     },
     "execution_count": 6,
     "metadata": {},
     "output_type": "execute_result"
    }
   ],
   "source": [
    "# Rows are documents, columns are terms (aka \"tokens\" or \"features\", individual words in this situation).\n",
    "X_train_dtm.shape"
   ]
  },
  {
   "cell_type": "code",
   "execution_count": 7,
   "metadata": {},
   "outputs": [
    {
     "name": "stdout",
     "output_type": "stream",
     "text": [
      "[u'yyyyy', u'z11', u'za', u'zabba', u'zach', u'zam', u'zanella', u'zankou', u'zappos', u'zatsiki', u'zen', u'zero', u'zest', u'zexperience', u'zha', u'zhou', u'zia', u'zihuatenejo', u'zilch', u'zin', u'zinburger', u'zinburgergeist', u'zinc', u'zinfandel', u'zing', u'zip', u'zipcar', u'zipper', u'zippers', u'zipps', u'ziti', u'zoe', u'zombi', u'zombies', u'zone', u'zones', u'zoning', u'zoo', u'zoyo', u'zucca', u'zucchini', u'zuchinni', u'zumba', u'zupa', u'zuzu', u'zwiebel', u'zzed', u'\\xe9clairs', u'\\xe9cole', u'\\xe9m']\n"
     ]
    }
   ],
   "source": [
    "# Last 50 features\n",
    "print(vect.get_feature_names()[-50:])"
   ]
  },
  {
   "cell_type": "code",
   "execution_count": 8,
   "metadata": {},
   "outputs": [
    {
     "data": {
      "text/plain": [
       "CountVectorizer(analyzer=u'word', binary=False, decode_error=u'strict',\n",
       "        dtype=<type 'numpy.int64'>, encoding=u'utf-8', input=u'content',\n",
       "        lowercase=True, max_df=1.0, max_features=None, min_df=1,\n",
       "        ngram_range=(1, 1), preprocessor=None, stop_words=None,\n",
       "        strip_accents=None, token_pattern=u'(?u)\\\\b\\\\w\\\\w+\\\\b',\n",
       "        tokenizer=None, vocabulary=None)"
      ]
     },
     "execution_count": 8,
     "metadata": {},
     "output_type": "execute_result"
    }
   ],
   "source": [
    "# Show vectorizer options.\n",
    "vect"
   ]
  },
  {
   "cell_type": "markdown",
   "metadata": {},
   "source": [
    "[CountVectorizer documentation](http://scikit-learn.org/stable/modules/generated/sklearn.feature_extraction.text.CountVectorizer.html)"
   ]
  },
  {
   "cell_type": "markdown",
   "metadata": {},
   "source": [
    "One common method of reducing the number of features is converting all text to lowercase before generating features! Note that to a computer, `aPPle` is a different token/\"word\" than `apple`. So, by converting both to lowercase letters, it ensures fewer features will be generated. It might be useful not to convert them to lowercase if capitalization matters."
   ]
  },
  {
   "cell_type": "code",
   "execution_count": 10,
   "metadata": {},
   "outputs": [
    {
     "data": {
      "text/plain": [
       "[u'zoning',\n",
       " u'zoo',\n",
       " u'zucchini',\n",
       " u'zuchinni',\n",
       " u'zupa',\n",
       " u'zwiebel',\n",
       " u'zzed',\n",
       " u'\\xc9cole',\n",
       " u'\\xe9clairs',\n",
       " u'\\xe9m']"
      ]
     },
     "execution_count": 10,
     "metadata": {},
     "output_type": "execute_result"
    }
   ],
   "source": [
    "# Don't convert to lowercase.\n",
    "vect = CountVectorizer(lowercase=False)\n",
    "X_train_dtm = vect.fit_transform(X_train)\n",
    "X_train_dtm.shape\n",
    "vect.get_feature_names()[-10:]"
   ]
  },
  {
   "cell_type": "markdown",
   "metadata": {},
   "source": [
    "<a id='countvectorizer-model'></a>\n",
    "\n",
    "\n",
    "### Using CountVectorizer in a Model"
   ]
  },
  {
   "cell_type": "code",
   "execution_count": 13,
   "metadata": {},
   "outputs": [
    {
     "name": "stdout",
     "output_type": "stream",
     "text": [
      "0.918786692759\n"
     ]
    }
   ],
   "source": [
    "# Use default options for CountVectorizer.\n",
    "vect = CountVectorizer()\n",
    "\n",
    "# Create document-term matrices.\n",
    "X_train_dtm = vect.fit_transform(X_train)\n",
    "X_test_dtm = vect.transform(X_test)\n",
    "\n",
    "# Use Naive Bayes to predict the star rating.\n",
    "nb = MultinomialNB()\n",
    "nb.fit(X_train_dtm, y_train)\n",
    "y_pred_class = nb.predict(X_test_dtm)\n",
    "\n",
    "# Calculate accuracy.\n",
    "print(metrics.accuracy_score(y_test, y_pred_class))"
   ]
  },
  {
   "cell_type": "code",
   "execution_count": 14,
   "metadata": {},
   "outputs": [
    {
     "data": {
      "text/plain": [
       "5    838\n",
       "1    184\n",
       "Name: stars, dtype: int64"
      ]
     },
     "execution_count": 14,
     "metadata": {},
     "output_type": "execute_result"
    }
   ],
   "source": [
    "y_test.value_counts()"
   ]
  },
  {
   "cell_type": "code",
   "execution_count": 15,
   "metadata": {},
   "outputs": [
    {
     "name": "stdout",
     "output_type": "stream",
     "text": [
      "Percent 5 Stars: 0.819960861057\n",
      "Precent 1 Stars: 0.180039138943\n"
     ]
    }
   ],
   "source": [
    "# Calculate null accuracy.\n",
    "y_test_binary = np.where(y_test==5, 1, 0) # five stars become 1, one stars become 0\n",
    "print 'Percent 5 Stars:', y_test_binary.mean()\n",
    "print 'Percent 1 Stars:', 1 - y_test_binary.mean()"
   ]
  },
  {
   "cell_type": "markdown",
   "metadata": {},
   "source": [
    "Our model predicted ~92% accuracy, which is an improvement over this baseline 82% accuracy (assuming our model always predicts 5 stars).\n",
    "\n",
    "Let's look more into how the vectorizer works."
   ]
  },
  {
   "cell_type": "code",
   "execution_count": 37,
   "metadata": {},
   "outputs": [
    {
     "data": {
      "text/plain": [
       "<3064x16825 sparse matrix of type '<type 'numpy.int64'>'\n",
       "\twith 237720 stored elements in Compressed Sparse Row format>"
      ]
     },
     "execution_count": 37,
     "metadata": {},
     "output_type": "execute_result"
    }
   ],
   "source": [
    "# Notice how the data was transformed into this sparse matrix with 1,022 datapoints and 16,825 features!\n",
    "#   - Recall that vectorizations of text will be mostly zeros, since only a few unique words are in each document.\n",
    "#   - For that reason, instead of storing all the zeros we only store non-zero values (inside the 'sparse matrix' data structure!).\n",
    "#   - We have 3064 Yelp reviews in our training set.\n",
    "#   - 16,825 unique words were found across all documents.\n",
    "\n",
    "X_train_dtm"
   ]
  },
  {
   "cell_type": "code",
   "execution_count": 35,
   "metadata": {},
   "outputs": [
    {
     "data": {
      "text/plain": [
       "{u'four': 3230,\n",
       " u'woods': 8666,\n",
       " u'hanging': 3677,\n",
       " u'sinking': 7088,\n",
       " u'eggrolls': 2655,\n",
       " u'tantalizing': 7765,\n",
       " u'leisurely': 4540,\n",
       " u'bringing': 1104,\n",
       " u'basics': 750,\n",
       " u'wooden': 8665,\n",
       " u'wednesday': 8534,\n",
       " u'broiled': 1114,\n",
       " u'commented': 1723,\n",
       " u'preface': 6016,\n",
       " u'scraped': 6831,\n",
       " u'errors': 2768,\n",
       " u'relieving': 6415,\n",
       " u'cooking': 1882,\n",
       " u'fossil': 3222,\n",
       " u'designing': 2279,\n",
       " u'china': 1533,\n",
       " u'affiliated': 263,\n",
       " u'chino': 1535,\n",
       " u'wiseguy': 8640,\n",
       " u'kids': 4368,\n",
       " u'controversy': 1866,\n",
       " u'criticism': 2026,\n",
       " u'golden': 3469,\n",
       " u'replace': 6464,\n",
       " u'browse': 1129,\n",
       " u'symphony': 7720,\n",
       " u'music': 5177,\n",
       " u'therefore': 7902,\n",
       " u'paperwork': 5623,\n",
       " u'intake': 4152,\n",
       " u'locked': 4655,\n",
       " u'locker': 4656,\n",
       " u'example': 2821,\n",
       " u'omelets': 5432,\n",
       " u'pints': 5851,\n",
       " u'caution': 1385,\n",
       " u'want': 8468,\n",
       " u'absolute': 155,\n",
       " u'travel': 8097,\n",
       " u'feature': 2987,\n",
       " u'wrong': 8709,\n",
       " u'types': 8192,\n",
       " u'baggage': 678,\n",
       " u'timers': 7974,\n",
       " u'623': 116,\n",
       " u'welcomed': 8552,\n",
       " u'rewarded': 6547,\n",
       " u'welcomes': 8553,\n",
       " u'fit': 3092,\n",
       " u'screaming': 6836,\n",
       " u'fix': 3098,\n",
       " u'fig': 3031,\n",
       " u'wellness': 8556,\n",
       " u'fuddruckers': 3311,\n",
       " u'fin': 3057,\n",
       " u'easier': 2604,\n",
       " u'vouchers': 8436,\n",
       " u'effects': 2645,\n",
       " u'schools': 6816,\n",
       " u'thyme': 7954,\n",
       " u'volcano': 8424,\n",
       " u'payton': 5703,\n",
       " u'directly': 2363,\n",
       " u'series': 6914,\n",
       " u'phoenicians': 5798,\n",
       " u'ring': 6576,\n",
       " u'drove': 2548,\n",
       " u'oprah': 5466,\n",
       " u'rx': 6697,\n",
       " u'mason': 4863,\n",
       " u'rd': 6306,\n",
       " u're': 6307,\n",
       " u'encourage': 2704,\n",
       " u'ra': 6243,\n",
       " u'foundation': 3225,\n",
       " u'threatened': 7934,\n",
       " u'checked': 1479,\n",
       " u'enormous': 2731,\n",
       " u'shipped': 6993,\n",
       " u'speedy': 7331,\n",
       " u'purpose': 6192,\n",
       " u'kfc': 4358,\n",
       " u'infused': 4105,\n",
       " u'olds': 5424,\n",
       " u'basketball': 754,\n",
       " u'renovated': 6449,\n",
       " u'service': 6922,\n",
       " u'zinfandel': 8774,\n",
       " u'reuben': 6534,\n",
       " u'needed': 5231,\n",
       " u'master': 4869,\n",
       " u'rewards': 6548,\n",
       " u'nirvana': 5285,\n",
       " u'trek': 8117,\n",
       " u'showed': 7033,\n",
       " u'basha': 747,\n",
       " u'tree': 8115,\n",
       " u'shower': 7034,\n",
       " u'friend': 3274,\n",
       " u'tres': 8121,\n",
       " u'feeling': 2998,\n",
       " u'untrained': 8275,\n",
       " u'dozen': 2489,\n",
       " u'gripe': 3571,\n",
       " u'preservatives': 6043,\n",
       " u'recommended': 6353,\n",
       " u'amusing': 392,\n",
       " u'doors': 2469,\n",
       " u'brains': 1059,\n",
       " u'menudo': 4958,\n",
       " u'thrilled': 7938,\n",
       " u'vermicelli': 8370,\n",
       " u'mouth': 5140,\n",
       " u'entry': 2752,\n",
       " u'camp': 1274,\n",
       " u'memberships': 4946,\n",
       " u'tech': 7809,\n",
       " u'scream': 6834,\n",
       " u'came': 1270,\n",
       " u'saying': 6789,\n",
       " u'condesa': 1796,\n",
       " u'meetings': 4930,\n",
       " u'teresa': 7850,\n",
       " u'participate': 5645,\n",
       " u'tempted': 7836,\n",
       " u'lessons': 4554,\n",
       " u'orleans': 5494,\n",
       " u'flowers': 3151,\n",
       " u'layout': 4498,\n",
       " u'quaint': 6209,\n",
       " u'rico': 6561,\n",
       " u'bliss': 942,\n",
       " u'rick': 6560,\n",
       " u'rich': 6557,\n",
       " u'rice': 6556,\n",
       " u'plate': 5891,\n",
       " u'pocket': 5927,\n",
       " u'relish': 6417,\n",
       " u'nicely': 5266,\n",
       " u'dipping': 2357,\n",
       " u'pretzel': 6057,\n",
       " u'elote': 2678,\n",
       " u'boarded': 970,\n",
       " u'heirloom': 3771,\n",
       " u'pinot': 5849,\n",
       " u'pads': 5576,\n",
       " u'radius': 6258,\n",
       " u'48th': 101,\n",
       " u'lots': 4685,\n",
       " u'rings': 6577,\n",
       " u'yogurt': 8742,\n",
       " u'skimpy': 7122,\n",
       " u'rundown': 6685,\n",
       " u'nature': 5214,\n",
       " u'smelled': 7177,\n",
       " u'chandler': 1442,\n",
       " u'debt': 2173,\n",
       " u'veer': 8344,\n",
       " u'disdain': 2391,\n",
       " u'country': 1932,\n",
       " u'planned': 5882,\n",
       " u'argue': 504,\n",
       " u'hers': 3790,\n",
       " u'pregnancy': 6021,\n",
       " u'blonde': 950,\n",
       " u'priceline': 6065,\n",
       " u'union': 8247,\n",
       " u'fro': 3289,\n",
       " u'much': 5156,\n",
       " u'sommelier': 7254,\n",
       " u'gyoza': 3628,\n",
       " u'stadium': 7400,\n",
       " u'fry': 3305,\n",
       " u'dots': 2473,\n",
       " u'spit': 7350,\n",
       " u'worker': 8673,\n",
       " u'dave': 2144,\n",
       " u'doubts': 2476,\n",
       " u'worked': 8672,\n",
       " u'spin': 7343,\n",
       " u'lalibela': 4444,\n",
       " u'administrative': 233,\n",
       " u'professionally': 6110,\n",
       " u'ridiculously': 6569,\n",
       " u'upscale': 8291,\n",
       " u'hygienist': 3980,\n",
       " u'conditioner': 1801,\n",
       " u'hong': 3873,\n",
       " u'split': 7354,\n",
       " u'european': 2794,\n",
       " u'boiled': 983,\n",
       " u'jungle': 4321,\n",
       " u'qdoba': 6206,\n",
       " u'supper': 7645,\n",
       " u'acoustics': 197,\n",
       " u'corporate': 1905,\n",
       " u'massaging': 4867,\n",
       " u'capitol': 1306,\n",
       " u'appropriately': 485,\n",
       " u'sleepy': 7143,\n",
       " u'snickered': 7209,\n",
       " u'rotates': 6646,\n",
       " u'previous': 6061,\n",
       " u'ham': 3656,\n",
       " u'had': 3636,\n",
       " u'hay': 3726,\n",
       " u'innocent': 4118,\n",
       " u'has': 3705,\n",
       " u'hat': 3710,\n",
       " u'elevation': 2674,\n",
       " u'shadow': 6948,\n",
       " u'desire': 2281,\n",
       " u'alice': 327,\n",
       " u'festivities': 3014,\n",
       " u'attorney': 609,\n",
       " u'creek': 2008,\n",
       " u'crowd': 2035,\n",
       " u'crown': 2038,\n",
       " u'begin': 815,\n",
       " u'bottom': 1030,\n",
       " u'unit': 8251,\n",
       " u'treadmill': 8106,\n",
       " u'trite': 8134,\n",
       " u'price': 6063,\n",
       " u'shaker': 6951,\n",
       " u'shakes': 6952,\n",
       " u'substituted': 7583,\n",
       " u'losing': 4680,\n",
       " u'memorable': 4948,\n",
       " u'benches': 844,\n",
       " u'filipino': 3045,\n",
       " u'stoked': 7495,\n",
       " u'importantly': 4033,\n",
       " u'bath': 761,\n",
       " u'raised': 6266,\n",
       " u'mochi': 5075,\n",
       " u'som': 7242,\n",
       " u'sol': 7231,\n",
       " u'soo': 7263,\n",
       " u'son': 7255,\n",
       " u'magazines': 4754,\n",
       " u'wrap': 8696,\n",
       " u'fabric': 2908,\n",
       " u'support': 7650,\n",
       " u'constantly': 1838,\n",
       " u'tame': 7756,\n",
       " u'30p': 77,\n",
       " u'greatness': 3547,\n",
       " u'avocados': 641,\n",
       " u'diggity': 2335,\n",
       " u'magnificent': 4759,\n",
       " u'verde': 8367,\n",
       " u'paneled': 5611,\n",
       " u'masquerading': 4864,\n",
       " u'inside': 4128,\n",
       " u'nicest': 5268,\n",
       " u'servings': 6925,\n",
       " u'smashed': 7172,\n",
       " u'disgrace': 2393,\n",
       " u'calzones': 1269,\n",
       " u'sprouts': 7385,\n",
       " u'roll': 6619,\n",
       " u'intend': 4155,\n",
       " u'lollipops': 4662,\n",
       " u'palms': 5599,\n",
       " u'models': 5079,\n",
       " u'ramada': 6269,\n",
       " u'transported': 8090,\n",
       " u'scale': 6793,\n",
       " u'smelling': 7178,\n",
       " u'98': 142,\n",
       " u'pet': 5780,\n",
       " u'decision': 2184,\n",
       " u'chain': 1426,\n",
       " u'whoever': 8596,\n",
       " u'burritos': 1194,\n",
       " u'skate': 7112,\n",
       " u'chair': 1428,\n",
       " u'ballet': 700,\n",
       " u'crates': 1984,\n",
       " u'bicycles': 878,\n",
       " u'connecting': 1820,\n",
       " u'icing': 3989,\n",
       " u'jerk': 4270,\n",
       " u'choice': 1545,\n",
       " u'stays': 7448,\n",
       " u'exact': 2816,\n",
       " u'minute': 5035,\n",
       " u'cooks': 1883,\n",
       " u'epic': 2756,\n",
       " u'az88': 658,\n",
       " u'minnie': 5030,\n",
       " u'skewed': 7116,\n",
       " u'leave': 4522,\n",
       " u'settle': 6932,\n",
       " u'loads': 4641,\n",
       " u'spiritual': 7349,\n",
       " u'blade': 917,\n",
       " u'sigh': 7050,\n",
       " u'sign': 7053,\n",
       " u'shirts': 6996,\n",
       " u'chimichanga': 1530,\n",
       " u'melt': 4938,\n",
       " u'oldies': 5423,\n",
       " u'continuing': 1861,\n",
       " u'understanding': 8228,\n",
       " u'upgrade': 8285,\n",
       " u'address': 225,\n",
       " u'passengers': 5656,\n",
       " u'breathing': 1085,\n",
       " u'brilliant': 1100,\n",
       " u'accomplished': 182,\n",
       " u'texture': 7866,\n",
       " u'fake': 2935,\n",
       " u'crammed': 1976,\n",
       " u'working': 8675,\n",
       " u'angry': 403,\n",
       " u'hyatt': 3977,\n",
       " u'opposed': 5464,\n",
       " u'wicked': 8606,\n",
       " u'everywhere': 2810,\n",
       " u'originally': 5493,\n",
       " u'pretend': 6051,\n",
       " u'following': 3176,\n",
       " u'mirrors': 5040,\n",
       " u'employess': 2695,\n",
       " u'stetson': 7470,\n",
       " u'awesome': 652,\n",
       " u'allowed': 336,\n",
       " u'stole': 7496,\n",
       " u'listens': 4622,\n",
       " u'grousing': 3587,\n",
       " u'savor': 6782,\n",
       " u'thanking': 7877,\n",
       " u'matt': 4879,\n",
       " u'revealed': 6537,\n",
       " u'golfers': 3473,\n",
       " u'natural': 5212,\n",
       " u'conscious': 1825,\n",
       " u'sp': 7301,\n",
       " u'sw': 7681,\n",
       " u'st': 7396,\n",
       " u'mango': 4806,\n",
       " u'so': 7216,\n",
       " u'swollen': 7714,\n",
       " u'sb': 6791,\n",
       " u'sa': 6700,\n",
       " u'pulled': 6167,\n",
       " u'drunken': 2555,\n",
       " u'years': 8723,\n",
       " u'splurge': 7356,\n",
       " u'avid': 639,\n",
       " u'toro': 8032,\n",
       " u'jim': 4280,\n",
       " u'faves': 2974,\n",
       " u'stroll': 7542,\n",
       " u'overpowering': 5539,\n",
       " u'drilling': 2525,\n",
       " u'shouted': 7027,\n",
       " u'frank': 3243,\n",
       " u'didn': 2320,\n",
       " u'quarter': 6214,\n",
       " u'square': 7386,\n",
       " u'bursting': 1198,\n",
       " u'receipt': 6334,\n",
       " u'entering': 2738,\n",
       " u'salads': 6718,\n",
       " u'seriously': 6916,\n",
       " u'trauma': 8096,\n",
       " u'cobb': 1664,\n",
       " u'internet': 4169,\n",
       " u'disrespect': 2410,\n",
       " u'lucrative': 4715,\n",
       " u'grandma': 3517,\n",
       " u'mimi': 5015,\n",
       " u'eh': 2658,\n",
       " u'patronage': 5683,\n",
       " u'saving': 6780,\n",
       " u'spoken': 7361,\n",
       " u'one': 5437,\n",
       " u'mignon': 5002,\n",
       " u'open': 5448,\n",
       " u'city': 1594,\n",
       " u'bite': 907,\n",
       " u'stuffed': 7559,\n",
       " u'bits': 909,\n",
       " u'lingering': 4607,\n",
       " u'almond': 339,\n",
       " u'fooled': 3188,\n",
       " u'iceberg': 3984,\n",
       " u'yelping': 8732,\n",
       " u'coats': 1662,\n",
       " u'wandering': 8466,\n",
       " u'damned': 2119,\n",
       " u'cider': 1580,\n",
       " u'illness': 4009,\n",
       " u'turned': 8174,\n",
       " u'locations': 4653,\n",
       " u'mesquite': 4966,\n",
       " u'zoe': 8777,\n",
       " u'instructed': 4144,\n",
       " u'ironically': 4206,\n",
       " u'opposite': 5465,\n",
       " u'israeli': 4222,\n",
       " u'buffet': 1163,\n",
       " u'printed': 6080,\n",
       " u'lawn': 4489,\n",
       " u'average': 637,\n",
       " u'phil': 5793,\n",
       " u'drive': 2533,\n",
       " u'wind': 8622,\n",
       " u'chiang': 1508,\n",
       " u'laws': 4491,\n",
       " u'lotus': 4687,\n",
       " u'peaches': 5712,\n",
       " u'hopes': 3889,\n",
       " u'bright': 1099,\n",
       " u'inconsistent': 4061,\n",
       " u'aggressive': 286,\n",
       " u'calamari': 1254,\n",
       " u'assistant': 569,\n",
       " u'simplistic': 7074,\n",
       " u'resource': 6500,\n",
       " u'pimp': 5843,\n",
       " u'worried': 8681,\n",
       " u'tiki': 7964,\n",
       " u'pima': 5842,\n",
       " u'worries': 8682,\n",
       " u'tortilla': 8035,\n",
       " u'vision': 8407,\n",
       " u'anyways': 439,\n",
       " u'impressions': 4039,\n",
       " u'intoxicating': 4177,\n",
       " u'planet': 5880,\n",
       " u'sites': 7098,\n",
       " u'moldy': 5090,\n",
       " u'edamame': 2629,\n",
       " u'checkered': 1480,\n",
       " u'screen': 6837,\n",
       " u'awards': 647,\n",
       " u'concentrated': 1785,\n",
       " u'busting': 1207,\n",
       " u'many': 4817,\n",
       " u'45min': 98,\n",
       " u'plants': 5887,\n",
       " u'mani': 4808,\n",
       " u'grooming': 3578,\n",
       " u'potstickers': 5992,\n",
       " u'yearly': 8722,\n",
       " u'cokes': 1680,\n",
       " u'caring': 1330,\n",
       " u'west': 8562,\n",
       " u'artichokes': 532,\n",
       " u'camelback': 1271,\n",
       " u'wants': 8471,\n",
       " u'photos': 5806,\n",
       " u'former': 3212,\n",
       " u'32': 80,\n",
       " u'policies': 5940,\n",
       " u'pollo': 5947,\n",
       " u'newspaper': 5260,\n",
       " u'situation': 7102,\n",
       " u'ive': 4234,\n",
       " u'purse': 6193,\n",
       " u'technology': 7815,\n",
       " u'ivy': 4235,\n",
       " u'homophobia': 3867,\n",
       " u'wrappers': 8699,\n",
       " u'visually': 8415,\n",
       " u'hideaway': 3800,\n",
       " u'singapore': 7083,\n",
       " u'edges': 2632,\n",
       " u'barber': 725,\n",
       " u'six': 7103,\n",
       " u'awesomeness': 653,\n",
       " u'veal': 8343,\n",
       " u'norterra': 5315,\n",
       " u'steamed': 7457,\n",
       " u'being': 825,\n",
       " u'rest': 6512,\n",
       " u'cilantro': 1583,\n",
       " u'starving': 7433,\n",
       " u'crusty': 2051,\n",
       " u'around': 515,\n",
       " u'dark': 2132,\n",
       " u'traffic': 8073,\n",
       " u'preference': 6019,\n",
       " u'world': 8679,\n",
       " u'pizzaria': 5868,\n",
       " u'kennel': 4351,\n",
       " u'seating': 6860,\n",
       " u'learning': 4516,\n",
       " u'pickled': 5819,\n",
       " u'tvs': 8181,\n",
       " u'lobster': 4646,\n",
       " u'pickles': 5820,\n",
       " u'divine': 2427,\n",
       " u'memories': 4949,\n",
       " u'refer': 6367,\n",
       " u'biased': 876,\n",
       " u'zest': 8772,\n",
       " u'corkage': 1899,\n",
       " u'thailand': 7870,\n",
       " u'prepared': 6031,\n",
       " u'package': 5565,\n",
       " u'lively': 4629,\n",
       " u'homeless': 3861,\n",
       " u'apologize': 446,\n",
       " u'bubbly': 1146,\n",
       " u'her': 3786,\n",
       " u'hey': 3794,\n",
       " u'lounging': 4695,\n",
       " u'sealed': 6847,\n",
       " u'brazilian': 1069,\n",
       " u'hen': 3783,\n",
       " u'bubble': 1145,\n",
       " u'beginners': 816,\n",
       " u'with': 8645,\n",
       " u'pull': 6166,\n",
       " u'rush': 6689,\n",
       " u'october': 5387,\n",
       " u'rage': 6260,\n",
       " u'tripe': 8131,\n",
       " u'jamaican': 4247,\n",
       " u'dirty': 2366,\n",
       " u'trips': 8133,\n",
       " u'vehicles': 8354,\n",
       " u'johnny': 4288,\n",
       " u'watches': 8501,\n",
       " u'watched': 8500,\n",
       " u'tranquil': 8083,\n",
       " u'frys': 3307,\n",
       " u'cream': 1990,\n",
       " u'yoga': 8741,\n",
       " u'drafts': 2493,\n",
       " u'frittatas': 3286,\n",
       " u'tight': 7962,\n",
       " u'unparalleled': 8263,\n",
       " u'yummmm': 8765,\n",
       " u'friggin': 3282,\n",
       " u'puppy': 6181,\n",
       " u'sounding': 7287,\n",
       " u'terra': 7855,\n",
       " u'planners': 5883,\n",
       " u'tricks': 8124,\n",
       " u'mask': 4862,\n",
       " u'adam': 214,\n",
       " u'caused': 1382,\n",
       " u'beware': 868,\n",
       " u'ceramic': 1416,\n",
       " u'debris': 2172,\n",
       " u'macademia': 4738,\n",
       " u'causes': 1383,\n",
       " u'tv': 8180,\n",
       " u'to': 7992,\n",
       " u'tail': 7736,\n",
       " u'tj': 7991,\n",
       " u'midwest': 4999,\n",
       " u'norm': 5311,\n",
       " u'appointment': 474,\n",
       " u'returned': 6531,\n",
       " u'24th': 64,\n",
       " u'sans': 6752,\n",
       " u'cable': 1238,\n",
       " u'pbr': 5706,\n",
       " u'dodged': 2439,\n",
       " u'large': 4460,\n",
       " u'prosciutto': 6140,\n",
       " u'harry': 3701,\n",
       " u'small': 7166,\n",
       " u'chipolte': 1537,\n",
       " u'dodger': 2440,\n",
       " u'quicker': 6227,\n",
       " u'past': 5662,\n",
       " u'displays': 2407,\n",
       " u'pass': 5653,\n",
       " u'healer': 3734,\n",
       " u'investment': 4190,\n",
       " u'clock': 1636,\n",
       " u'hasn': 3708,\n",
       " u'full': 3317,\n",
       " u'november': 5337,\n",
       " u'weirded': 8550,\n",
       " u'experience': 2864,\n",
       " u'prior': 6082,\n",
       " u'periodic': 5763,\n",
       " u'followed': 3175,\n",
       " u'pulls': 6169,\n",
       " u'gosh': 3493,\n",
       " u'attendance': 599,\n",
       " u'pears': 5719,\n",
       " u'pearl': 5718,\n",
       " u'fragrance': 3235,\n",
       " u'gorgeous': 3491,\n",
       " u'more': 5118,\n",
       " u'door': 2468,\n",
       " u'company': 1740,\n",
       " u'corrected': 1907,\n",
       " u'tested': 7860,\n",
       " u'doom': 2467,\n",
       " u'morgan': 5120,\n",
       " u'learn': 4514,\n",
       " u'knocked': 4401,\n",
       " u'prompt': 6127,\n",
       " u'suggestions': 7612,\n",
       " u'heels': 3765,\n",
       " u'bogo': 981,\n",
       " u'huge': 3943,\n",
       " u'hugh': 3945,\n",
       " u'glowing': 3450,\n",
       " u'dilly': 2342,\n",
       " u'hugs': 3946,\n",
       " u'ingesting': 4109,\n",
       " u'sprinkle': 7380,\n",
       " u'intended': 4156,\n",
       " u'treatments': 8113,\n",
       " u'ethics': 2787,\n",
       " u'authentic': 623,\n",
       " u'refuse': 6383,\n",
       " u'resemble': 6487,\n",
       " u'register': 6391,\n",
       " u'volleyball': 8425,\n",
       " u'overcooked': 5525,\n",
       " u'replied': 6468,\n",
       " u'bocca': 979,\n",
       " u'mousse': 5139,\n",
       " u'installed': 4138,\n",
       " u'resorts': 6499,\n",
       " u'paper': 5622,\n",
       " u'scott': 6827,\n",
       " u'brim': 1101,\n",
       " u'signs': 7061,\n",
       " u'refried': 6380,\n",
       " u'smiling': 7184,\n",
       " u'brie': 1097,\n",
       " u'bummed': 1175,\n",
       " u'laced': 4432,\n",
       " u'zipps': 8776,\n",
       " u'bummer': 1176,\n",
       " u'sauce': 6769,\n",
       " u'colleague': 1687,\n",
       " u'sucker': 7596,\n",
       " u'bought': 1033,\n",
       " u'hundred': 3958,\n",
       " u'sucked': 7595,\n",
       " u'everytime': 2809,\n",
       " u'nauseous': 5215,\n",
       " u'spinning': 7346,\n",
       " u'courses': 1943,\n",
       " u'piping': 5853,\n",
       " u'found': 3224,\n",
       " u'shocking': 7002,\n",
       " u'chipping': 1539,\n",
       " u'begged': 813,\n",
       " u'upstairs': 8294,\n",
       " u'operation': 5458,\n",
       " u'lipstick': 4610,\n",
       " u'ernie': 2767,\n",
       " u'scoops': 6822,\n",
       " u'research': 6486,\n",
       " u'calzone': 1268,\n",
       " u'qualify': 6210,\n",
       " u'conditioning': 1802,\n",
       " u'definition': 2209,\n",
       " u'owners': 5553,\n",
       " u'bellinis': 835,\n",
       " u'guess': 3603,\n",
       " u'guest': 3606,\n",
       " u'introduction': 4183,\n",
       " u'swipe': 7708,\n",
       " u'saint': 6714,\n",
       " u'jen': 4267,\n",
       " u'warmly': 8480,\n",
       " u'mmmm': 5068,\n",
       " u'theater': 7885,\n",
       " u'uninteresting': 8246,\n",
       " u'thawing': 7883,\n",
       " u'getaway': 3400,\n",
       " u'levels': 4562,\n",
       " u'tummy': 8166,\n",
       " u'teensy': 7822,\n",
       " u'beforehand': 811,\n",
       " u'swanky': 7684,\n",
       " u'blond': 949,\n",
       " u'sell': 6894,\n",
       " u'fermented': 3010,\n",
       " u'self': 6893,\n",
       " u'also': 351,\n",
       " u'darts': 2135,\n",
       " u'understands': 8229,\n",
       " u'sometimes': 7251,\n",
       " u'barrel': 736,\n",
       " u'charged': 1458,\n",
       " u'dragged': 2495,\n",
       " u'ugh': 8199,\n",
       " u'golf': 3471,\n",
       " u'gold': 3468,\n",
       " u'blended': 935,\n",
       " u'accommodations': 175,\n",
       " u'overwhelmed': 5545,\n",
       " u'growler': 3590,\n",
       " u'access': 168,\n",
       " u'wraps': 8701,\n",
       " u'gooey': 3487,\n",
       " u'factor': 2920,\n",
       " u'banned': 718,\n",
       " u'sunny': 7632,\n",
       " u'remedy': 6427,\n",
       " u'baskin': 756,\n",
       " u'compass': 1747,\n",
       " u'devoured': 2308,\n",
       " u'pleasures': 5911,\n",
       " u'cry': 2052,\n",
       " u'caramel': 1313,\n",
       " u'insane': 4124,\n",
       " u'body': 980,\n",
       " u'delicately': 2221,\n",
       " u'jade': 4241,\n",
       " u'tip': 7982,\n",
       " u'project': 6120,\n",
       " u'spirits': 7348,\n",
       " u'pickup': 5822,\n",
       " u'monsters': 5109,\n",
       " u'thrive': 7939,\n",
       " u'knowing': 4405,\n",
       " u'incident': 4053,\n",
       " u'death': 2166,\n",
       " u'last': 4467,\n",
       " u'connection': 1821,\n",
       " u'retarded': 6526,\n",
       " u'bell': 833,\n",
       " u'acted': 203,\n",
       " u'scallop': 6795,\n",
       " u'adjoining': 230,\n",
       " u'church': 1574,\n",
       " u'belt': 841,\n",
       " u'souffle': 7281,\n",
       " u'gelato': 3375,\n",
       " u'squirrel': 7393,\n",
       " u'representative': 6472,\n",
       " u'despite': 2286,\n",
       " u'struck': 7547,\n",
       " u'hostess': 3907,\n",
       " u'straight': 7517,\n",
       " u'expanded': 2854,\n",
       " u'budget': 1158,\n",
       " u'pressed': 6048,\n",
       " u'reliably': 6412,\n",
       " u'cages': 1249,\n",
       " u'real': 6319,\n",
       " u'von': 8432,\n",
       " u'cuisine': 2064,\n",
       " u'spectacular': 7329,\n",
       " u'ama': 359,\n",
       " u'alert': 322,\n",
       " u'gonna': 3478,\n",
       " u'necessity': 5228,\n",
       " u'euro': 2792,\n",
       " u'concrete': 1795,\n",
       " u'approached': 482,\n",
       " u'feces': 2991,\n",
       " u'kelly': 4349,\n",
       " u'soaked': 7218,\n",
       " u'cheddar': 1485,\n",
       " u'using': 8309,\n",
       " u'drizzled': 2540,\n",
       " u'admission': 234,\n",
       " u'aloha': 343,\n",
       " u'eager': 2592,\n",
       " u'horseradish': 3901,\n",
       " u'parents': 5628,\n",
       " u'liqueur': 4611,\n",
       " u'defiantly': 2203,\n",
       " u'cordon': 1896,\n",
       " u'emergency': 2690,\n",
       " u'format': 3210,\n",
       " u'couple': 1937,\n",
       " u'shitty': 6998,\n",
       " u'weights': 8548,\n",
       " u'sorting': 7279,\n",
       " u'chorus': 1559,\n",
       " u'individuals': 4082,\n",
       " u'partying': 5652,\n",
       " u'methods': 4976,\n",
       " u'goddamn': 3462,\n",
       " u'sundaes': 7625,\n",
       " u'palm': 5597,\n",
       " u'curious': 2077,\n",
       " u'pale': 5594,\n",
       " u'seatings': 6861,\n",
       " u'assisted': 570,\n",
       " u'dating': 2140,\n",
       " u'numbers': 5346,\n",
       " u'odor': 5391,\n",
       " u'relating': 6400,\n",
       " u'deserved': 2273,\n",
       " u'deserves': 2274,\n",
       " u'agave': 279,\n",
       " u'wrinkled': 8703,\n",
       " u'colorado': 1695,\n",
       " u'awaited': 645,\n",
       " u'gyros': 3630,\n",
       " u'katie': 4341,\n",
       " u'span': 7309,\n",
       " u'tasting': 7785,\n",
       " u'exposed': 2882,\n",
       " u'suit': 7614,\n",
       " u'opens': 5451,\n",
       " u'strives': 7541,\n",
       " u'elsewhere': 2680,\n",
       " u'hawaiian': 3725,\n",
       " u'graciously': 3507,\n",
       " u'poster': 5985,\n",
       " u'atlantic': 587,\n",
       " u'posted': 5984,\n",
       " u'uv': 8319,\n",
       " u'up': 8278,\n",
       " u'us': 8301,\n",
       " u'ur': 8297,\n",
       " u'um': 8205,\n",
       " u'un': 8208,\n",
       " u'uh': 8201,\n",
       " u'mouthwatering': 5142,\n",
       " u'yelled': 8724,\n",
       " u'chai': 1425,\n",
       " u'influence': 4099,\n",
       " u'char': 1452,\n",
       " u'diverse': 2424,\n",
       " u'chat': 1469,\n",
       " u'fixing': 3101,\n",
       " u'duper': 2576,\n",
       " u'bianco': 874,\n",
       " u'lane': 4455,\n",
       " u'land': 4450,\n",
       " u'holes': 3854,\n",
       " u'beverage': 866,\n",
       " u'enrolled': 2733,\n",
       " u'fresh': 3265,\n",
       " u'having': 3723,\n",
       " u'melty': 4942,\n",
       " u'melts': 4941,\n",
       " u'scratch': 6833,\n",
       " u'seemed': 6884,\n",
       " u'turkish': 8172,\n",
       " u'young': 8748,\n",
       " u'stocked': 7493,\n",
       " u'reopened': 6455,\n",
       " u'mixing': 5061,\n",
       " u'decorating': 2192,\n",
       " u'wipe': 8635,\n",
       " u'magic': 4755,\n",
       " u'harbor': 3691,\n",
       " u'experiencing': 2867,\n",
       " u'fennel': 3009,\n",
       " u'anxious': 429,\n",
       " u'race': 6247,\n",
       " u'chompie': 1549,\n",
       " u'rack': 6251,\n",
       " u'licensed': 4567,\n",
       " u'spaghetti': 7306,\n",
       " u'sauerkraut': 6772,\n",
       " u'delicous': 2226,\n",
       " u'sweaty': 7692,\n",
       " u'consistently': 1833,\n",
       " u'sooooooooo': 7269,\n",
       " u'flowing': 3152,\n",
       " u'praise': 6009,\n",
       " u'punch': 6176,\n",
       " u'fifteen': 3029,\n",
       " u'casino': 1363,\n",
       " u'resulting': 6523,\n",
       " u'cousins': 1953,\n",
       " u'makes': 4779,\n",
       " u'maker': 4778,\n",
       " u'thats': 7881,\n",
       " u'steamers': 7458,\n",
       " u'confidence': 1808,\n",
       " u'francis': 3241,\n",
       " u'chocolates': 1544,\n",
       " u'bush': 1201,\n",
       " u'next': 5261,\n",
       " u'midday': 4996,\n",
       " u'baba': 660,\n",
       " u'pencil': 5737,\n",
       " u'customer': 2092,\n",
       " u'challenge': 1431,\n",
       " u'clients': 1628,\n",
       " u'wedge': 8532,\n",
       " u'process': 6098,\n",
       " u'lock': 4654,\n",
       " u'rode': 6617,\n",
       " u'paws': 5696,\n",
       " u'gums': 3618,\n",
       " u'educational': 2640,\n",
       " u'arribas': 522,\n",
       " u'delay': 2215,\n",
       " u'numerous': 5348,\n",
       " u'hormones': 3894,\n",
       " u'fits': 3094,\n",
       " u'cabbage': 1234,\n",
       " u'tomato': 8010,\n",
       " u'realized': 6323,\n",
       " u'counter': 1928,\n",
       " u'reminders': 6435,\n",
       " u'element': 2671,\n",
       " u'classy': 1608,\n",
       " u'houston': 3924,\n",
       " u'boxing': 1050,\n",
       " u'move': 5143,\n",
       " u'artichoke': 531,\n",
       " u'perfect': 5752,\n",
       " u'chosen': 1561,\n",
       " u'degrees': 2212,\n",
       " u'2011': 56,\n",
       " u'2010': 55,\n",
       " u'2012': 57,\n",
       " u'dock': 2436,\n",
       " u'legendary': 4536,\n",
       " u'rotation': 6648,\n",
       " u'realize': 6322,\n",
       " u'presidential': 6046,\n",
       " u'minimalist': 5027,\n",
       " u'scenic': 6808,\n",
       " u'peking': 5736,\n",
       " u'betty': 864,\n",
       " u'truth': 8152,\n",
       " u'shortage': 7014,\n",
       " u'glasses': 3438,\n",
       " u'bums': 1179,\n",
       " u'ambiance': 370,\n",
       " u'books': 1003,\n",
       " u'boutique': 1040,\n",
       " u'hilarious': 3814,\n",
       " u'incompetence': 4059,\n",
       " u'release': 6407,\n",
       " u'chilli': 1527,\n",
       " u'could': 1924,\n",
       " u'chilly': 1528,\n",
       " u'length': 4547,\n",
       " u'dominick': 2455,\n",
       " u'scene': 6805,\n",
       " u'soothing': 7270,\n",
       " u'lol': 4660,\n",
       " u'mandatory': 4803,\n",
       " u'start': 7427,\n",
       " u'ordering': 5479,\n",
       " u'tostada': 8040,\n",
       " u'gummy': 3617,\n",
       " u'stomach': 7498,\n",
       " u'stars': 7426,\n",
       " u'shorts': 7017,\n",
       " u'mojitos': 5087,\n",
       " u'shorty': 7018,\n",
       " u'supervision': 7643,\n",
       " u'vouch': 8434,\n",
       " u'bother': 1024,\n",
       " u'roberto': 6608,\n",
       " u'reacted': 6312,\n",
       " u'immaculate': 4020,\n",
       " u'imho': 4018,\n",
       " u'false': 2941,\n",
       " u'gently': 3391,\n",
       " u'tonight': 8019,\n",
       " u'gentle': 3388,\n",
       " u'receptionist': 6343,\n",
       " u'dishes': 2399,\n",
       " u'linen': 4604,\n",
       " u'mills': 5014,\n",
       " u'hangover': 3679,\n",
       " u'waffles': 8439,\n",
       " u'sinatra': 7077,\n",
       " u'korean': 4417,\n",
       " u'pitches': 5864,\n",
       " u'courtesy': 1946,\n",
       " u'romaine': 6624,\n",
       " u'thanksgiving': 7879,\n",
       " u'face': 2910,\n",
       " u'bartenders': 741,\n",
       " u'mechanical': 4920,\n",
       " u'brew': 1088,\n",
       " u'fact': 2919,\n",
       " u'bring': 1103,\n",
       " u'brine': 1102,\n",
       " u'decade': 2175,\n",
       " u'noir': 5293,\n",
       " u'jay': 4259,\n",
       " u'jar': 4255,\n",
       " u'should': 7021,\n",
       " u'terminal': 7853,\n",
       " u'jam': 4246,\n",
       " u'riding': 6570,\n",
       " u'jac': 4236,\n",
       " u'meant': 4908,\n",
       " u'handle': 3666,\n",
       " u'means': 4907,\n",
       " ...}"
      ]
     },
     "execution_count": 35,
     "metadata": {},
     "output_type": "execute_result"
    }
   ],
   "source": [
    "# Let's take a look at the vocabulary that was generated, containing 16,825 unique words.\n",
    "#   'vocabulary_' is a dictionary that converts each word to its index in the sparse matrix.\n",
    "#   - For example, the word \"four\" is index #3230 in the sparse matrix.\n",
    "\n",
    "vect.vocabulary_"
   ]
  },
  {
   "cell_type": "code",
   "execution_count": 39,
   "metadata": {},
   "outputs": [
    {
     "data": {
      "text/plain": [
       "array([[0, 0, 0, ..., 0, 0, 0],\n",
       "       [0, 0, 0, ..., 0, 0, 0],\n",
       "       [0, 0, 0, ..., 0, 0, 0],\n",
       "       ..., \n",
       "       [0, 0, 0, ..., 0, 0, 0],\n",
       "       [0, 0, 0, ..., 0, 0, 0],\n",
       "       [0, 0, 0, ..., 0, 0, 0]], dtype=int64)"
      ]
     },
     "execution_count": 39,
     "metadata": {},
     "output_type": "execute_result"
    }
   ],
   "source": [
    "# Finally, let's convert the sparse matrix to a typical ndarray using .toarray()\n",
    "#   - Remember, this takes up a lot more memory than the sparse matrix! However, this conversion is sometimes necessary.\n",
    "\n",
    "X_test_dtm.toarray()"
   ]
  },
  {
   "cell_type": "code",
   "execution_count": 42,
   "metadata": {
    "collapsed": true
   },
   "outputs": [],
   "source": [
    "# We will use this function below for simplicity.\n",
    "\n",
    "# Define a function that accepts a vectorizer and calculates the accuracy.\n",
    "def tokenize_test(vect):\n",
    "    X_train_dtm = vect.fit_transform(X_train)\n",
    "    print('Features: ', X_train_dtm.shape[1])\n",
    "    X_test_dtm = vect.transform(X_test)\n",
    "    nb = MultinomialNB()\n",
    "    nb.fit(X_train_dtm, y_train)\n",
    "    y_pred_class = nb.predict(X_test_dtm)\n",
    "    print('Accuracy: ', metrics.accuracy_score(y_test, y_pred_class))"
   ]
  },
  {
   "cell_type": "code",
   "execution_count": 41,
   "metadata": {},
   "outputs": [
    {
     "name": "stdout",
     "output_type": "stream",
     "text": [
      "('Features: ', 8783)\n",
      "('Accuracy: ', 0.92465753424657537)\n"
     ]
    }
   ],
   "source": [
    "# min_df ignores words that occur less than twice ('df' means \"document frequency\").\n",
    "vect = CountVectorizer(min_df=2, max_features=10000)\n",
    "tokenize_test(vect)"
   ]
  },
  {
   "cell_type": "markdown",
   "metadata": {},
   "source": [
    "Let's take a look next at other ways of preprocessing text!\n",
    "\n",
    "- **Objective:** Demonstrate common text preprocessing techniques.\n",
    "\n",
    "<a id='ngrams'></a>\n",
    "### N-Grams"
   ]
  },
  {
   "cell_type": "markdown",
   "metadata": {},
   "source": [
    "N-grams are features which consist of N consecutive words. This is useful because using the bag-of-words model, treating `data scientist` as a single feature has more meaning than having two independent features `data` and `scientist`!\n",
    "\n",
    "Example:\n",
    "```\n",
    "my cat is awesome\n",
    "Unigrams (1-grams): 'my', 'cat', 'is', 'awesome'\n",
    "Bigrams (2-grams): 'my cat', 'cat is', 'is awesome'\n",
    "Trigrams (3-grams): 'my cat is', 'cat is awesome'\n",
    "4-grams: 'my cat is awesome'\n",
    "```\n",
    "\n",
    "- **ngram_range:** tuple (min_n, max_n)\n",
    "- The lower and upper boundary of the range of n-values for different n-grams to be extracted. All values of n such that min_n <= n <= max_n will be used."
   ]
  },
  {
   "cell_type": "code",
   "execution_count": 69,
   "metadata": {},
   "outputs": [
    {
     "data": {
      "text/plain": [
       "(3064, 169847)"
      ]
     },
     "execution_count": 69,
     "metadata": {},
     "output_type": "execute_result"
    }
   ],
   "source": [
    "# Include 1-grams and 2-grams.\n",
    "vect = CountVectorizer(ngram_range=(1, 2))\n",
    "X_train_dtm = vect.fit_transform(X_train)\n",
    "X_train_dtm.shape"
   ]
  },
  {
   "cell_type": "markdown",
   "metadata": {},
   "source": [
    "We can start to see how supplementing our features with n-grams can lead to more feature columns. When we produce n-grams from a document with $W$ words, we add an additional $(n-W+1)$ features (at most). That said, be careful — when we compute n-grams from an entire corpus, the number of _unique_ n-grams could be vastly higher than the number of _unique_ unigrams! This could cause an undesired feature explosion.\n",
    "\n",
    "Although we sometimes add important new features that have meaning such as `data scientist`, many of the new features will just be noise. So, particularly if we do not have much data, adding n-grams can actually decrease model performance. This is because if each n-gram is only present once or twice in the training set, we are effectively adding mostly noisy features to the mix."
   ]
  },
  {
   "cell_type": "code",
   "execution_count": 12,
   "metadata": {
    "scrolled": true
   },
   "outputs": [
    {
     "name": "stdout",
     "output_type": "stream",
     "text": [
      "[u'youthful', u'youtube', u'yow', u'yr', u'yrs', u'yu', u'yuck', u'yucky', u'yuk', u'yukon', u'yum', u'yumm', u'yummie', u'yummier', u'yumminess', u'yummm', u'yummmm', u'yummmmmmers', u'yummmmy', u'yummy', u'yumness', u'yup', u'yuppies', u'yuuuuummmmmyyy', u'yuyuyummy', u'yuzu', u'yyyyy', u'za', u'zen', u'zero', u'zest', u'zhou', u'zilch', u'zinc', u'zing', u'zip', u'zipper', u'ziti', u'zone', u'zones', u'zoning', u'zoo', u'zucchini', u'zuchinni', u'zupa', u'zwiebel', u'zzed', u'\\xc9cole', u'\\xe9clairs', u'\\xe9m']\n"
     ]
    }
   ],
   "source": [
    "# Last 50 features\n",
    "print(vect.get_feature_names()[-50:])"
   ]
  },
  {
   "cell_type": "markdown",
   "metadata": {},
   "source": [
    "<a id='stopwords'></a>\n",
    "\n",
    "### Stop-Word Removal\n",
    "\n",
    "- **What:** This process is used to remove common words that will likely appear in any text.\n",
    "- **Why:** Because common words exist in most documents, they likely only add noise to your model and should be removed.\n",
    "\n",
    "**What are stop words?**\n",
    "Stop words are some of the most common words in a language. They are used so that a sentence makes sense grammatically, such as prepositions and determiners, e.g., \"to,\" \"the,\" \"and.\" However, they are so commonly used that they are generally worthless for predicting the class of a document. Since \"a\" appears in spam and non-spam emails, for example, it would only contribute noise to our model.\n",
    "\n",
    "Example: \n",
    "\n",
    "> 1. Original sentence: \"The dog jumped over the fence\"  \n",
    "> 2. After stop-word removal: \"dog jumped over fence\"\n",
    "\n",
    "The fact that there is a fence and a dog jumped over it can be derived with or without stop words."
   ]
  },
  {
   "cell_type": "code",
   "execution_count": 44,
   "metadata": {},
   "outputs": [
    {
     "data": {
      "text/plain": [
       "CountVectorizer(analyzer=u'word', binary=False, decode_error=u'strict',\n",
       "        dtype=<type 'numpy.int64'>, encoding=u'utf-8', input=u'content',\n",
       "        lowercase=True, max_df=1.0, max_features=10000, min_df=2,\n",
       "        ngram_range=(1, 1), preprocessor=None, stop_words=None,\n",
       "        strip_accents=None, token_pattern=u'(?u)\\\\b\\\\w\\\\w+\\\\b',\n",
       "        tokenizer=None, vocabulary=None)"
      ]
     },
     "execution_count": 44,
     "metadata": {},
     "output_type": "execute_result"
    }
   ],
   "source": [
    "# Show vectorizer options.\n",
    "vect"
   ]
  },
  {
   "cell_type": "markdown",
   "metadata": {},
   "source": [
    "- **stop_words:** string {`english`}, list, or None (default)\n",
    "- If `english`, a built-in stop word list for English is used.\n",
    "- If a list, that list is assumed to contain stop words, all of which will be removed from the resulting tokens.\n",
    "- If None, no stop words will be used. `max_df` can be set to a value in the range [0.7, 1.0) to automatically detect and filter stop words based on intra corpus document frequency of terms. (If `max_df` = 0.7, then if > 70% of documents contain a word it will not be included in the feature set!)"
   ]
  },
  {
   "cell_type": "code",
   "execution_count": 45,
   "metadata": {},
   "outputs": [
    {
     "name": "stdout",
     "output_type": "stream",
     "text": [
      "('Features: ', 16528)\n",
      "('Accuracy: ', 0.91585127201565553)\n"
     ]
    },
    {
     "data": {
      "text/plain": [
       "{'analyzer': u'word',\n",
       " 'binary': False,\n",
       " 'decode_error': u'strict',\n",
       " 'dtype': numpy.int64,\n",
       " 'encoding': u'utf-8',\n",
       " 'input': u'content',\n",
       " 'lowercase': True,\n",
       " 'max_df': 1.0,\n",
       " 'max_features': None,\n",
       " 'min_df': 1,\n",
       " 'ngram_range': (1, 1),\n",
       " 'preprocessor': None,\n",
       " 'stop_words': 'english',\n",
       " 'strip_accents': None,\n",
       " 'token_pattern': u'(?u)\\\\b\\\\w\\\\w+\\\\b',\n",
       " 'tokenizer': None,\n",
       " 'vocabulary': None}"
      ]
     },
     "execution_count": 45,
     "metadata": {},
     "output_type": "execute_result"
    }
   ],
   "source": [
    "# Remove English stop words.\n",
    "vect = CountVectorizer(stop_words='english')\n",
    "tokenize_test(vect)\n",
    "vect.get_params()"
   ]
  },
  {
   "cell_type": "code",
   "execution_count": 46,
   "metadata": {},
   "outputs": [
    {
     "name": "stdout",
     "output_type": "stream",
     "text": [
      "frozenset(['all', 'six', 'less', 'being', 'indeed', 'over', 'move', 'anyway', 'fifty', 'four', 'not', 'own', 'through', 'yourselves', 'go', 'where', 'mill', 'only', 'find', 'before', 'one', 'whose', 'system', 'how', 'somewhere', 'with', 'thick', 'show', 'had', 'enough', 'should', 'to', 'must', 'whom', 'seeming', 'under', 'ours', 'has', 'might', 'thereafter', 'latterly', 'do', 'them', 'his', 'around', 'than', 'get', 'very', 'de', 'none', 'cannot', 'every', 'whether', 'they', 'front', 'during', 'thus', 'now', 'him', 'nor', 'name', 'several', 'hereafter', 'always', 'who', 'cry', 'whither', 'this', 'someone', 'either', 'each', 'become', 'thereupon', 'sometime', 'side', 'two', 'therein', 'twelve', 'because', 'often', 'ten', 'our', 'eg', 'some', 'back', 'up', 'namely', 'towards', 'are', 'further', 'beyond', 'ourselves', 'yet', 'out', 'even', 'will', 'what', 'still', 'for', 'bottom', 'mine', 'since', 'please', 'forty', 'per', 'its', 'everything', 'behind', 'un', 'above', 'between', 'it', 'neither', 'seemed', 'ever', 'across', 'she', 'somehow', 'be', 'we', 'full', 'never', 'sixty', 'however', 'here', 'otherwise', 'were', 'whereupon', 'nowhere', 'although', 'found', 'alone', 're', 'along', 'fifteen', 'by', 'both', 'about', 'last', 'would', 'anything', 'via', 'many', 'could', 'thence', 'put', 'against', 'keep', 'etc', 'amount', 'became', 'ltd', 'hence', 'onto', 'or', 'con', 'among', 'already', 'co', 'afterwards', 'formerly', 'within', 'seems', 'into', 'others', 'while', 'whatever', 'except', 'down', 'hers', 'everyone', 'done', 'least', 'another', 'whoever', 'moreover', 'couldnt', 'throughout', 'anyhow', 'yourself', 'three', 'from', 'her', 'few', 'together', 'top', 'there', 'due', 'been', 'next', 'anyone', 'eleven', 'much', 'call', 'therefore', 'interest', 'then', 'thru', 'themselves', 'hundred', 'was', 'sincere', 'empty', 'more', 'himself', 'elsewhere', 'mostly', 'on', 'fire', 'am', 'becoming', 'hereby', 'amongst', 'else', 'part', 'everywhere', 'too', 'herself', 'former', 'those', 'he', 'me', 'myself', 'made', 'twenty', 'these', 'bill', 'cant', 'us', 'until', 'besides', 'nevertheless', 'below', 'anywhere', 'nine', 'can', 'of', 'toward', 'my', 'something', 'and', 'whereafter', 'whenever', 'give', 'almost', 'wherever', 'is', 'describe', 'beforehand', 'herein', 'an', 'as', 'itself', 'at', 'have', 'in', 'seem', 'whence', 'ie', 'any', 'fill', 'again', 'hasnt', 'inc', 'thereby', 'thin', 'no', 'perhaps', 'latter', 'meanwhile', 'when', 'detail', 'same', 'wherein', 'beside', 'also', 'that', 'other', 'take', 'which', 'becomes', 'you', 'if', 'nobody', 'see', 'though', 'may', 'after', 'upon', 'most', 'hereupon', 'eight', 'but', 'serious', 'nothing', 'such', 'your', 'why', 'a', 'off', 'whereby', 'third', 'i', 'whole', 'noone', 'sometimes', 'well', 'amoungst', 'yours', 'their', 'rather', 'without', 'so', 'five', 'the', 'first', 'whereas', 'once'])\n"
     ]
    }
   ],
   "source": [
    "# Set of stop words\n",
    "print(vect.get_stop_words())"
   ]
  },
  {
   "cell_type": "markdown",
   "metadata": {},
   "source": [
    "<a id='cvec_opt'></a>\n",
    "### Other CountVectorizer Options"
   ]
  },
  {
   "cell_type": "markdown",
   "metadata": {},
   "source": [
    "- `max_features`: int or None, default=None\n",
    "- If not None, build a vocabulary that only consider the top `max_features` ordered by term frequency across the corpus. This allows us to keep more common n-grams and remove ones that may appear once. If we include words that only occur once, this can lead to said features being highly associated with a class and cause overfitting."
   ]
  },
  {
   "cell_type": "code",
   "execution_count": 79,
   "metadata": {},
   "outputs": [
    {
     "name": "stdout",
     "output_type": "stream",
     "text": [
      "('Features: ', 100)\n",
      "('Accuracy: ', 0.86986301369863017)\n"
     ]
    }
   ],
   "source": [
    "# Remove English stop words and only keep 100 features.\n",
    "vect = CountVectorizer(stop_words='english', max_features=100)\n",
    "tokenize_test(vect)"
   ]
  },
  {
   "cell_type": "code",
   "execution_count": 47,
   "metadata": {},
   "outputs": [
    {
     "name": "stdout",
     "output_type": "stream",
     "text": [
      "[u'00', u'000', u'00a', u'00am', u'00pm', u'01', u'02', u'03', u'03342', u'04', u'05', u'06', u'07', u'09', u'0buxoc0crqjpvkezo3bqog', u'0l', u'10', u'100', u'1000', u'1000x', u'1001', u'100th', u'101', u'102', u'105', u'1070', u'108', u'10am', u'10ish', u'10min', u'10mins', u'10minutes', u'10pm', u'10th', u'10x', u'11', u'110', u'1100', u'111', u'111th', u'112', u'115th', u'118', u'11a', u'11am', u'11p', u'11pm', u'12', u'120', u'128i', u'129', u'12am', u'12oz', u'12pm', u'12th', u'13', u'14', u'140', u'147', u'14lbs', u'15', u'150', u'1500', u'150mm', u'15am', u'15mins', u'15pm', u'15th', u'16', u'160', u'165', u'169', u'16th', u'17', u'17p', u'18', u'180', u'18th', u'19', u'1900', u'1913', u'1928', u'1929', u'1930s', u'1940', u'1952', u'1955', u'1956', u'1960', u'1961', u'1969', u'1970', u'1980', u'1980s', u'1987', u'1990s', u'1992', u'1995', u'1996', u'1998', u'1999', u'19th', u'1cent', u'1k', u'1p', u'1pm', u'1st', u'20', u'200', u'2002', u'2003', u'2004', u'2005', u'2006', u'2007', u'2008', u'2009', u'200lbs', u'2010', u'2011', u'2012', u'202', u'20mbs', u'20miles', u'20min', u'20pm', u'20s', u'20th', u'20x', u'21', u'22', u'220', u'2240', u'22oz', u'23', u'24', u'24hrs', u'24st', u'24th', u'25', u'250', u'25b', u'25min', u'25th', u'26', u'260', u'2600', u'2608', u'2669', u'26th', u'27', u'272', u'28', u'29', u'29th', u'2am', u'2mbps', u'2nd', u'2pm', u'2rd', u'2wice', u'2x', u'30', u'300', u'3000', u'30am', u'30p', u'30pm', u'30th', u'31', u'311', u'312', u'32', u'33', u'33rd', u'34', u'34th', u'35', u'350ib', u'35c', u'35th', u'36', u'37', u'370', u'38', u'38th', u'39', u'3am', u'3d', u'3g', u'3k', u'3lbs', u'3n9u549zse8up', u'3p', u'3pm', u'3rd', u'3x', u'40', u'400', u'4000', u'40lm', u'40min', u'40th', u'41', u'411', u'4113416766', u'42', u'420', u'43', u'44', u'4458', u'44th', u'45', u'453990', u'45min', u'45pm', u'46', u'475', u'48', u'480', u'48th', u'49', u'490', u'4b', u'4hr', u'4pm', u'4th', u'50', u'500', u'50cents', u'50lm', u'50s', u'51', u'51pm', u'52', u'5231', u'53', u'53pm', u'54', u'55', u'56', u'57', u'59', u'59th', u'5k', u'5min', u'5p', u'5pm', u'5stars', u'5th', u'60', u'600', u'602', u'61', u'61st', u'62010', u'623', u'63', u'64', u'64th', u'65', u'66', u'67', u'68', u'680', u'69', u'6am', u'6p', u'6pm', u'6th', u'70', u'700', u'70s', u'70th', u'71', u'71st', u'75', u'750', u'755891987', u'76', u'79', u'7am', u'7pm', u'7th', u'80', u'800', u'8000hp', u'80s', u'81', u'83', u'832', u'83rd', u'85', u'85154658', u'86', u'88', u'89', u'8am', u'8pm', u'8th', u'8v', u'8yo', u'90', u'90s', u'91', u'911', u'945am', u'95', u'96', u'977', u'98', u'99', u'9999', u'99cent', u'9oz', u'9p', u'9pm', u'9year', u'9yo', u'______', u'_______________', u'_c', u'_gyib8ea4hdfylss17zc_g', u'a1', u'aa', u'aaa', u'aaaamazing', u'aaammmazzing', u'aaron', u'ab', u'abandoned', u'abandoning', u'abba', u'abbreviate', u'abbreviated', u'abby', u'abc', u'abdomen', u'abilities', u'ability', u'able', u'abodoba', u'abound', u'abrasion', u'abroad', u'abrupt', u'absent', u'absinthe', u'absoloutely', u'absolut', u'absolute', u'absolutely', u'absolutley', u'absolutly', u'abstained', u'absurd', u'abuelo', u'abundance', u'abundant', u'abuse', u'abused', u'abusive', u'ac', u'academy', u'acapulco', u'accent', u'accented', u'accents', u'accept', u'acceptable', u'accepted', u'access', u'accessed', u'accessible', u'accessories', u'accessorize', u'accessory', u'accident', u'accidental', u'accidentally', u'accolades', u'accommodate', u'accommodated', u'accommodates', u'accommodating', u'accommodations', u'accomodate', u'accomodating', u'accompanied', u'accompanies', u'accompaniment', u'accompany', u'accompanying', u'accomplish', u'accomplished', u'accomplishment', u'according', u'accordingly', u'account', u'accounts', u'accoutrement', u'accredited', u'accross', u'accurate', u'accurately', u'accusation', u'accustom', u'accustomed', u'accutemp', u'ace', u'ache', u'aches', u'achieve', u'achievement', u'acid', u'acidic', u'acknowledge', u'acknowledged', u'acknowledgement', u'acknowledging', u'ackward', u'acne', u'acoustic', u'acoustics', u'acquaintance', u'acres', u'acrid', u'acrimonious', u'acrylics', u'act', u'acted', u'acting', u'action', u'actions', u'activation', u'active', u'actively', u'activism', u'activities', u'activity', u'actor', u'actors', u'acts', u'actual', u'actually', u'actualy', u'actully', u'acute', u'acy', u'ad', u'adage', u'adam', u'adamant', u'adams', u'adapter', u'add', u'added', u'addendum', u'addict', u'addicted', u'addicting', u'addictingly', u'addiction', u'addictionovercome', u'addictive', u'addicts', u'adding', u'addition', u'additional', u'additionally', u'additions', u'address', u'addressed', u'addressing', u'adds', u'ade', u'adelman', u'adequate', u'adequately', u'adios', u'adjacent', u'adjoining', u'adjust', u'adjusted', u'adjustment', u'adjustments', u'administrative', u'admire', u'admission', u'admit', u'admits', u'admitted', u'admittedly', u'admitting', u'admonishment', u'adobada', u'adobe', u'adobo', u'adolescence', u'adopt', u'adopted', u'adoption', u'adoptions', u'adorable', u'adore', u'adorning', u'adovada', u'adquate', u'adrienne', u'ads', u'adult', u'adulthood', u'adults', u'advance', u'advanced', u'advancing', u'advantage', u'advantages', u'adventure', u'adventures', u'adventurous', u'adverse', u'adversity', u'advertise', u'advertised', u'advertisement', u'advertising', u'adverts', u'advice', u'advise', u'advised', u'advising', u'advisor', u'advocate', u'advocated', u'aeg', u'aerators', u'aerobic', u'aerobics', u'aeropress', u'aesthetically', u'aesthetics', u'affair', u'affect', u'affected', u'affects', u'afficianados', u'affiliated', u'affiliation', u'affluent', u'afforadable', u'afford', u'affordable', u'aficionado', u'aficionados', u'afloat', u'aforementioned', u'afoul', u'afraid', u'africa', u'afterall', u'afterdark', u'afterglow', u'afternoon', u'afternoons', u'aftertaste', u'afterthought', u'afterward', u'agape', u'agave', u'agaves', u'age', u'aged', u'agency', u'agent', u'agents', u'ages', u'aggressive', u'aging', u'agitated', u'ago', u'agonizing', u'agree', u'agreeable', u'agreed', u'agreeing', u'agreement', u'agrees', u'agua', u'aguas', u'agwa', u'ah', u'ahead', u'ahem', u'ahh', u'ahhh', u'ahhhh', u'ahhhhh', u'ahi', u'ahold', u'ahwatukee', u'aid', u'aiello', u'aiko', u'aim', u'aimed', u'aimlessly', u'aims', u'ain', u'aint', u'aioli', u'aiptasia', u'air', u'airconditioned', u'airfair', u'airfare', u'airline', u'airlines', u'airpark', u'airplane', u'airport', u'airports', u'airwarys', u'airways', u'airy', u'aisha', u'aisle', u'aisles', u'aj', u'aji', u'ajo', u'ajos', u'ajs', u'ajvar', u'aka', u'aki', u'aknowledging', u'akor', u'al', u'ala', u'alabama', u'alain', u'alameda', u'alan', u'alarmed', u'alas', u'alaskan', u'alaus', u'albacore', u'albeit', u'alber', u'album', u'albums', u'alcohol', u'alcoholic', u'aldo', u'ale', u'alert', u'alex', u'alexandra', u'alfalfa', u'alfonso', u'alfred', u'alfredo', u'algae', u'ali', u'alice', u'alicia', u'aliens', u'alike', u'alittle', u'alive', u'alla', u'allayed', u'alleged', u'allegiant', u'allen', u'allende', u'allergen', u'allergic', u'allergies', u'allergy', u'alleviated', u'alley', u'alligator', u'allocating', u'allot', u'alloted', u'allotted', u'allow', u'allowable', u'allowance', u'allowed', u'allowing', u'allows', u'allure', u'almond', u'almonds', u'aloe', u'alofts', u'aloha', u'alongside', u'alons', u'aloo', u'aloof', u'alot', u'aloud', u'alp', u'alright', u'alteration', u'alterations', u'altercation', u'altered', u'altering', u'alternately', u'alternative', u'alternatively', u'alternatives', u'altic', u'aluminum', u'alway', u'ama', u'amaaaaazing', u'amaazing', u'amados', u'amalfi', u'amanda', u'amaretti', u'amaretto', u'amarillo', u'amaro', u'amateur', u'amaze', u'amazed', u'amazement', u'amazes', u'amazing', u'amazingly', u'amazingness', u'amazon', u'amazzzzzzing', u'ambassador', u'amber', u'ambiance', u'ambience', u'ambient', u'ambrosia', u'amc', u'amenable', u'amendment', u'amenities', u'america', u'american', u'americana', u'americanized', u'americano', u'americanos', u'americans', u'ami', u'amicable', u'amidst', u'amin', u'amish', u'ammo', u'amomi', u'amore', u'amounted', u'amounts', u'amp', u'amphitheatre', u'ample', u'ampm', u'amtrack', u'amuse', u'amused', u'amusement', u'amusing', u'amy', u'anal', u'analysis', u'ancho', u'anchor', u'anchors', u'anchovies', u'anchovy', u'andiamo', u'andouille', u'andrea', u'andrew', u'andy', u'anecdotes', u'anemic', u'anesthetic', u'anew', u'angel', u'angela', u'angeles', u'angelic', u'angello', u'angels', u'anger', u'anglaise', u'angle', u'angler', u'angles', u'angry', u'angst', u'anibal', u'animal', u'animals', u'animated', u'animatronics', u'anise', u'aniston', u'ankle', u'ankles', u'ann', u'anne', u'annie', u'annihilator', u'anniversary', u'announced', u'annoy', u'annoyance', u'annoyed', u'annoying', u'annual', u'anomaly', u'anonymous', u'ans', u'ansel', u'answer', u'answered', u'answering', u'answers', u'ant', u'anthem', u'anthony', u'anti', u'anticipate', u'anticipated', u'anticipating', u'anticipation', u'antipasti', u'antipasto', u'antique', u'antiques', u'antiquing', u'antiseptic', u'antithesis', u'antler', u'antonio', u'antono', u'ants', u'anxiety', u'anxious', u'anxiously', u'anybody', u'anyday', u'anyhoo', u'anymore', u'anyplace', u'anythings', u'anytime', u'anyways', u'anywho', u'ao', u'ap', u'apache', u'apart', u'apartment', u'apartments', u'ape', u'apiece', u'apologetic', u'apologetically', u'apologists', u'apologize', u'apologized', u'apologizes', u'apologizing', u'apology', u'apostles', u'apothecary', u'apothic', u'app', u'appalachians', u'appaled', u'appalled', u'appalling', u'apparantly', u'apparel', u'apparent', u'apparently', u'appauling', u'appeal', u'appealed', u'appealing', u'appeals', u'appear', u'appearance', u'appearances', u'appeared', u'appears', u'appeasing', u'appertizer', u'appetit', u'appetite', u'appetito', u'appetizaer', u'appetizer', u'appetizers', u'appetizing', u'applaud', u'apple', u'applebee', u'applebees', u'apples', u'appletini', u'appletinis', u'appliances', u'applied', u'applies', u'apply', u'applying', u'appoinmtnt', u'appointed', u'appointment', u'appointments', u'appologized', u'appraisal', u'appraisals', u'appraiser', u'appreciate', u'appreciated', u'appreciates', u'appreciation', u'appreciative', u'apprehensive', u'appreicate', u'approach', u'approachable', u'approached', u'approaches', u'approaching', u'appropriate', u'appropriately', u'approx', u'approximate', u'approximately', u'apps', u'appt', u'appys', u'apricot', u'april', u'apron', u'apt', u'aqua', u'aquarium', u'aquiring', u'ar', u'arabic', u'arai', u'arbol', u'arboreal', u'arborio', u'arcade', u'arcadia', u'arcane', u'arches', u'architect', u'architecture', u'archive', u'archway', u'arco', u'area', u'areas', u'aren', u'arena', u'arent', u'argentine', u'argue', u'argued', u'arguing', u'argumentative', u'argyle', u'ariel', u'arigato', u'arise', u'arizona', u'arizonan', u'arizonans', u'arkansas', u'arlecchino', u'arm', u'armando', u'armed', u'armour', u'arms', u'army', u'aroma', u'aromas', u'aromatic', u'aromatics', u'arousal', u'arpege', u'arragont', u'arrange', u'arranged', u'arrangement', u'arrangements', u'arranging', u'array', u'arrested', u'arriba', u'arribas', u'arrival', u'arrive', u'arrived', u'arrivederci', u'arrives', u'arriving', u'arrogance', u'arrogant', u'arrowhead', u'arroz', u'art', u'artesian', u'artful', u'artfully', u'arthur', u'artichoke', u'artichokes', u'article', u'articles', u'artie', u'artifacts', u'artificial', u'artisan', u'artist', u'artistic', u'artistically', u'artistry', u'artists', u'artois', u'arts', u'artsy', u'artwork', u'arugala', u'arugula', u'asada', u'asado', u'asahi', u'asaian', u'asap', u'asasda', u'ascend', u'ascent', u'ash', u'ashamed', u'ashamedly', u'ashes', u'ashley', u'ashtanga', u'ashtray', u'asia', u'asiago', u'asian', u'asians', u'aside', u'ask', u'asked', u'askin', u'asking', u'asks', u'asleep', u'asp', u'asparagus', u'aspect', u'aspects', u'aspire', u'aspirin', u'aspiring', u'aspx', u'ass', u'assault', u'assaulted', u'asserted', u'asses', u'assessed', u'assessment', u'asset', u'assets', u'asshat', u'asshole', u'assholes', u'assigned', u'assignment', u'assinine', u'assistance', u'assistant', u'assisted', u'assoc', u'associate', u'associated', u'associates', u'association', u'assorted', u'assortment', u'assume', u'assumed', u'assumes', u'assuming', u'assumption', u'assumptions', u'assurance', u'assure', u'assured', u'assuredly', u'astatically', u'astonished', u'astonishing', u'astounded', u'astounding', u'asu', u'asus', u'atc', u'ate', u'athelete', u'athlete', u'athletes', u'athletica', u'ation', u'atl', u'atlanta', u'atlantic', u'atleast', u'atm', u'atmosphere', u'atomic', u'atomosphere', u'atop', u'atoyac', u'atri', u'atrium', u'atrocious', u'atrociously', u'attached', u'attack', u'attacked', u'attacks', u'attain', u'attarct', u'attempt', u'attempted', u'attempting', u'attempts', u'attend', u'attendance', u'attendant', u'attendants', u'attended', u'attendee', u'attendees', u'attending', u'attention', u'attentive', u'attest', u'attic', u'attire', u'attitude', u'attitudes', u'attorney', u'attract', u'attraction', u'attractions', u'attractive', u'attracts', u'attribute', u'attributes', u'atypical', u'au', u'auctioned', u'audacity', u'audience', u'audio', u'audition', u'auditorium', u'aug', u'augments', u'august', u'aunt', u'auspices', u'aussie', u'austin', u'australia', u'australian', u'authentic', u'authentically', u'authenticity', u'authenticly', u'author', u'autismcenter', u'autistic', u'auto', u'autographed', u'autograt', u'automatic', u'automatically', u'automobile', u'automotive', u'autumn', u'avacado', u'avadado', u'avail', u'availability', u'available', u'avalanches', u'ave', u'avenue', u'aver', u'average', u'averaged', u'averages', u'averaging', u'averse', u'avg', u'avid', u'avocado', u'avocados', u'avoid', u'avoidance', u'avoided', u'avoiding', u'avondale', u'awaited', u'awaiting', u'awaits', u'awakening', u'award', u'awards', u'aware', u'awareness', u'away', u'aways', u'awaze', u'awe', u'awed', u'awesome', u'awesomely', u'awesomeness', u'awful', u'awfully', u'awhile', u'awkward', u'awkwardly', u'awning', u'awsome', u'axe', u'az', u'az88', u'azkaban', u'azn', u'azpbs', u'azspagirls', u'azucena', u'ba', u'baaaaaaad', u'baba', u'babaganoush', u'babbo', u'babies', u'baby', u'babyback', u'babysitter', u'bacado', u'bachelor', u'bachelorette', u'backdrop', u'backed', u'background', u'backing', u'backlit', u'backpack', u'backside', u'backstage', u'backstory', u'backtracked', u'backup', u'backwards', u'backyard', u'bacon', u'bacteria', u'bad', u'badass', u'bader', u'badger', u'badly', u'badmouth', u'baeley', u'baffled', u'baffling', u'bag', u'bage', u'bagel', u'bagels', u'baggage', u'bagged', u'baggins', u'baggy', u'baghlava', u'bagly', u'bags', u'baguette', u'bahama', u'bahamas', u'bahn', u'bail', u'bailey', u'baileys', u'bait', u'baiz', u'baja', u'bajesus', u'bajillion', u'bake', u'baked', u'baker', u'bakeries', u'bakers', u'bakery', u'baking', u'baklava', u'balance', u'balanced', u'balances', u'balancing', u'balcony', u'bald', u'balidated', u'balking', u'ball', u'ballet', u'ballin', u'balloons', u'ballpark', u'ballparks', u'ballroom', u'balls', u'balsalmic', u'balsamic', u'baltimore', u'bam', u'bamboo', u'ban', u'banana', u'bananas', u'bananoffee', u'band', u'bandages', u'bandaid', u'bandana', u'banded', u'bandera', u'bandido', u'bandit', u'bandito', u'bands', u'banfield', u'bang', u'bangers', u'bangin', u'banging', u'bangkok', u'bangs', u'bank', u'banked', u'banker', u'banking', u'bankruptcy', u'bannanas', u'banned', u'banner', u'banquette', u'banter', u'bantering', u'bap', u'bar', u'barb', u'barback', u'barbacks', u'barbacoa', u'barbara', u'barbbacoa', u'barbecue', u'barbecuein', u'barbeque', u'barber', u'barbers', u'barbershop', u'barcelona', u'bare', u'barefaced', u'barefoot', u'barely', u'bargain', u'bargaining', u'bargains', u'bargin', u'barista', u'baristas', u'bark', u'barked', u'barking', u'barley', u'barnes', u'barney', u'barq', u'barr', u'barramundi', u'barrel', u'barrier', u'barrio', u'barro', u'barry', u'bars', u'bartender', u'bartenders', u'bartholomew', u'bartista', u'bartop', u'basalmic', u'base', u'baseball', u'baseballs', u'based', u'baseline', u'basement', u'bash', u'basha', u'bashas', u'basic', u'basically', u'basics', u'basil', u'basis', u'bask', u'basket', u'basketball', u'baskets', u'baskin', u'basmati', u'bass', u'bastard', u'basted', u'baston', u'bat', u'batch', u'bath', u'bathe', u'bathed', u'bathers', u'bathing', u'bathroom', u'bathrooms', u'baths', u'batman', u'batmobile', u'baton', u'bats', u'batter', u'battered', u'batteries', u'battery', u'batting', u'battle', u'battlers', u'battleship', u'bavaria', u'bay', u'bbb', u'bbfw', u'bbq', u'bbs', u'bc', u'bcbg', u'bday', u'bdays', u'bdsm', u'bea', u'beach', u'beams', u'bean', u'beanery', u'beans', u'bear', u'bearable', u'beard', u'beards', u'bearing', u'bears', u'beast', u'beat', u'beaten', u'beaters', u'beating', u'beatles', u'beats', u'beau', u'beautiful', u'beautifully', u'beauty', u'beaver', u'bechamel', u'beckett', u'beckon', u'becky', u'becuz', u'bed', u'bedazzled', u'bedroom', u'bedrooms', u'beds', u'bee', u'beebees', u'beef', u'beefcake', u'beefy', u'beep', u'beeping', u'beer', u'beers', u'bees', u'beet', u'beetle', u'beetles', u'beets', u'beg', u'began', u'beggars', u'begged', u'begging', u'begin', u'begining', u'beginner', u'beginners', u'beginning', u'begins', u'begrudgingly', u'begun', u'behalf', u'behaved', u'behavior', u'behold', u'beignets', u'bein', u'beirut', u'belabor', u'belgian', u'belief', u'believe', u'believed', u'believer', u'believers', u'believes', u'believing', u'belittled', u'bell', u'bellboy', u'bellies', u'belligerently', u'bellini', u'bellinis', u'belltown', u'belly', u'belmont', u'belong', u'belongs', u'beloved', u'belt', u'belts', u'ben', u'bench', u'benches', u'bend', u'bender', u'bending', u'beneath', u'benedict', u'beneficial', u'benefit', u'benefited', u'benefits', u'benign', u'benny', u'bento', u'bentos', u'beppo', u'berated', u'berg', u'bergesson', u'berkshire', u'berlin', u'berries', u'berry', u'berschler', u'bert', u'bertha', u'berto', u'bertos', u'best', u'bestie', u'bestowed', u'bet', u'bethany', u'bethel', u'betito', u'betitos', u'betray', u'betta', u'better', u'betty', u'betunia', u'betweeen', u'beverage', u'beverages', u'beverly', u'bevmo', u'beware', u'beyonce', u'bf', u'bfast', u'bff', u'bffs', u'bgf', u'bi', u'biacoverde', u'biagga', u'biaggia', u'biagio', u'bialy', u'bianco', u'biancoverde', u'biancoverdes', u'bias', u'biased', u'bibimbap', u'bible', u'bicker', u'bicycle', u'bicycles', u'biden', u'bidet', u'bier', u'biet', u'big', u'big_ass', u'bigee', u'bigger', u'biggest', u'biggie', u'biiiiiiiiiiig', u'bike', u'biker', u'bikers', u'bikes', u'biking', u'bikini', u'bikram', u'bilbo', u'bilinis', u'billet', u'billiards', u'billing', u'bills', u'biltmore', u'bimbo', u'bin', u'bind', u'bing', u'bings', u'bingsoo', u'binkley', u'bins', u'biography', u'bird', u'birdlife', u'birds', u'birth', u'birthday', u'birthdays', u'biscotti', u'biscuit', u'biscuits', u'bismark', u'bison', u'bisque', u'bistec', u'bistro', u'bit', u'bitch', u'bitches', u'bitching', u'bitchy', u'bite', u'bites', u'biting', u'bits', u'bitsy', u'bitten', u'bitter', u'bitterish', u'bitterness', u'bitty', u'biz', u'biz_photos', u'bizarre', u'bj', u'bla', u'black', u'blackberries', u'blackberry', u'blackened', u'blackrice', u'blackstone', u'blackwidow', u'blade', u'blah', u'blake', u'blame', u'blanca', u'blanco', u'bland', u'blandness', u'blank', u'blanket', u'blanketed', u'blankity', u'blaring', u'blase', u'blasphemy', u'blast', u'blasting', u'blasts', u'blatantly', u'blaze', u'blazer', u'blazing', u'bleached', u'bleacher', u'bleachers', u'blech', u'bleech', u'bleed', u'bleeding', u'bleh', u'blend', u'blended', u'blending', u'blendini', u'blends', u'bless', u'blessed', u'blessings', u'bleu', u'blew', u'blimpie', u'blind', u'blindfolds', u'blindness', u'bliss', u'blissful', u'blistered', u'blisters', u'bloated', u'blobs', u'block', u'blockbuster', u'blocked', u'blocking', u'blocks', u'blog', u'blond', u'blonde', u'blood', u'bloody', u'bloodymary', u'blooming', u'blooms', u'bloomy', u'blossom', u'blossoms', u'blouses', u'blow', u'blowdry', u'blower', u'blowing', u'blown', u'blows', u'blt', u'blu', u'blue', u'blueberries', u'blueberry', u'bluecheese', u'bluemoon', u'blues', u'bluesman', u'blunt', u'bluntly', u'blur', u'blush', u'blushes', u'blvd', u'bmw', u'bmx', u'bnd5erj', u'bndmaps', u'bo', u'boa', u'boar', u'board', u'boarded', u'boarding', u'boards', u'boars', u'boasts', u'boat', u'boats', u'bob', u'boba', u'bobbie', u'bobby', u'boca', u'bocca', u'bocce', u'bock', u'bodies', u'body', u'bodyworker', u'bogi', u'bogo', u'boil', u'boiled', u'boiling', u'boisterous', u'bold', u'bolivia', u'bolster', u'bolt', u'bolted', u'bolts', u'bomb', u'bombay', u'bomber', u'bombero', u'bomberos', u'bombers', u'bombs', u'bon', u'bona', u'bonafide', u'bonanza', u'bond', u'bonding', u'bone', u'boneless', u'bones', u'bong', u'bonne', u'bonnie', u'bonus', u'boo', u'boob', u'boobs', u'boofay', u'boohiney', u'book', u'booked', u'booking', u'bookmans', u'books', u'bookstore', u'bookstores', u'boolgogee', u'boom', u'boooy', u'boop', u'booshelf', u'boost', u'booster', u'boot', u'booth', u'booths', u'boots', u'booyah', u'booze', u'boozers', u'boozin', u'boozometer', u'bop', u'borad', u'bordelaise', u'border', u'bordering', u'borderline', u'borders', u'bored', u'boring', u'born', u'borne', u'borrow', u'bosa', u'bosch', u'bosco', u'bosnia', u'bosnian', u'boss', u'bosses', u'bossy', u'bostic', u'boston', u'botanical', u'botany', u'bother', u'bothered', u'bothering', u'bothers', u'bothersome', u'botox', u'bottle', u'bottled', u'bottles', u'bottling', u'bottomless', u'bottoms', u'bouche', u'bought', u'bouillabaisse', u'boulangerie', u'boulder', u'boulders', u'boullion', u'bounce', u'bounced', u'bouncer', u'bouncers', u'bouncing', u'bound', u'bounty', u'bourban', u'bourbon', u'bout', u'boutique', u'boutiques', u'bowl', u'bowling', u'bowls', u'bowties', u'box', u'boxed', u'boxer', u'boxers', u'boxes', u'boxing', u'boy', u'boyfriend', u'boyfriends', u'boyfrind', u'boys', u'boyshorts', u'bpa', u'br', u'bra', u'brace', u'brachetto', u'brad', u'brag', u'bragged', u'bragging', u'braille', u'brain', u'brainless', u'brains', u'braised', u'braized', u'brak', u'bran', u'branch', u'branched', u'branches', u'brand', u'branding', u'brands', u'brandy', u'branzino', u'brass', u'brasserie', u'brat', u'brats', u'bratwurst', u'bravas', u'brave', u'braves', u'bravo', u'bray', u'brazen', u'brazilian', u'bread', u'breadcrumbs', u'breaded', u'breadfruit', u'breading', u'breads', u'breadsticks', u'breadticks', u'break', u'breakfast', u'breakfasts', u'breakfasty', u'breaking', u'breaks', u'breaksfast', u'breakthrough', u'breas', u'breast', u'breasts', u'breath', u'breathe', u'breathed', u'breathing', u'breathtaking', u'bred', u'breed', u'breeze', u'brekafast', u'brenda', u'brenden', u'bretheren', u'brew', u'brewed', u'brewer', u'breweries', u'brewery', u'brewing', u'brewpub', u'brewpubs', u'brews', u'bri', u'brian', u'brianna', u'brick', u'brickoven', u'bricks', u'brickwork', u'bridal', u'bride', u'brides', u'bridesmaids', u'bridge', u'brie', u'brief', u'briefcase', u'briefly', u'briefs', u'brien', u'briggs', u'bright', u'brightly', u'brilliance', u'brilliant', u'brim', u'brine', u'bring', u'bringing', u'brings', u'brining', u'briny', u'brio', u'brioche', u'brioni', u'brisket', u'brit', u'british', u'britishers', u'britney', u'brittan', u'brittian', u'brittle', u'bro', u'broad', u'broadway', u'broasted', u'broccoli', u'broccolini', u'brochette', u'brocolli', u'broiled', u'broke', u'broken', u'bronx', u'brooches', u'brooklyn', u'brookstone', u'bros', u'broth', u'brother', u'brothers', u'brothy', u'brough', u'brought', u'broun', u'brow', u'brown', u'brownie', u'brownies', u'browns', u'brows', u'browse', u'browsed', u'browsing', u'bruce', u'bruchetta', u'bruder', u'brule', u'brulee', u'brulees', u'brunch', u'brunches', u'brunets', u'brunette', u'bruscetta', u'bruschetta', u'bruschettas', u'brush', u'brushcetta', u'brushed', u'brushes', u'brushettas', u'brussel', u'brussels', u'brutal', u'brutus', u'bryan', u'br\\xfbl\\xe9e', u'bs', u'btw', u'bubble', u'bubbles', u'bubbly', u'buca', u'bucatini', u'bucca', u'bucco', u'buchanan', u'buck', u'bucked', u'bucket', u'buckets', u'buckeye', u'buckeyes', u'buckhunt', u'buckle', u'buckles', u'bucks', u'buckwheat', u'bud', u'buddhism', u'buddies', u'buddy', u'budge', u'budget', u'buds', u'budweiser', u'bueno', u'buff', u'buffala', u'buffalo', u'buffer', u'buffet', u'buffets', u'buffett', u'bug', u'bugger', u'buggers', u'bugs', u'bugtussel', u'build', u'building', u'buildings', u'built', u'buisness', u'bulb', u'bulbs', u'bulgogi', u'bulk', u'bulked', u'bull', u'bulldogs', u'bullet', u'bullion', u'bullriders', u'bullshit', u'bummed', u'bummer', u'bumped', u'bumper', u'bumping', u'bums', u'bun', u'bunch', u'bunches', u'bundle', u'bundled', u'bundy', u'bunnies', u'buns', u'buon', u'burch', u'burger', u'burgers', u'burial', u'burlington', u'burly', u'burmese', u'burn', u'burned', u'burning', u'burnt', u'burped', u'burps', u'burrata', u'burratta', u'burrito', u'burritos', u'burro', u'burros', u'burst', u'bursting', u'burt', u'burton', u'bus', u'busan', u'busboy', u'busboys', u'bush', u'bushes', u'busiest', u'business', u'businesses', u'businessman', u'businessmen', u'busses', u'bust', u'busted', u'busting', u'bustle', u'bustled', u'bustling', u'busy', u'butai', u'butcher', u'butchering', u'butka', u'butt', u'butte', u'butter', u'buttercream', u'buttercrunch', u'buttered', u'butterfish', u'butterflies', u'butterfly', u'buttermilk', u'butternut', u'butters', u'butterscotch', u'buttery', u'button', u'buttons', u'butts', u'bux', u'buy', u'buybuybaby', u'buyer', u'buyers', u'buying', u'buys', u'buzz', u'buzzcation', u'buzzing', u'buzzkill', u'bv500', u'bye', u'byo', u'byob', u'c785ykr', u'c7pkagm', u'c7zwftv', u'ca', u'ca765ua', u'cab', u'cabage', u'cabana', u'cabanas', u'cabbage', u'cabbies', u'cabela', u'cabernet', u'cabeza', u'cabin', u'cabinet', u'cable', u'cabs', u'cacti', u'cactus', u'caddilac', u'caddy', u'cadet', u'cadillac', u'caesar', u'caesars', u'cafe', u'cafeteria', u'caffe', u'caffeinate', u'caffeine', u'caf\\xe9', u'cage', u'cages', u'cajun', u'cajuns', u'cake', u'cakes', u'cal', u'calamari', u'calamos', u'calendar', u'calf', u'cali', u'caliber', u'caliente', u'california', u'calimari', u'calle', u'called', u'caller', u'calling', u'calloused', u'calls', u'callus', u'calm', u'calmed', u'calming', u'calmly', u'calorie', u'calories', u'cals', u'calves', u'calypso', u'calzone', u'calzones', u'came', u'camel', u'camelback', u'camelbacks', u'camelview', u'camera', u'cameras', u'camp', u'campaign', u'campaigning', u'campbell', u'campbells', u'camper', u'campers', u'camping', u'campus', u'campuses', u'camus', u'canada', u'canadian', u'canaille', u'canal', u'canals', u'canasta', u'cancel', u'cancellation', u'cancelled', u'cancelling', u'cancer', u'candid', u'candied', u'candies', u'candle', u'candlelit', u'candles', u'candy', u'candyland', u'cane', u'canes', u'canidae', u'canine', u'canned', u'cannelloni', u'cannibal', u'cannoli', u'cannolis', u'cannon', u'canoe', u'canoli', u'canopy', u'cans', u'canteen', u'canteloupe', u'cantina', u'canton', u'cantonese', u'canvas', u'canvases', u'canyon', u'canyone', u'cap', u'capable', u'capaccino', u'capacity', u'capellini', u'caper', u'capers', u'capezio', u'capicolla', u'capital', u'capitalism', u'capitol', u'caponata', u'capped', u'cappella', u'cappicola', u'cappuccino', u'cappuccinos', u'caprese', u'capri', u'capriottis', u'caps', u'capsule', u'captain', u'capture', u'car', u'caradmom', u'caramel', u'caramelized', u'carb', u'carbohydrate', u'carbon', u'carbonara', u'carbonation', u'carbs', u'carburetor', u'card', u'cardamom', u'cardboard', u'carded', u'cardinal', u'cardinals', u'cardio', u'cards', u'cardstock', u'care', u'cared', u'career', u'carefree', u'careful', u'carefully', u'careless', u'cares', u'caribbean', u'caring', u'carl', u'carla', u'carlos', u'carlsbad', u'carlton', u'carmel', u'carmelized', u'carnage', u'carne', u'carnegie', u'carniceria', u'carnitas', u'carnivore', u'carnivorial', u'carol', u'carolers', u'carolina', u'caroline', u'carousel', u'carpacchio', u'carpaccio', u'carpal', u'carpet', u'carpeting', u'carpool', u'carrabba', u'carribbean', u'carried', u'carrier', u'carriers', u'carries', u'carrot', u'carrots', u'carrott', u'carry', u'carrying', u'cars', u'cart', u'carte', u'carted', u'cartel', u'carter', u'carton', u'carts', u'cartwrights', u'carving', u'cary', u'casa', u'case', u'casella', u'casement', u'cases', u'casey', u'cash', u'cashed', u'cashew', u'cashews', u'cashier', u'cashiers', u'cashing', u'casie', u'casing', u'casino', u'casita', u'cask', u'casserole', u'cast', u'castilla', u'casting', u'casual', u'casually', u'cat', u'catagory', u'catalog', u'catalogs', u'catalytic', u'catch', u'catching', u'categories', u'category', u'cater', u'catered', u'catering', u'catfish', u'cathedral', u'cation', u'cats', u'caucasian', u'caucasians', u'caught', u'cauldron', u'cauliflower', u'cause', u'caused', u'causes', u'causing', u'caution', u'cautious', u'cavalleria', u'cavalli', u'cave', u'caveat', u'caved', u'cavernous', u'caviar', u'cavities', u'cavity', u'cayman', u'caymans', u'cb', u'cc', u'cca', u'cco', u'cd', u'cdc', u'cds', u'ceasar', u'cease', u'ceaser', u'ceiling', u'ceilings', u'celebrate', u'celebrated', u'celebrating', u'celebration', u'celebratory', u'celebrities', u'celery', u'celiac', u'celiacs', u'celina', u'cell', u'cellar', u'cellist', u'cellphone', u'celsius', u'cement', u'cenpho', u'censor', u'cent', u'center', u'centered', u'centerpiece', u'centers', u'central', u'centrally', u'centre', u'cents', u'century', u'ceo', u'ceramic', u'cereal', u'cereals', u'ceremony', u'cerignola', u'certain', u'certainly', u'certificate', u'certificates', u'certified', u'cesar', u'cesspool', u'cesspools', u'cetera', u'cevap', u'ceviche', u'cezanne', u'cfls', u'ch', u'cha', u'chace', u'chagrin', u'chai', u'chain', u'chainco', u'chains', u'chainsaw', u'chair', u'chairs', u'chaise', u'chalet', u'chalkboard', u'chalking', u'chalky', u'challah', u'challenge', u'challenged', u'challenges', u'challenging', u'chamber', u'chambord', u'chamomile', u'champ', u'champagne', u'champagnes', u'champers', u'championship', u'champong', u'champs', u'chana', u'chance', u'chancer', u'chancers', u'chances', u'chandelier', u'chandeliers', u'chandler', u'chanel', u'chang', u'change', u'changed', u'changes', u'changing', u'changs', u'channel', u'channels', u'chanterelle', u'chanterelles', u'chantrel', u'chao', u'chaos', u'chaparral', u'char', u'character', u'charbroiled', u'charcoal', u'chard', u'chardonnay', u'charge', u'charged', u'charger', u'charges', u'charging', u'chargrilled', u'charismatic', u'charitable', u'charity', u'charleen', u'charlene', u'charleston', u'charlie', u'charlotte', u'charm', u'charming', u'charred', u'chart', u'chase', u'chased', u'chat', u'chatted', u'chatter', u'chattering', u'chatting', u'chatty', u'cheap', u'cheaper', u'cheapest', u'cheaply', u'cheapskate', u'cheat', u'cheated', u'checca', u'check', u'checkbox', u'checked', u'checkeed', u'checker', u'checkered', u'checkers', u'checkin', u'checking', u'checklist', u'checkout', u'checkplease', u'checks', u'checkup', u'cheddar', u'cheek', u'cheerful', u'cheerfully', u'cheering', u'cheers', u'cheery', u'cheese', u'cheeseboard', u'cheeseburger', u'cheesecake', u'cheeses', u'cheesesteak', u'cheesesteaks', u'cheesey', u'cheesy', u'cheez', u'chef', u'chefing', u'chefs', u'chelsea', u'chemex', u'chemical', u'chemicals', u'cherished', u'cherries', u'cherry', u'cherryblossom', u'cheryl', u'chess', u'chestnuts', u'chew', u'chewing', u'chewy', u'chi', u'chiang', u'chianti', u'chic', u'chicago', u'chicagoan', u'chiccharon', u'chichi', u'chick', u'chickafila', u'chicken', u'chickens', u'chickpeas', u'chicks', u'chicory', u'chics', u'chief', u'chiku', u'chiladas', u'chilaquiles', u'child', u'childcare', u'childhood', u'childhoods', u'children', u'childs', u'chile', u'chilean', u'chilequiles', u'chiles', u'chili', u'chilies', u'chiliglazed', u'chill', u'chilled', u'chilli', u'chills', u'chilly', u'chilulah', u'chime', u'chimi', u'chimichanga', u'chiming', u'chimis', u'chimmichurri', u'chin', u'china', u'chinaberry', u'chinatown', u'chinese', u'chino', u'chip', u'chipolte', u'chipotle', u'chipped', u'chipping', u'chips', u'chiptole', u'chiro', u'chiropractic', u'chiropractor', u'chirping', u'chit', u'chitchat', u'chivalrously', u'chives', u'chlorine', u'choc', u'chock', u'chocolate', u'chocolately', u'chocolates', u'chocolatey', u'chocolatier', u'chocolatiers', u'chocolatiest', u'chodang', u'choice', u'choices', u'choir', u'choke', u'choked', u'choking', u'cholla', u'cholocate', u'chomp', u'chompie', u'chompies', u'choo', u'choose', u'choosers', u'chooses', u'choosing', u'chop', u'chopped', u'chopping', u'choppy', u'chops', u'chopstick', u'chopsticks', u'chores', u'chorizo', u'chorro', u'chorus', u'chose', u'chosen', u'choux', u'chow', u'chowder', u'chowing', u'chris', u'christ', u'christine', u'christmas', u'christopher', u'christophersaz', u'christs', u'chronic', u'chronicle', u'chronicles', u'chu', u'chuck', u'chuckled', u'chucks', u'chugged', u'chumps', u'chunk', u'chunks', u'chunky', u'church', u'churches', u'churn', u'churning', u'churro', u'churros', u'chutney', u'chuy', u'chz', u'ciabatta', u'ciao', u'cibo', u'cider', u'cidse', u'cien', u'cigar', u'cigarette', u'cigarettes', u'cigars', u'cigs', u'cilantro', u'cinammoness', u'cinderella', u'cindy', u'cine', u'cinema', u'cinemark', u'cinemas', u'cinnamon', u'cioppino', u'circa', u'circle', u'circled', u'circles', u'circuitous', u'circular', u'circulation', u'circumstance', u'circumvent', u'circus', u'ciroc', u'cisco', u'cited', u'cities', u'citing', u'citizen', u'citizens', u'citrus', u'citrusy', u'city', u'citywide', u'civic', u'civiche', u'ck', u'clad', u'claim', u'claimed', u'claims', u'clair', u'claire', u'clam', u'clams', u'clang', u'clanging', u'claredon', u'clarendon', u'clarification', u'clarify', u'clarity', u'class', u'classes', u'classic', u'classics', u'classifies', u'classroom', u'classwork', u'classy', u'clatter', u'claude', u'claustrophobic', u'claw', u'clawing', u'claws', u'clean', u'cleaned', u'cleaner', u'cleaners', u'cleanest', u'cleaning', u'cleanliness', u'cleanser', u'cleansers', u'cleanup', u'clear', u'clearance', u'clearancing', u'cleared', u'clearing', u'clearly', u'cleary', u'cleavage', u'cleaver', u'clement', u'clerk', u'clerks', u'clever', u'cleverly', u'cliche', u'cliched', u'click', u'clicquot', u'client', u'clientele', u'clients', u'clif', u'cliffs', u'climate', u'climax', u'climb', u'climbers', u'climbing', u'clingy', u'clinic', u'clint', u'clintons', u'clipped', u'clippers', u'clips', u'clock', u'clockwork', u'clog', u'clones', u'clooney', u'clorox', u'close', u'closed', u'closely', u'closer', u'closes', u'closest', u'closet', u'closeup', u'closing', u'cloth', u'clothed', u'clothes', u'clothing', u'cloths', u'cloud', u'clouds', u'cloudy', u'clover', u'cloves', u'clown', u'clowns', u'club', u'clubby', u'clubhouse', u'clubs', u'clue', u'clueless', u'clump', u'clumps', u'clumsiness', u'clumsy', u'clunky', u'cluster', u'clusters', u'clutches', u'clutching', u'cmtkood', u'coach', u'coaches', u'coal', u'coalface', u'coarse', u'coast', u'coastal', u'coaster', u'coasters', u'coat', u'coated', u'coating', u'coats', u'coaxed', u'cob', u'cobb', u'cobbler', u'cobs', u'coc', u'coca', u'cocaine', u'cocina', u'cock', u'cockroaches', u'cocktail', u'cocktails', u'coco', u'cocoa', u'coconut', u'cocstco', u'cod', u'coda', u'code', u'codes', u'coe', u'coffe', u'coffee', u'coffees', u'coin', u'coincide', u'coins', u'coke', u'cokes', u'cola', u'colada', u'colbert', u'cold', u'coldstone', u'cole', u'coleslaw', u'collaborate', u'collaboration', u'collapse', u'collard', u'collared', u'collars', u'colleague', u'colleagues', u'collected', u'collecting', u'collection', u'collective', u'colleen', u'college', u'colleges', u'cologne', u'colonial', u'color', u'colorado', u'colored', u'colorful', u'colorfully', u'coloring', u'colorist', u'colorists', u'colors', u'colossal', u'colour', u'columbia', u'com', u'coma', u'combination', u'combinations', u'combined', u'combines', u'combining', u'combo', u'combos', u'come', u'comeback', u'comedy', u'comes', u'comfort', u'comfortable', u'comfortably', u'comforting', u'comforts', u'comfy', u'comic', u'comical', u'comically', u'comics', u'comin', u'coming', u'commandment', u'commence', u'commend', u'comment', u'commented', u'commenting', u'comments', u'commerce', u'commercial', u'commercialized', u'commission', u'commit', u'commitment', u'committed', u'committee', u'committing', u'common', u'commoners', u'commons', u'communal', u'communicate', u'communicated', u'communicating', u'communication', u'communications', u'communicator', u'communists', u'communities', u'community', u'commute', u'commuter', u'comp', u'compadres', u'compaining', u'companies', u'companion', u'companions', u'companionship', u'company', u'companys', u'comparable', u'compare', u'compared', u'compares', u'comparing', u'comparison', u'comparisons', u'compartment', u'compasionate', u'compass', u'compassion', u'compassionate', u'compatible', u'comped', u'compelled', u'compelling', u'compels', u'compensate', u'compensation', u'compete', u'competent', u'competently', u'competes', u'competing', u'competition', u'competitive', u'competitively', u'competitor', u'competitors', u'compitent', u'complain', u'complained', u'complainer', u'complaing', u'complaining', u'complains', u'complaint', u'complaints', u'complement', u'complementary', u'complemented', u'complete', u'completed', u'completely', u'completes', u'completing', u'completly', u'complex', u'complexity', u'complicated', u'complications', u'compliment', u'complimentary', u'complimented', u'compliments', u'component', u'compose', u'composed', u'composition', u'composure', u'compote', u'comprehensive', u'compressa', u'compressed', u'compressor', u'comprised', u'compromise', u'computer', u'computers', u'computing', u'comsumed', u'concede', u'concentrate', u'concentrated', u'concentrating', u'concept', u'conceptions', u'concepts', u'concern', u'concerned', u'concerns', u'concert', u'concession', u'concessions', u'conchita', u'concierge', u'conclusion', u'concoct', u'concoction', u'concoctions', u'concrete', u'concur', u'condemn', u'condensation', u'condesa', u'condescending', u'condiment', u'condiments', u'condition', u'conditioned', u'conditioner', u'conditioning', u'conditions', u'condo', u'condolences', u'condos', u'conducive', u'conduct', u'cone', u'cones', u'confection', u'confectionary', u'confections', u'conference', u'confess', u'confessing', u'confessional', u'confidence', u'confident', u'confidently', u'confirm', u'confirmation', u'confirmed', u'confirming', u'confit', u'confite', u'conflicting', u'conflicts', u'conformable', u'confrontational', u'confronted', u'confuse', u'confused', u'confusing', u'confusion', u'congee', u'congrats', u'congratulate', u'congratulations', u'congregation', u'congress', u'coninue', u'conjure', u'conjures', u'connect', u'connected', u'connecticut', u'connecting', u'connection', u'connections', u'connery', u'connoisseur', u'connolys', u'connosiuer', u'conquering', u'cons', u'conscience', u'conscientious', u'conscious', u'consciously', u'consecutive', u'consequently', u'conservatism', u'consider', u'considerate', u'consideration', u'considered', u'considering', u'considers', u'consign', u'consigned', u'consigner', u'consigning', u'consistancy', u'consistant', u'consistantly', u'consisted', u'consistency', u'consistent', u'consistently', u'consisting', u'consists', u'consolation', u'console', u'conspire', u'constant', u'constantly', u'constitute', u'constitutes', u'constraint', u'constructed', u'construction', u'constructive', u'constructively', u'consult', u'consultant', u'consultation', u'consume', u'consumed', u'consummate', u'consumption', u'contact', u'contacted', u'contacting', u'contacts', u'contagious', u'contain', u'contained', u'container', u'containers', u'containing', u'contains', u'contemporary', u'contend', u'contender', u'content', u'contentment', u'contents', u'contest', u'context', u'contextualize', u'continentally', u'continually', u'continue', u'continued', u'continues', u'continuing', u'continuously', u'contract', u'contractors', u'contracts', u'contrarily', u'contrary', u'contribute', u'contributed', u'contributes', u'contribution', u'control', u'controlled', u'controlling', u'controls', u'controversies', u'controversy', u'convelient', u'convenience', u'convenient', u'conveniently', u'conversant', u'conversation', u'conversational', u'conversations', u'converse', u'conversing', u'convert', u'converted', u'converter', u'converters', u'convey', u'conveying', u'convictions', u'convince', u'convinced', u'convincing', u'convo', u'cook', u'cooked', u'cookers', u'cookie', u'cookies', u'cookin', u'cooking', u'cookouts', u'cooks', u'cool', u'coolant', u'cooled', u'cooler', u'coolers', u'coolest', u'cooling', u'cools', u'cooney', u'cooper', u'coordinated', u'coordination', u'coordinators', u'coors', u'cooties', u'cop', u'cope', u'copied', u'copper', u'cops', u'copy', u'copypaste', u'coq', u'coral', u'corbin', u'corbins', u'cordial', u'cordially', u'cordon', u'core', u'corebalance', u'coreographed', u'corinthians', u'cork', u'corkage', u'corking', u'corn', u'cornbread', u'corndog', u'corned', u'corner', u'corners', u'cornicopia', u'cornish', u'corona', u'coronas', u'corporate', u'corps', u'correct', u'correctally', u'corrected', u'correction', u'corrections', u'correctly', u'correctness', u'correlation', u'corresponding', u'corridor', u'corroded', u'corrupted', u'corsets', u'cortadito', u'corwn', u'cosa', u'cosmetic', u'cosmetics', u'cosmo', u'cosmopolitan', u'cosmos', u'cost', u'costa', u'costco', u'costillas', u'costly', u'costo', u'costs', u'costume', u'costumer', u'costumers', u'costumes', u'cotija', u'cotta', u'cottage', u'cotton', u'cottonwood', u'couch', u'couches', u'cougar', u'cough', u'coughed', u'coughing', u'couldn', u'coulter', u'count', u'countdown', u'counted', u'counter', u'countered', u'counterparts', u'counters', u'countless', u'country', u'countryside', u'counts', u'county', u'coup', u'couple', u'coupled', u'couples', u'coupling', u'coupon', u'coupons', u'courage', u'course', u'coursed', u'courses', u'court', u'courteous', u'courteously', u'courtesy', u'courtney', u'courts', u'courtyard', u'courtyards', u'cous', u'couscous', u'cousin', u'cousins', u'couture', u'cover', u'coverage', u'covered', u'covering', u'covers', u'covert', u'coverup', u'covet', u'coveted', u'cow', u'cowboy', u'cowboys', u'coworker', u'coworkers', u'cows', u'cowtow', u'cox', u'coy', u'coyotes', u'coz', u'cozier', u'coziness', u'cozy', u'cpc', u'cph', u'cpr', u'crab', u'crabs', u'crack', u'cracked', u'cracker', u'crackerjack', u'crackers', u'cracking', u'crackle', u'crackles', u'crackling', u'cracks', u'cradle', u'cradling', u'craft', u'crafted', u'crafts', u'craftsman', u'craftsmanship', u'craigslist', u'crammed', u'cramped', u'cramps', u'cranberries', u'cranberry', u'crank', u'cranking', u'cranks', u'cranky', u'cranny', u'crap', u'crappy', u'crashed', u'crate', u'crates', u'crave', u'craving', u'cravings', u'crawfish', u'crawling', u'crayon', u'craze', u'craziest', u'craziness', u'crazy', u'cream', u'creamed', u'creamer', u'creamiest', u'creaminess', u'creams', u'creamy', u'create', u'created', u'creates', u'creating', u'creation', u'creations', u'creative', u'creativity', u'creators', u'creature', u'creatures', u'cred', u'credentials', u'credibiilty', u'credit', u'credited', u'creek', u'creeped', u'creepily', u'creepy', u'crema', u'cremation', u'creme', u'cremes', u'creole', u'crepe', u'crepes', u'creps', u'crept', u'crescendo', u'crescent', u'crew', u'crib', u'cricket', u'cried', u'crime', u'crimes', u'criminal', u'crimini', u'crinkle', u'crippled', u'crisis', u'crisp', u'crisps', u'crispy', u'crisscrosses', u'cristo', u'critic', u'critical', u'criticism', u'criticize', u'critics', u'critters', u'croce', u'croissant', u'croissants', u'crooks', u'croque', u'crosbie', u'crosby', u'cross', u'crossed', u'crossing', u'crossroad', u'crostini', u'crouton', u'croutons', u'crowd', u'crowded', u'crowding', u'crowds', u'crowed', u'crown', u'crowning', u'crrraazzyyy', u'cruchy', u'crucifix', u'crudo', u'cruelty', u'crullers', u'crumb', u'crumble', u'crumbled', u'crumbles', u'crumbling', u'crumbs', u'crummy', u'crunch', u'crunchiness', u'crunchy', u'cruses', u'crush', u'crushed', u'crushing', u'crust', u'crusted', u'crustier', u'crusties', u'crusts', u'crusty', u'crying', u'crystal', u'crystals', u'cr\\xe8me', u'cr\\xe9me', u'cspjnfm', u'cuban', u'cube', u'cubed', u'cubes', u'cubicle', u'cubs', u'cucina', u'cucumber', u'cucumbers', u'cue', u'cues', u'cuff', u'cuffs', u'cuisinart', u'cuisine', u'cukes', u'culinarily', u'culinary', u'culmination', u'cultural', u'culture', u'cultured', u'cultures', u'culver', u'cuon', u'cup', u'cupcake', u'cupcakes', u'cups', u'curated', u'curbage', u'curd', u'curds', u'cure', u'cured', u'curiosity', u'curious', u'curiously', u'curl', u'curling', u'curls', u'curly', u'curmudgeons', u'currants', u'current', u'currently', u'currents', u'curriculum', u'curries', u'curry', u'currys', u'curse', u'cursing', u'curt', u'curtain', u'curtains', u'curves', u'cusack', u'cushier', u'cushions', u'cushy', u'cussing', u'cust', u'custard', u'custards', u'custom', u'customer', u'customers', u'customize', u'customized', u'customizes', u'custurd', u'cut', u'cute', u'cutest', u'cuticule', u'cuties', u'cutlery', u'cutlet', u'cuts', u'cutter', u'cutters', u'cuttery', u'cutting', u'cuz', u'cvs', u'cycling', u'cyclist', u'cyclists', u'cyclo', u'cyl', u'cynic', u'cynicism', u'cyr', u'da', u'daas', u'dab', u'dac', u'dachs', u'dad', u'daddy', u'dagger', u'daily', u'dainty', u'daiquiri', u'dairies', u'dairiki', u'dairy', u'daiya', u'dakota', u'dale', u'dali', u'dallas', u'dally', u'dam', u'damage', u'damaged', u'damages', u'dame', u'damn', u'damned', u'damnit', u'damp', u'dan', u'dana', u'dance', u'danced', u'dancer', u'dancers', u'dancewear', u'dancing', u'dandelion', u'dane', u'dang', u'danger', u'dangerous', u'dangerously', u'dangers', u'daniel', u'danielle', u'daniels', u'danish', u'danishes', u'dank', u'dannie', u'danny', u'daphne', u'dara', u'daradee', u'darcy', u'dare', u'daredevil', u'daren', u'daring', u'darius', u'dark', u'darkened', u'darker', u'darkness', u'darkseid', u'darla', u'darling', u'darn', u'darned', u'darryl', u'dart', u'darts', u'darykla', u'dash', u'dashboard', u'dashing', u'date', u'dated', u'dates', u'dating', u'daughter', u'daughters', u'daunted', u'daunting', u'dave', u'daves', u'david', u'davidson', u'dawn', u'day', u'daycare', u'daylight', u'days', u'daytime', u'dazbog', u'daze', u'dazed', u'dazs', u'dazzled', u'dba', u'dbg', u'dc', u'dcor', u'dd', u'ddd', u'dddinfo', u'ddelish', u'dds', u'dead', u'deadbeats', u'deaf', u'deal', u'dealer', u'dealers', u'dealership', u'dealerships', u'dealing', u'deals', u'dealt', u'deamon', u'dean', u'dear', u'dearly', u'death', u'deathly', u'deb', u'debacle', u'debate', u'debated', u'debating', u'debauchery', u'debbie', u'debilitating', u'debit', u'debon', u'debris', u'debt', u'debut', u'decade', u'decadence', u'decadent', u'decadently', u'decades', u'decaf', u'decaffinated', u'decanted', u'decapitated', u'decellerating', u'december', u'decent', u'decently', u'deception', u'deceptive', u'deceptively', u'decide', u'decided', u'decidedly', u'decides', u'deciding', u'decision', u'decisions', u'decisive', u'decited', u'deck', u'decked', u'declare', u'declared', u'declaring', u'decline', u'declined', u'deco', u'decomissioned', u'deconstructed', u'decor', u'decorate', u'decorated', u'decorating', u'decoration', u'decorations', u'decore', u'decreases', u'decrepit', u'dedicated', u'dedication', u'deduct', u'deduction', u'deductions', u'dee', u'deeee', u'deeeeaaallssss', u'deeees', u'deelish', u'deep', u'deeper', u'deeply', u'deere', u'dees', u'def', u'defalco', u'default', u'defend', u'defense', u'defensive', u'deference', u'deferred', u'defiance', u'defiantly', u'definately', u'definatly', u'definetely', u'definetly', u'definite', u'definitely', u'definition', u'definitly', u'deflated', u'defnitely', u'defunct', u'deg', u'degrades', u'degrading', u'degree', u'degrees', u'dehydrated', u'dehydration', u'dejavu', u'del', u'delay', u'delayed', u'delaying', u'delays', u'delcious', u'delectable', u'deleting', u'deli', u'delia', u'deliberate', u'deliberately', u'deliberation', u'delicacies', u'delicate', u'delicately', u'delicatessen', u'deliciious', u'delicious', u'deliciously', u'deliciousness', u'deliciouso', u'delicous', u'delight', u'delighted', u'delightful', u'delightfully', u'delights', u'delis', u'delish', u'delishish', u'deliver', u'delivered', u'deliverer', u'deliveries', u'delivering', u'delivers', u'delivery', u'della', u'delmonico', u'delta', u'deluca', u'delux', u'delve', u'delved', u'demand', u'demanded', u'demanding', u'demands', u'demaria', u'demeaning', u'demeanor', u'demi', u'demiglaze', u'demise', u'demo', u'democratic', u'demographic', u'demonstrate', u'demonstrated', u'demonstrates', u'demoted', u'denied', u'denim', u'denny', u'dennys', u'dense', u'densely', u'dent', u'dental', u'dente', u'dented', u'dentist', u'dentistry', u'dentists', u'denver', u'deocrations', u'departed', u'departing', u'department', u'departure', u'dependable', u'depended', u'depending', u'depends', u'deplane', u'deplorable', u'deployment', u'deported', u'deposit', u'depositing', u'depressed', u'depressing', u'dept', u'depth', u'depths', u'derby', u'derelicts', u'derived', u'dermabrasion', u'dermatologist', u'dernmark', u'des', u'deschutes', u'descretely', u'described', u'describes', u'describing', u'descript', u'description', u'descriptions', u'deseo', u'desert', u'deserted', u'deserts', u'deserve', u'deserved', u'deservedly', u'deserves', u'deserving', u'design', u'designated', u'designed', u'designer', u'designers', u'designing', u'designs', u'desirable', u'desire', u'desired', u'desires', u'desk', u'despairing', u'desperate', u'desperately', u'desperation', u'despise', u'despised', u'despite', u'dessert', u'desserts', u'dest', u'destination', u'destined', u'destroy', u'destroyed', u'destroying', u'destroys', u'detailed', u'detailing', u'details', u'deter', u'determine', u'determined', u'determining', u'deterred', u'detract', u'detroit', u'develop', u'develope', u'developed', u'developers', u'developing', u'development', u'device', u'devices', u'devil', u'deviled', u'devils', u'devine', u'devoid', u'devoted', u'devour', u'devoured', u'devouring', u'dew', u'dewalt', u'di', u'dia', u'diabetes', u'diabetic', u'diablo', u'diabolical', u'diagnosable', u'diagnose', u'diagnosed', u'diagnosis', u'diagnostic', u'diagnostics', u'dial', u'diamond', u'diamondbacks', u'diamonds', u'diaper', u'diapers', u'diarrhea', u'diary', u'diavola', u'diaya', u'dibs', u'diced', u'dicey', u'dick', u'dickhead', u'dicknose', u'did', u'diddly', u'didn', u'didnt', u'die', u'dieciseis', u'died', u'diego', u'diet', u'dietary', u'dieters', u'dieting', u'difara', u'diff', u'differ', u'differed', u'difference', u'differences', u'different', u'differentiation', u'differently', u'differnt', u'difficult', u'difficulty', u'dig', u'digestif', u'diggety', u'digging', u'diggity', u'digital', u'digress', u'digression', u'digs', u'dijon', u'dilemma', u'diligent', u'dill', u'dillard', u'dilly', u'dim', u'dime', u'dimed', u'diminished', u'diminishes', u'dimly', u'dine', u'dined', u'dineinaz', u'diner', u'diners', u'ding', u'dinged', u'dingy', u'dining', u'dinky', u'dinne', u'dinner', u'dinners', u'dinning', u'dip', u'diplomatically', u'dipped', u'dippin', u'dipping', u'dips', u'dipshits', u'dire', u'direct', u'directed', u'directing', u'direction', u'directions', u'directly', u'director', u'directories', u'directors', u'dirt', u'dirty', u'disabled', u'disadvantage', u'disagree', u'disappear', u'disappearance', u'disappeared', u'disappoint', u'disappointed', u'disappointing', u'disappointment', u'disappointments', u'disappoints', u'disaster', u'disastrous', u'disc', u'discard', u'discharged', u'disclaimer', u'disclosing', u'disclosure', u'disco', u'discolored', u'discomfort', u'disconsolate', u'discontinued', u'discordant', u'discount', u'discounted', u'discounts', u'discourage', u'discouraged', u'discouraging', u'discover', u'discovered', u'discovering', u'discovery', u'discriminatory', u'discs', u'discuss', u'discussed', u'discussing', u'discussion', u'discusting', u'disdain', u'disease', u'diseases', u'disgrace', u'disgruntled', u'disguised', u'disgust', u'disgusted', u'disgusting', u'disgustingly', u'dish', u'dishes', u'disheveled', u'dishonest', u'dishwater', u'disintegrate', u'disinterested', u'disks', u'dislike', u'disliked', u'disliking', u'disloyal', u'dismal', u'dismantle', u'dismay', u'dismayed', u'dismiss', u'dismissed', u'disney', u'disneyland', u'disorganized', u'disoriented', u'disowned', u'dispense', u'dispensed', u'dispenser', u'dispensers', u'dispensing', u'disperses', u'dispite', u'display', u'displayed', u'displaying', u'displays', u'displeased', u'displeasure', u'disposable', u'disregarding', u'disrepair', u'disrespect', u'disrespected', u'disrespectful', u'disrespectfully', u'disruptive', u'dissapoint', u'dissapointed', u'dissapointment', u'dissappeared', u'dissappointed', u'dissatisfied', u'dissertation', u'dissipated', u'distance', u'distant', u'distaste', u'distasteful', u'distinct', u'distinction', u'distinctive', u'distinctness', u'distinguished', u'distracted', u'distraction', u'distress', u'distressing', u'distribute', u'distributors', u'district', u'distrito', u'disturbed', u'disturbing', u'ditto', u'diuretic', u'dive', u'divers', u'diverse', u'dives', u'divey', u'divided', u'dividing', u'diviest', u'divine', u'division', u'diy', u'dizzy', u'dj', u'djs', u'dk', u'dmv', u'dmvs', u'dnf', u'doa', u'dobbins', u'dobson', u'doc', u'dock', u'doctor', u'doctors', u'document', u'documentary', u'documents', u'dodey', u'dodged', u'dodger', u'dodgers', u'doens', u'does', u'doesn', u'doesnt', u'dog', u'dogfish', u'dogfishhead', u'dogfoodadvisor', u'doggie', u'doggies', u'doggiestepsdogtraining', u'dogparkriot', u'dogs', u'doh', u'doing', u'dojo', u'dolce', u'doling', u'doll', u'dollar', u'dollars', u'dollhouse', u'dollop', u'dolls', u'dolmades', u'dolmas', u'dolmeh', u'dolphin', u'dom', u'domestic', u'dominate', u'dominated', u'dominick', u'dominique', u'dominos', u'domo', u'don', u'donate', u'donated', u'donation', u'donations', u'donkey', u'donna', u'donnell', u'donor', u'dont', u'donut', u'donuts', u'doodle', u'doodles', u'doom', u'dooo', u'door', u'doorman', u'doors', u'doozy', u'dope', u'dorato', u'dorm', u'dormouse', u'dorrie', u'dorries', u'dos', u'dosa', u'dosas', u'dose', u'dot', u'dots', u'double', u'doubles', u'doubt', u'doubted', u'doubts', u'douche', u'doudy', u'dough', u'doughboy', u'doughnut', u'doughnuts', u'doughy', u'douse', u'doused', u'dousing', u'douxelle', u'dove', u'downer', u'downfall', u'downhill', u'downing', u'download', u'downright', u'downs', u'downside', u'downsides', u'downstairs', u'downtown', u'downtrodden', u'dozen', u'dozens', u'dpov', u'dr', u'draft', u'drafts', u'drag', u'dragged', u'dragon', u'dragonfly', u'drags', u'drain', u'drama', u'dramatic', u'dramatically', u'drank', u'drastically', u'draught', u'draw', u'drawback', u'drawer', u'drawing', u'drawings', u'drawn', u'draws', u'dre', u'dreaded', u'dreadful', u'dreading', u'dream', u'dreamcatcher', u'dreaming', u'dreamlike', u'dreams', u'dreamy', u'dreary', u'dregs', u'dremel', u'drench', u'drenched', u'drenching', u'dress', u'dressed', u'dresser', u'dresses', u'dressier', u'dressing', u'dressings', u'dressy', u'drew', u'dried', u'drier', u'dries', u'drift', u'drill', u'drilling', u'drink', u'drinkable', u'drinker', u'drinkers', u'drinking', u'drinks', u'drip', u'dripping', u'drive', u'driven', u'driver', u'drivers', u'drives', u'driving', u'drizzle', u'drizzled', u'droban', u'drool', u'drooled', u'droolin', u'drooling', u'drools', u'drop', u'dropout', u'dropped', u'dropping', u'drops', u'drought', u'drove', u'drowned', u'drowning', u'drug', u'drugs', u'drum', u'drummer', u'drums', u'drunk', u'drunken', u'drunks', u'dry', u'dryer', u'drying', u'dryng', u'drywall', u'dslreports', u'dst', u'dt', u'duane', u'dubba', u'duce', u'duck', u'ducked', u'ducks', u'duct', u'dude', u'dudes', u'duds', u'dug', u'dugout', u'duh', u'dui', u'duke', u'dukes', u'dulce', u'dulche', u'dull', u'dumb', u'dumbass', u'dumber', u'dumbest', u'dumbfounded', u'dummies', u'dump', u'dumped', u'dumping', u'dumpling', u'dumplings', u'dumpster', u'dun', u'dungeness', u'dunkin', u'dunno', u'duo', u'duper', u'duplicate', u'duplication', u'durant', u'durants', u'duration', u'durst', u'dusk', u'dust', u'dusted', u'dusting', u'dutch', u'dutchman', u'duties', u'dutton', u'duty', u'duvalin', u'dv', u'dvd', u'dvds', u'dwellers', u'dwindling', u'dyed', u'dyer', u'dyes', u'dying', u'dynamite', u'dynasty', u'dysart', u'd\\xe9cor', u'ea', u'eactually', u'eager', u'eagerly', u'eagerness', u'ear', u'earleir', u'earlier', u'earliest', u'early', u'earn', u'earned', u'earnest', u'earning', u'earrings', u'ears', u'earth', u'earthy', u'ease', u'eased', u'easels', u'easier', u'easiest', u'easily', u'easiy', u'easley', u'east', u'easter', u'eastern', u'eastside', u'eastwood', u'easy', u'eat', u'eatable', u'eated', u'eaten', u'eater', u'eateries', u'eaters', u'eatery', u'eatin', u'eating', u'eats', u'ebay', u'ebi', u'ecclectic', u'echo', u'echoed', u'echoes', u'echoing', u'eclaire', u'eclectic', u'eclub', u'eco', u'economic', u'economy', u'ecstacy', u'ecstasy', u'ecstatic', u'ect', u'ed', u'edamame', u'eddie', u'eddies', u'edemame', u'eden', u'edge', u'edges', u'edgier', u'edgy', u'edible', u'edison', u'edit', u'editable', u'edited', u'edition', u'edna', u'edu', u'educate', u'educated', u'educating', u'education', u'educational', u'eduprize', u'edwards', u'eeew', u'eegees', u'eek', u'eel', u'eewwww', u'efax', u'eff', u'effect', u'effective', u'effectively', u'effects', u'effen', u'efficacious', u'efficiency', u'efficient', u'efficiently', u'effin', u'effing', u'effort', u'efforts', u'egg', u'eggees', u'eggless', u'eggplant', u'eggplants', u'eggroll', u'eggrolls', u'eggs', u'eggy', u'ego', u'egypt', u'egyptian', u'eh', u'eighteen', u'einstein', u'einsteins', u'eis', u'el', u'elaboration', u'elaine', u'elastic', u'elbow', u'elbows', u'elderflower', u'elderly', u'eldest', u'elected', u'electing', u'electric', u'electrical', u'electronic', u'electronics', u'elegant', u'element', u'elements', u'elentra', u'elephant', u'elevation', u'elevator', u'elevators', u'elf', u'eliminating', u'elite', u'elites', u'elizabeth', u'ella', u'elliot', u'ellis', u'elm', u'elmer', u'eloquent', u'elote', u'eludes', u'elusive', u'ely', u'em', u'email', u'emailed', u'emails', u'emapanadas', u'embarassed', u'embarked', u'embarking', u'embarrassed', u'embarrassing', u'embarrassingly', u'embarrassment', u'embellishment', u'embodies', u'embraces', u'emcee', u'emerald', u'emerge', u'emergencies', u'emergency', u'emerging', u'emissions', u'emotion', u'emotional', u'empanada', u'empanadas', u'empathetic', u'empathize', u'emperor', u'emphasis', u'emphasize', u'empire', u'employed', u'employee', u'employees', u'employer', u'employers', u'employess', u'empowering', u'empress', u'empties', u'emptor', u'emptying', u'emu', u'emulate', u'en', u'enable', u'encased', u'encebollada', u'encebollado', u'enchalada', u'enchanted', u'enchanting', u'enchantment', u'enchilada', u'enchiladas', u'enclosed', u'encompass', u'encore', u'encounter', u'encountered', u'encounters', u'encourage', u'encouraged', u'encouragement', u'encouraging', u'encroaching', u'encrusted', u'end', u'endeavor', u'endeavors', u'ended', u'ending', u'endless', u'endlessly', u'endorse', u'endorsing', u'endovenera', u'ends', u'endure', u'endures', u'enemies', u'energetic', u'energy', u'enforce', u'engage', u'engagement', u'engaging', u'engine', u'engineering', u'england', u'english', u'enhance', u'enigma', u'enigmatic', u'enjoy', u'enjoyable', u'enjoyably', u'enjoyed', u'enjoying', u'enjoyment', u'enjoys', u'enlarge', u'enlightenment', u'enormous', u'enraged', u'enrique', u'enrolled', u'ensalda', u'ensembles', u'ensenada', u'ensuing', u'ensure', u'ensuring', u'enter', u'entered', u'entering', u'enterprise', u'entertain', u'entertained', u'entertaining', u'entertainment', u'enthusiasm', u'enthusiast', u'enthusiastic', u'enthusiastically', u'enthusiasts', u'entice', u'enticement', u'enticing', u'entire', u'entirely', u'entitled', u'entity', u'entomologist', u'entrance', u'entre', u'entree', u'entrees', u'entrepreneurial', u'entrepreneurs', u'entrepreneurship', u'entress', u'entry', u'entr\\xe9e', u'entr\\xe9es', u'enuf', u'enveloped', u'enviornment', u'enviroment', u'environment', u'environmental', u'envisioned', u'envy', u'epic', u'epiphany', u'episode', u'eponymous', u'equal', u'equally', u'equals', u'eque', u'equip', u'equipement', u'equipment', u'equis', u'equivalent', u'er', u'era', u'erbe', u'eric', u'erica', u'erin', u'eritrean', u'ernet', u'ernie', u'erosion', u'erotic', u'err', u'errant', u'errors', u'ers', u'es', u'escalate', u'escape', u'escaped', u'escaping', u'escebeche', u'escentuals', u'escolar', u'esp', u'espana', u'esparza', u'especially', u'espresso', u'esqe', u'esque', u'essence', u'essential', u'essentially', u'essentials', u'essie', u'esspresso', u'establishement', u'establishment', u'establishments', u'estate', u'esteem', u'esthetician', u'estimate', u'estimated', u'estimates', u'estimation', u'estrella', u'et', u'eta', u'eternity', u'ether', u'ethics', u'ethier', u'ethiopia', u'ethiopian', u'ethnic', u'etienne', u'etouffee', u'etsy', u'eucalyptus', u'eugene', u'eugenia', u'euphoria', u'euphoric', u'euro', u'europe', u'european', u'euthanize', u'euthanizing', u'ev', u'evaluations', u'evaluative', u'evap', u'eve', u'evening', u'evenings', u'event', u'events', u'eventually', u'everday', u'everett', u'everybody', u'everyday', u'everynight', u'everyones', u'everytime', u'eves', u'eveything', u'evident', u'evidently', u'evil', u'evoking', u'evolving', u'evoo', u'ew', u'ewe', u'eww', u'ewww', u'ewwww', u'ewwwwww', u'ex', u'exact', u'exactly', u'exaggerating', u'exaggeration', u'exam', u'examined', u'examining', u'example', u'examples', u'exams', u'exasperated', u'exceeded', u'exceeds', u'excellence', u'excellent', u'excellente', u'excellently', u'exception', u'exceptional', u'exceptionally', u'excess', u'excessive', u'excessively', u'exchange', u'exchanged', u'excite', u'excited', u'excitedly', u'excitement', u'exciting', u'exclaimed', u'exclaiming', u'exclamation', u'exclude', u'excluding', u'exclusive', u'exclusively', u'excruciatingly', u'exctaly', u'excursion', u'excuse', u'excuses', u'execucar', u'execute', u'executed', u'execution', u'executive', u'exemplary', u'exercise', u'exercises', u'exfoliating', u'exfoliator', u'exhaust', u'exhausted', u'exhaustion', u'exhibit', u'exhibits', u'exist', u'existed', u'existence', u'existent', u'existing', u'exists', u'exit', u'exiting', u'exotic', u'expand', u'expanded', u'expanding', u'expands', u'expansion', u'expansions', u'expansive', u'expecially', u'expect', u'expectaions', u'expectation', u'expectations', u'expected', u'expecting', u'expedite', u'expedition', u'expense', u'expenses', u'expensive', u'expereinces', u'experience', u'experienced', u'experiences', u'experiencing', u'experiens', u'experiment', u'experimental', u'expert', u'expertise', u'expertly', u'experts', u'expiration', u'expire', u'expires', u'explain', u'explained', u'explaining', u'explains', u'explanation', u'explode', u'exploded', u'exploding', u'exploit', u'explore', u'explored', u'exploring', u'explosion', u'export', u'expos', u'expose', u'exposed', u'exposure', u'express', u'expressed', u'expression', u'expressions', u'exquisite', u'exsalonce', u'exspensive', u'extend', u'extended', u'extending', u'extension', u'extensive', u'exterior', u'exterminator', u'extorting', u'extra', u'extract', u'extracted', u'extraction', u'extraordinarily', u'extraordinary', u'extras', u'extravaganza', u'extreme', u'extremely', u'extremity', u'extremly', u'exude', u'exudes', u'ey', u'eye', u'eyeball', u'eyeballing', u'eyeballs', u'eyebrow', u'eyebrows', u'eyed', u'eyeing', u'eyes', u'eyesight', u'eytan', u'ez', u'f724', u'fab', u'fabric', u'fabrics', u'fabulos', u'fabulous', u'fabulousness', u'face', u'facebook', u'faced', u'faceplates', u'faces', u'facial', u'facials', u'faciatis', u'facilites', u'facilities', u'facility', u'facing', u'fact', u'facto', u'factor', u'factories', u'factors', u'factory', u'facts', u'faded', u'fags', u'fail', u'failed', u'failing', u'fails', u'failure', u'faint', u'fair', u'fairly', u'fairmont', u'fairway', u'fairways', u'fairy', u'faith', u'faithful', u'fajita', u'fajitas', u'fajito', u'fake', u'fakeness', u'fakville', u'falafel', u'falafels', u'fall', u'fallen', u'falling', u'fallout', u'falls', u'false', u'fame', u'famed', u'familiar', u'families', u'family', u'famished', u'famous', u'fan', u'fanatic', u'fanatical', u'fancier', u'fancy', u'fans', u'fanstatic', u'fantabulous', u'fantasies', u'fantasize', u'fantasizing', u'fantastalistic', u'fantastic', u'fantastical', u'fantastically', u'fantasy', u'far', u'farberware', u'fare', u'fargin', u'fargo', u'farm', u'farmed', u'farmer', u'farmers', u'farmhouse', u'farmland', u'farms', u'fart', u'farther', u'fascia', u'fascinated', u'fashion', u'fashioned', u'fashions', u'fast', u'faster', u'fastest', u'fat', u'fatal', u'fate', u'father', u'fathers', u'fathom', u'fats', u'fattening', u'fattie', u'fatty', u'faucets', u'fault', u'faux', u'fav', u'fave', u'faves', u'favie', u'favor', u'favorable', u'favorably', u'favored', u'favorite', u'favorites', u'favorito', u'favors', u'favourite', u'favs', u'fawning', u'fax', u'faxed', u'faxes', u'fe', u'fear', u'feared', u'fearing', u'fears', u'feast', u'feasted', u'feasting', u'feat', u'feature', u'featured', u'features', u'featuring', u'feb', u'febuary', u'feces', u'fed', u'feddys', u'feds', u'fee', u'feed', u'feedback', u'feeders', u'feeding', u'feeds', u'feel', u'feeling', u'feelings', u'feels', u'feenin', u'fees', u'feet', u'feiends', u'fell', u'fellas', u'feller', u'fellow', u'felt', u'female', u'fence', u'fenced', u'fender', u'feng', u'fennel', u'fermentated', u'fermented', u'fermier', u'ferns', u'ferrari', u'ferrits', u'fest', u'festival', u'festivals', u'festive', u'festivities', u'fet', u'feta', u'fetash', u'fetch', u'fetoosh', u'fetta', u'fettuccine', u'fettucine', u'fettucini', u'fetzer', u'feuille', u'fever', u'fewer', u'fez', u'ff', u'fh', u'fi', u'fiance', u'fiancee', u'fianc\\xe9', u'fibbertygibbet', u'ficticious', u'fiction', u'fiddler', u'fides', u'fied', u'field', u'fields', u'fiend', u'fierce', u'fiercely', u'fiery', u'fiesta', u'fifth', u'fig', u'fight', u'fighting', u'fights', u'figs', u'figuratively', u'figure', u'figured', u'figures', u'figuring', u'file', u'filed', u'filepe', u'files', u'filet', u'filets', u'filiberto', u'filibertos', u'filing', u'filings', u'filipino', u'filled', u'filler', u'fillet', u'fillets', u'filling', u'fillings', u'fills', u'filly', u'film', u'filmed', u'films', u'filmy', u'filter', u'filth', u'filthy', u'fin', u'final', u'finale', u'finally', u'finalmente', u'finals', u'finance', u'financial', u'financially', u'finding', u'findings', u'finds', u'fine', u'finely', u'finer', u'fines', u'finesse', u'finest', u'finger', u'fingerling', u'fingernails', u'fingerprint', u'fingerprinting', u'fingers', u'fingertip', u'fingertips', u'finish', u'finished', u'finishes', u'finishing', u'finnaly', u'firearms', u'firebird', u'fired', u'firefly', u'firemen', u'firepit', u'fireplace', u'fireplaces', u'fires', u'firestone', u'firewood', u'fireworks', u'firm', u'firmer', u'firstly', u'fish', u'fishers', u'fishheads', u'fishing', u'fishy', u'fist', u'fists', u'fit', u'fitcenter', u'fitness', u'fits', u'fitted', u'fitter', u'fitting', u'fitzgerald', u'fix', u'fixated', u'fixe', u'fixed', u'fixie', u'fixin', u'fixing', u'fixtures', u'flag', u'flagstaff', u'flair', u'flake', u'flaked', u'flakey', u'flaky', u'flambeed', u'flame', u'flamenco', u'flaming', u'flan', u'flank', u'flanked', u'flannel', u'flap', u'flare', u'flash', u'flashed', u'flashlight', u'flashlights', u'flask', u'flat', u'flatbread', u'flatbreads', u'flatiron', u'flattened', u'flatter', u'flautas', u'flaverful', u'flavor', u'flavored', u'flavorful', u'flavorgasm', u'flavoring', u'flavorless', u'flavors', u'flavour', u'flawless', u'flaws', u'flee', u'fleet', u'fleming', u'flemings', u'flemmingsery', u'flew', u'flexed', u'flexibility', u'flexible', u'flicked', u'flickr', u'flier', u'flies', u'flight', u'flights', u'flimsiest', u'flimsy', u'flintstones', u'flip', u'flippant', u'flipper', u'flipstick', u'flirt', u'flirting', u'flirtini', u'flo', u'float', u'floating', u'flock', u'flocking', u'flooded', u'flooding', u'floor', u'floored', u'floors', u'flops', u'flora', u'floral', u'florals', u'florence', u'florescent', u'florets', u'florida', u'florist', u'flossing', u'flour', u'flourished', u'flourishes', u'flourishing', u'flourless', u'flours', u'flow', u'flowed', u'flower', u'flowering', u'flowers', u'flowing', u'flown', u'flu', u'fluent', u'fluff', u'fluffed', u'fluffiness', u'fluffy', u'fluke', u'flummoxed', u'fluorescent', u'flushed', u'flushes', u'flushing', u'flustered', u'flute', u'fluttering', u'fluttery', u'flw', u'fly', u'flyer', u'flyers', u'flying', u'flyover', u'fnb', u'fo', u'foam', u'foamed', u'foamy', u'focaccia', u'focal', u'foccacia', u'focus', u'focused', u'focuses', u'focusing', u'fodder', u'fogo', u'foie', u'foil', u'fold', u'folding', u'folk', u'folks', u'follow', u'followed', u'following', u'follows', u'fond', u'fondant', u'fondest', u'fondu', u'fondue', u'fondues', u'fontina', u'foo', u'food', u'foodaholic', u'foodie', u'foodies', u'foodnet', u'foods', u'foodstuffs', u'foody', u'fooey', u'foofy', u'fool', u'fooled', u'foolery', u'fooling', u'foolish', u'fools', u'foot', u'footage', u'football', u'foothills', u'footlongs', u'footprint', u'foraged', u'foray', u'forbidden', u'force', u'forced', u'forcing', u'ford', u'forearms', u'foreign', u'foremost', u'foresee', u'forest', u'forever', u'forewarned', u'forgave', u'forget', u'forgettable', u'forgetting', u'forgivable', u'forgive', u'forgiving', u'forgo', u'forgot', u'forgotten', u'fork', u'forks', u'form', u'formal', u'format', u'formation', u'formations', u'formative', u'formidable', u'forming', u'forms', u'formula', u'fornaio', u'forno', u'forsaken', u'forth', u'fortunate', u'fortunately', u'fortune', u'forvever', u'forward', u'forwarded', u'fossil', u'foster', u'fought', u'foul', u'fould', u'foundation', u'founded', u'founder', u'fountain', u'fountains', u'fourteen', u'fourth', u'fourtherly', u'fowl', u'fox', u'foxes', u'foyer', u'fraction', u'frag', u'fragrance', u'fraiche', u'frail', u'frame', u'framed', u'frames', u'fran', u'france', u'frances', u'francesca', u'franchise', u'franchises', u'francis', u'franciscan', u'francisco', u'franco', u'frangipane', u'frank', u'frankfurters', u'frankly', u'frantic', u'frantically', u'frappes', u'frat', u'fray', u'frazzeling', u'fra\\xeeche', u'freak', u'freaked', u'freakin', u'freaking', u'freaky', u'fred', u'freddie', u'freddy', u'free', u'freedom', u'freeway', u'freeze', u'freezer', u'freezing', u'freind', u'freindly', u'french', u'frenched', u'frenzy', u'frequent', u'frequented', u'frequenting', u'frequently', u'frequents', u'fresca', u'frescas', u'fresco', u'frescoed', u'fresh', u'freshener', u'fresher', u'freshest', u'freshly', u'freshness', u'freshwater', u'frickin', u'frida', u'friday', u'fridays', u'fridge', u'fried', u'friend', u'friendlier', u'friendliest', u'friendliness', u'friendly', u'friends', u'friendship', u'fries', u'friggin', u'frigging', u'frighten', u'frightened', u'frijoles', u'frills', u'frings', u'frisco', u'frita', u'fritas', u'fritatta', u'frites', u'frito', u'frittata', u'frittatas', u'fritters', u'fritti', u'fritto', u'fro', u'frogger', u'fromage', u'frontiers', u'frontline', u'froo', u'frost', u'frosted', u'frosting', u'frosty', u'froth', u'frothy', u'frown', u'froyo', u'froze', u'frozen', u'frquently', u'fru', u'fructose', u'frugal', u'frugle', u'fruit', u'fruits', u'fruity', u'frustrated', u'frustrating', u'frustration', u'frustrations', u'fry', u'frybread', u'fryer', u'frying', u'frys', u'fsg07smlz5s', u'ft', u'fubar', u'fuck', u'fucked', u'fuckhead', u'fuckin', u'fucking', u'fucks', u'fuct', u'fuddburger', u'fuddrucker', u'fuddruckers', u'fudge', u'fuego', u'fuel', u'fueled', u'fueling', u'fuh', u'fuji', u'fujiwara', u'fujiya', u'fulfill', u'fulfilling', u'fullest', u'fulling', u'fulls', u'fully', u'fuming', u'fun', u'function', u'functional', u'functionality', u'fund', u'fundido', u'funding', u'fundito', u'fundraiser', u'fundraising', u'funds', u'fungus', u'funk', u'funky', u'funnel', u'funner', u'funniest', u'funny', u'funsports', u'furious', u'furnace', u'furnished', u'furnishings', u'furniture', u'furrowed', u'furry', u'furthermore', u'fury', u'fuse', u'fuses', u'fusion', u'fuss', u'fussy', u'future', u'futuristic', u'fuzzy', u'fwd', u'fyi', u'g37', u'gabe', u'gabi', u'gabriel', u'gadgets', u'gaeta', u'gag', u'gaga', u'gain', u'gained', u'gainey', u'gaining', u'gak', u'gal', u'galbi', u'galleries', u'gallery', u'gallina', u'gallo', u'gallon', u'gallons', u'galore', u'gals', u'galze', u'gambas', u'gamble', u'gamblers', u'gambling', u'game', u'games', u'gammage', u'ganache', u'gang', u'gangplank', u'ganoosh', u'ganouj', u'ganoush', u'gansitos', u'gap', u'garage', u'garbage', u'garbonzo', u'garces', u'garden', u'gardens', u'gardin', u'garfield', u'gargantuan', u'garlands', u'garlic', u'garlicky', u'garmin', u'garner', u'garnish', u'garnished', u'garnishes', u'garnishing', u'garsh', u'gary', u'gas', u'gasmic', u'gasoline', u'gasping', u'gastrique', u'gastronomic', u'gastronomical', u'gastronomy', u'gastropub', u'gate', u'gates', u'gateway', u'gather', u'gathered', u'gathering', u'gator', u'gatos', u'gauc', u'gaudy', u'gave', u'gavin', u'gay', u'gaylee', u'gazing', u'gazpacho', u'gear', u'gearing', u'geasy', u'gee', u'geek', u'geeks', u'geisha', u'gel', u'gelati', u'gelatin', u'gelatinous', u'gelato', u'gelish', u'gels', u'gem', u'gems', u'gen', u'gender', u'genders', u'general', u'generally', u'generate', u'generation', u'generations', u'generic', u'generious', u'generous', u'generously', u'genes', u'genevese', u'genin', u'genius', u'genre', u'genres', u'gent', u'gentle', u'gentleman', u'gentlemen', u'gently', u'genuine', u'genuinely', u'george', u'georges', u'georgia', u'georgie', u'geranios', u'germain', u'german', u'germany', u'germs', u'gerri', u'gesture', u'getaway', u'gets', u'gettin', u'getting', u'gf', u'ghetto', u'ghirardelli', u'ghost', u'giant', u'giants', u'giardinara', u'giardiniera', u'gift', u'gifts', u'gig', u'gigantic', u'giggle', u'gil', u'gila', u'gilbert', u'gilda', u'gills', u'gimlet', u'gimme', u'gimmick', u'gimmicks', u'gimmicky', u'gin', u'gina', u'ginger', u'gingerbread', u'ginormous', u'gio', u'giorno', u'giraffes', u'girdle', u'girl', u'girlfriend', u'girlfriends', u'girls', u'girly', u'girth', u'giseling', u'giselle', u'giu', u'giuseppe', u'giuseppes', u'giveing', u'given', u'giver', u'gives', u'giving', u'glace', u'glacier', u'glad', u'gladly', u'glamorous', u'glance', u'glands', u'glare', u'glaring', u'glass', u'glasses', u'glasswares', u'glaze', u'glazed', u'gleaming', u'glee', u'glendale', u'glib', u'glibert', u'glimpse', u'glistening', u'glitches', u'glitters', u'glittery', u'gloria', u'glorias', u'glories', u'glorified', u'glorious', u'glory', u'glosses', u'glossy', u'glove', u'gloves', u'glow', u'glowing', u'glows', u'gluten', u'glutten', u'glutton', u'gluttonous', u'gluttony', u'gm', u'gnarly', u'gnocchi', u'goal', u'goalie', u'goals', u'goat', u'goats', u'goaz', u'gobble', u'gobbled', u'gobi', u'god', u'goddamn', u'goddess', u'godfather', u'gods', u'goer', u'goers', u'goes', u'goi', u'going', u'goings', u'gold', u'golden', u'goldwater', u'goldwell', u'golf', u'golfer', u'golfers', u'golfing', u'goliath', u'gomen', u'gon', u'gone', u'gong', u'gonna', u'gonzales', u'goo', u'goober', u'goobye', u'good', u'goodbye', u'goodcents', u'goodies', u'goodness', u'goods', u'goodwill', u'goodyear', u'goodytwo', u'gooey', u'goof', u'goofy', u'google', u'googled', u'googling', u'goona', u'goood', u'goooood', u'gooooooood', u'gooooooooodness', u'goose', u'goosebumps', u'gooy', u'gordo', u'gordon', u'goregous', u'gorganzola', u'gorge', u'gorgeous', u'gorgonzola', u'gosh', u'gospel', u'gossip', u'gossiping', u'got', u'gothic', u'goto', u'gots', u'gotta', u'gotten', u'gotter', u'gouda', u'gouged', u'gourmet', u'gov', u'government', u'governor', u'gown', u'gowns', u'gps', u'grab', u'grabbed', u'grabbing', u'grabbingly', u'grace', u'graced', u'gracious', u'graciously', u'graciousness', u'grad', u'grade', u'graders', u'grades', u'gradual', u'graduate', u'graduated', u'graduation', u'grady', u'graham', u'grahm', u'grain', u'grains', u'grand', u'grandad', u'grandchildren', u'grande', u'grandiose', u'grandma', u'grandmas', u'grandmother', u'grandmothers', u'grandpa', u'grandparents', u'grandson', u'granite', u'granny', u'granola', u'granted', u'grape', u'grapefruit', u'grapes', u'graphically', u'graphics', u'grappa', u'gras', u'grasp', u'grass', u'grasses', u'grassroots', u'grassy', u'grated', u'grateful', u'gratefully', u'gratifying', u'gratin', u'gratis', u'gratitude', u'gratuitus', u'gratuity', u'gratzi', u'gravel', u'gravelly', u'graveyard', u'gravlax', u'gravy', u'gray', u'grayhawk', u'grazie', u'grazing', u'grease', u'greasiest', u'greasy', u'great', u'greater', u'greatest', u'greatly', u'greatness', u'greece', u'greed', u'greedy', u'greeeeeeat', u'greek', u'green', u'greenbelt', u'greene', u'greens', u'greenville', u'greenway', u'greet', u'greeted', u'greeting', u'greetings', u'greets', u'greg', u'grelichs', u'grenache', u'greta', u'grew', u'grey', u'griddle', u'griddled', u'grief', u'grigio', u'grill', u'grille', u'grilled', u'griller', u'grilling', u'grills', u'grimaldi', u'grimaldis', u'grimiest', u'grin', u'grind', u'grinda', u'grinded', u'grinder', u'grinders', u'grinding', u'gringa', u'gringas', u'gringos', u'grinning', u'gripe', u'gripes', u'gristle', u'gristly', u'grit', u'grits', u'gritted', u'gritty', u'grocer', u'groceries', u'grocery', u'groin', u'groom', u'groomed', u'groomer', u'grooming', u'gross', u'grossed', u'grossest', u'ground', u'grounds', u'group', u'groupie', u'grouping', u'groupon', u'groupons', u'groups', u'grousing', u'grove', u'groves', u'grow', u'growers', u'growing', u'growled', u'growler', u'growlers', u'growls', u'grown', u'grows', u'growth', u'grr', u'grub', u'grubbiest', u'grumpy', u'gruyere', u'gryos', u'gr\\xe2ce', u'gs', u'gtfo', u'guac', u'guacamole', u'guacomole', u'guadalupe', u'guangdong', u'guarantee', u'guaranteed', u'guard', u'guards', u'gucci', u'guedo', u'guenther', u'guerrero', u'guess', u'guessed', u'guessing', u'guest', u'guests', u'guide', u'guided', u'guidelines', u'guides', u'guiding', u'guido', u'guild', u'guilt', u'guilty', u'guiness', u'guinness', u'guissepe', u'guitar', u'guitars', u'gulf', u'gulp', u'gum', u'gumbo', u'gumline', u'gummie', u'gummy', u'gums', u'gun', u'gunkan', u'gunked', u'gunna', u'gunny', u'gurtude', u'gurus', u'gush', u'gushing', u'gushy', u'gusta', u'gusting', u'gusto', u'gut', u'guts', u'gutsy', u'gutted', u'gutting', u'guy', u'guys', u'gym', u'gyms', u'gynormus', u'gyoza', u'gyrating', u'gyro', u'gyros', u'h2o', u'ha', u'haagen', u'habanero', u'habaneros', u'habenero', u'habit', u'hacky', u'haddock', u'hadn', u'hadnt', u'hagard', u'hagen', u'haha', u'hahahahaha', u'hahn', u'haiku', u'hail', u'hair', u'haircot', u'haircut', u'haircuts', u'hairdresser', u'haired', u'hairs', u'haji', u'hakata', u'haley', u'half', u'halfway', u'halibut', u'hall', u'halley', u'hallmark', u'halloween', u'hallway', u'hallways', u'halo', u'halogens', u'halorescue', u'ham', u'hamachi', u'hamburger', u'hamburgers', u'hamburgessa', u'hamilton', u'hammered', u'hamper', u'hampshire', u'hampton', u'hana', u'hancock', u'hand', u'handed', u'handedly', u'handful', u'handi', u'handicappers', u'handing', u'handiwork', u'handkerchiefs', u'handle', u'handlebar', u'handled', u'handles', u'handling', u'handmade', u'hands', u'handshake', u'handsome', u'handsomely', u'handwritten', u'handy', u'hanede', u'haney', u'hang', u'hangars', u'hanger', u'hanging', u'hangings', u'hangout', u'hangover', u'hangovers', u'hangs', u'hankering', u'hanny', u'hannys', u'hansen', u'hanson', u'hansons', u'hap', u'haphazardly', u'happen', u'happened', u'happenin', u'happening', u'happens', u'happhazardly', u'happier', u'happiest', u'happily', u'happiness', u'happy', u'harass', u'harassed', u'harassing', u'harbor', u'harcs', u'hard', u'hardcore', u'hardcovers', u'hardened', u'harder', u'hardly', u'hardware', u'hardwood', u'hardworking', u'hardy', u'harissa', u'harkin', u'harkins', u'harlequin', u'harley', u'harm', u'harmful', u'harmonies', u'harmony', u'harp', u'harping', u'harried', u'harris', u'harry', u'harsh', u'harshness', u'hart', u'haru', u'harvest', u'harvil', u'hash', u'hashbrowns', u'hasn', u'hassle', u'hastily', u'hasty', u'hat', u'hatch', u'hate', u'hated', u'hateful', u'hates', u'hatha', u'hats', u'haul', u'hauled', u'haunt', u'haunted', u'haunts', u'haus', u'hava', u'havana', u'havarti', u'haven', u'havent', u'having', u'havn', u'havoc', u'hawaii', u'hawaiian', u'hay', u'hayashi', u'hayden', u'hayride', u'hazelnut', u'hazelnuts', u'hazzard', u'ha\\xfcs', u'hbo', u'hcg', u'head', u'headache', u'headaches', u'headed', u'headfirst', u'heading', u'headphones', u'headquarters', u'heads', u'headset', u'heal', u'healed', u'healer', u'healing', u'heals', u'health', u'healthcare', u'healthier', u'healthiest', u'healthy', u'heap', u'heaping', u'heaps', u'hear', u'heard', u'hearing', u'hears', u'heart', u'heartbeat', u'heartbroken', u'heartburn', u'hearted', u'heartedly', u'hearth', u'hearts', u'heartworm', u'hearty', u'heat', u'heated', u'heater', u'heaters', u'heath', u'heathens', u'heather', u'heaven', u'heavenly', u'heavens', u'heaviest', u'heavily', u'heavy', u'heck', u'heckling', u'hedge', u'hee', u'heed', u'heel', u'heeled', u'heels', u'hefe', u'hefeweizen', u'heff', u'hefty', u'hegel', u'heh', u'hehehe', u'heidelberg', u'height', u'heightened', u'heinous', u'heinritz', u'heinz', u'heirloom', u'held', u'helen', u'helicopters', u'hell', u'hellllll', u'hellllllllo', u'hello', u'hells', u'helmet', u'helmets', u'help', u'helped', u'helpers', u'helpful', u'helpfull', u'helpfulness', u'helping', u'helpless', u'helps', u'helstrom', u'hem', u'hematoma', u'hemmed', u'hen', u'henckels', u'hens', u'hep', u'herb', u'herbal', u'herbed', u'herberger', u'herbs', u'herd', u'heritage', u'herme', u'hernan', u'hernandez', u'hero', u'herring', u'hertz', u'hes', u'hesistant', u'hesitant', u'hesitate', u'hesitated', u'hesitation', u'hey', u'hh', u'hi', u'hiatus', u'hiccup', u'hick', u'hickish', u'hicks', u'hickups', u'hidden', u'hide', u'hideaway', u'hideous', u'hides', u'hiding', u'high', u'highchair', u'higher', u'highest', u'highland', u'highlight', u'highlights', u'highly', u'highs', u'highschool', u'hight', u'highway', u'highways', u'hike', u'hiked', u'hikers', u'hikes', u'hiking', u'hilarious', u'hilariously', u'hilary', u'hill', u'hillard', u'hills', u'hillstone', u'hilo', u'hilton', u'himalayan', u'hindering', u'hint', u'hints', u'hip', u'hipper', u'hippie', u'hippies', u'hippness', u'hippy', u'hipster', u'hipsterness', u'hipsters', u'hire', u'hired', u'hires', u'hiro', u'hispanic', u'historic', u'historical', u'history', u'hit', u'hitchin', u'hits', u'hitting', u'hk', u'hkgb', u'hmm', u'hmmm', u'hmmmm', u'hmmmmm', u'hmmmmmm', u'hmmph', u'hnnngffff', u'ho', u'hoa', u'hoagies', u'hoan', u'hob', u'hobbies', u'hobby', u'hoboken', u'hobos', u'hockey', u'hocks', u'hodgepodge', u'hoegaarden', u'hoffman', u'hog', u'hogie', u'hogwarts', u'hoikey', u'hokokum', u'hold', u'holder', u'holders', u'holding', u'holds', u'hole', u'holes', u'holey', u'holiday', u'holidays', u'holistic', u'hollandaise', u'hollendaise', u'holly', u'hollywood', u'holmes', u'holocaust', u'holy', u'hom', u'home', u'homefries', u'homeless', u'homemade', u'homeopathic', u'homer', u'homerun', u'homes', u'hometown', u'homework', u'homey', u'homies', u'hominy', u'homophobia', u'homosexuals', u'homous', u'honda', u'honduras', u'hone', u'honed', u'honeslty', u'honest', u'honestly', u'honesty', u'honey', u'honeycomb', u'honeymoon', u'hong', u'honked', u'honor', u'honored', u'honoring', u'honors', u'hoo', u'hood', u'hoodlum', u'hoods', u'hook', u'hooked', u'hooks', u'hooligans', u'hoooorray', u'hoopla', u'hooray', u'hooters', u'hootsuite', u'hop', u'hope', u'hoped', u'hopeful', u'hopefully', u'hopes', u'hopi', u'hoping', u'hopital', u'hopped', u'hoppin', u'hopping', u'hoppins', u'hops', u'hopshot', u'horatio', u'horchata', u'horizon', u'hormone', u'hormones', u'horns', u'horrendous', u'horrible', u'horribly', u'horrid', u'horrific', u'horror', u'horse', u'horseback', u'horseradish', u'horses', u'horshradish', u'hose', u'hospitable', u'hospital', u'hospitality', u'hospitals', u'host', u'hostage', u'hosted', u'hostess', u'hostesses', u'hostile', u'hosting', u'hosts', u'hot', u'hotdog', u'hotdogs', u'hotel', u'hotels', u'hotplate', u'hotspot', u'hotspots', u'hotter', u'hottest', u'hotties', u'hotttt', u'hound', u'hounding', u'hour', u'hours', u'house', u'housed', u'household', u'househunting', u'housekeeping', u'housemade', u'houses', u'housewares', u'housewife', u'houston', u'houstons', u'hover', u'hovered', u'hovering', u'howard', u'howdy', u'howl', u'hr', u'hrid', u'hrs', u'hs', u'htc', u'htf', u'html', u'http', u'huauchinango', u'hub', u'hubbard', u'hubby', u'hubs', u'huckleberry', u'hudson', u'hue', u'huera', u'hues', u'huevos', u'hug', u'huge', u'hugely', u'hugh', u'hugs', u'huh', u'hullabaloo', u'hum', u'human', u'humane', u'humanely', u'humanity', u'humans', u'humble', u'humbling', u'humbly', u'humdinger', u'humid', u'humidifier', u'humidity', u'humiliating', u'hummee', u'hummingbirds', u'hummus', u'humor', u'humus', u'hundreds', u'hung', u'hunger', u'hungover', u'hungrier', u'hungry', u'hunk', u'huns', u'hunt', u'hunter', u'hunters', u'hunting', u'hurrah', u'hurricane', u'hurried', u'hurries', u'hurry', u'hurt', u'hurtful', u'hurting', u'hurts', u'husband', u'husbands', u'hushpuppys', u'hussy', u'hustle', u'hustled', u'hut', u'hyatt', u'hybrid', u'hyde', u'hydrants', u'hydrated', u'hydration', u'hydrogen', u'hydrogenated', u'hygiene', u'hygienist', u'hygienists', u'hype', u'hyped', u'hyper', u'hyperbole', u'hypes', u'hypocrite', u'hyundai', u'iam', u'iamtimhardy', u'ice', u'iceberg', u'iceburg', u'icecream', u'iced', u'icee', u'ices', u'icey', u'ichi', u'icing', u'icious', u'ick', u'icky', u'icon', u'iconic', u'icons', u'icy', u'id', u'idea', u'ideal', u'ideas', u'idem', u'identical', u'identified', u'identify', u'identity', u'idiot', u'idiotic', u'idiots', u'idk', u'iffy', u'ignacio', u'ignite', u'ignorance', u'ignorant', u'ignore', u'ignored', u'ignoring', u'ihop', u'ii', u'iitoi', u'ikea', u'ikura', u'il', u'ilbs', u'ilk', u'ill', u'illegal', u'illlll', u'illness', u'illuminating', u'illusion', u'illusive', u'im', u'image', u'imagery', u'images', u'imaginable', u'imagination', u'imagine', u'imagined', u'imax', u'imbued', u'imho', u'imitation', u'immaculate', u'immaculately', u'immediate', u'immediately', u'immense', u'immensely', u'immigrants', u'imminent', u'immobile', u'immune', u'imo', u'impact', u'impaired', u'impeccable', u'impeccably', u'impending', u'imperative', u'imperial', u'impersonal', u'impession', u'impetus', u'implicitly', u'implies', u'impolite', u'importance', u'important', u'importantly', u'imported', u'importing', u'impossible', u'impostors', u'impractical', u'impresive', u'impress', u'impressed', u'impresses', u'impressing', u'impression', u'impressions', u'impressive', u'impressively', u'improper', u'improv', u'improve', u'improved', u'improvement', u'improvements', u'improves', u'improving', u'inability', u'inactive', u'inactivity', u'inadequate', u'inappropriate', u'inauthentic', u'inbetween', u'inbox', u'incantation', u'incapable', u'incarnation', u'incentive', u'incentives', u'inch', u'inches', u'incidences', u'incident', u'incidental', u'incidentally', u'incision', u'inclined', u'inclines', u'include', u'included', u'includes', u'including', u'inclusion', u'inclusive', u'income', u'incompetence', u'incompetent', u'incongruous', u'inconsistencies', u'inconsistent', u'inconvenice', u'inconvenience', u'inconvenienced', u'inconveniencing', u'inconvenient', u'incorporate', u'incorporated', u'incorrect', u'incorrectly', u'increase', u'increasing', u'increasingly', u'incredible', u'incredibly', u'indecisive', u'independent', u'independently', u'indescribably', u'indestructible', u'index', u'india', u'indian', u'indiana', u'indians', u'indicated', u'indicates', u'indication', u'indictment', u'indie', u'indifferent', u'indigenous', u'indistinguishable', u'individual', u'individuality', u'individualized', u'individually', u'individuals', u'indo', u'indoor', u'indoors', u'indra', u'induce', u'inducing', u'indulge', u'indulged', u'indulgence', u'indulgent', u'indulges', u'indulging', u'industrial', u'industrious', u'industry', u'ine', u'inedible', u'inevitable', u'inexcusable', u'inexpensive', u'inexplicably', u'infant', u'infants', u'infected', u'infection', u'inferior', u'infestations', u'infested', u'infiniti', u'inflammation', u'inflated', u'inflation', u'inflections', u'influence', u'info', u'infomercials', u'inform', u'informal', u'information', u'informational', u'informative', u'informed', u'infringement', u'infront', u'infuriating', u'infuse', u'infused', u'infusion', u'ing', u'ingenious', u'ingesting', u'ingrained', u'ingrediants', u'ingredient', u'ingredients', u'ingrown', u'inhaled', u'inherent', u'inhumane', u'initally', u'initial', u'initialed', u'initially', u'initiative', u'injera', u'injured', u'injuries', u'injuring', u'injury', u'ink', u'inlaws', u'inn', u'inner', u'innocent', u'innocuous', u'innova', u'innovation', u'innovative', u'innumerable', u'inoa', u'input', u'inquire', u'inquired', u'inquiring', u'inquisitive', u'ins', u'insane', u'insanely', u'insect', u'insecurities', u'insecurity', u'insert', u'inside', u'insider', u'insiders', u'insides', u'insight', u'insightful', u'insights', u'insist', u'insisted', u'insisting', u'insists', u'inspected', u'inspection', u'inspections', u'inspector', u'inspirational', u'inspire', u'inspired', u'inst', u'install', u'installed', u'installing', u'instance', u'instant', u'instantaneously', u'instantly', u'instatnt', u'instead', u'instincts', u'institute', u'institution', u'instructed', u'instruction', u'instructions', u'instructor', u'instructors', u'instruments', u'insufficient', u'insulation', u'insult', u'insulted', u'insulting', u'insults', u'insurance', u'insured', u'insures', u'intact', u'intake', u'intangible', u'integrated', u'integrity', u'intel', u'intellectually', u'intend', u'intended', u'intending', u'intense', u'intensity', u'intent', u'intention', u'intentional', u'intentions', u'interaction', u'interactions', u'interactive', u'intercontinental', u'interdisciplinary', u'interested', u'interesting', u'interior', u'interject', u'interlude', u'intermingled', u'intermission', u'internet', u'internship', u'interpretations', u'interrogated', u'interrupt', u'interrupted', u'interrupting', u'interspersed', u'intertwined', u'interview', u'interviews', u'intestines', u'intimacy', u'intimate', u'intimately', u'intimidated', u'intimidating', u'intolerance', u'intolerant', u'intolerants', u'intoxicated', u'intoxicating', u'intricate', u'intrigued', u'intrigueing', u'intriguing', u'intriguingly', u'intrinsic', u'intrinsically', u'introduce', u'introduced', u'introducing', u'introduction', u'introductions', u'intruding', u'intrusive', u'intuition', u'invading', u'invariably', u'invasive', u'invent', u'invented', u'inventive', u'inventory', u'invergorden', u'inverse', u'invest', u'investigate', u'investigated', u'investigating', u'investment', u'investor', u'invigorated', u'invincible', u'invisibility', u'invisible', u'invitations', u'invited', u'inviting', u'involve', u'involved', u'involves', u'involving', u'iodine', u'iolanda', u'iority', u'iot', u'ipa', u'ipad', u'iphone', u'ipic', u'ipod', u'ippei', u'iq', u'iranian', u'iraq', u'irish', u'irk', u'irks', u'iron', u'ironic', u'ironically', u'ironing', u'ironman', u'irony', u'irrational', u'irrelevant', u'irreplaceable', u'irrigate', u'irritable', u'irritate', u'irritated', u'irritates', u'irritating', u'irs', u'ish', u'island', u'islands', u'isle', u'isles', u'isn', u'isnt', u'isolated', u'israel', u'israeli', u'issue', u'issues', u'issuing', u'istore', u'italia', u'italian', u'italy', u'itch', u'item', u'itemized', u'items', u'ithink', u'itsy', u'itty', u'iv', u'ivaa', u'ive', u'ivory', u'ivy', u'ixtapa', u'ized', u'jabs', u'jac', u'jack', u'jackass', u'jacked', u'jacket', u'jackets', u'jackie', u'jackpot', u'jackrabbit', u'jacks', u'jacob', u'jacques', u'jacquie', u'jacuzzi', u'jade', u'jaeger', u'jagermeister', u'jaguar', u'jaime', u'jake', u'jalapeno', u'jalapenos', u'jalape\\xf1o', u'jalepeno', u'jalpeno', u'jam', u'jamaica', u'jamaican', u'jamba', u'jambalaya', u'jamburrito', u'james', u'jameson', u'jammed', u'jamming', u'jamoca', u'jams', u'jan', u'janes', u'janet', u'janis', u'january', u'japan', u'japanese', u'japchae', u'jar', u'jared', u'jargon', u'jars', u'jasmine', u'jason', u'java', u'jaw', u'jaws', u'jay', u'jazz', u'jazzed', u'jc', u'jd', u'jealous', u'jealously', u'jean', u'jeans', u'jedis', u'jeez', u'jeff', u'jefferson', u'jekyll', u'jello', u'jelly', u'jen', u'jenga', u'jenn', u'jenna', u'jennifer', u'jenny', u'jensy', u'jeopardize', u'jer', u'jeremiah', u'jerk', u'jerks', u'jerky', u'jerry', u'jerrys', u'jersey', u'jess', u'jesse', u'jesterz', u'jesus', u'jetted', u'jewel', u'jeweler', u'jewelers', u'jewelery', u'jewelry', u'jewels', u'jewess', u'jewish', u'jewlery', u'jhane', u'jiang', u'jib', u'jiggle', u'jill', u'jillian', u'jim', u'jimmy', u'jist', u'jitters', u'jj', u'jo', u'joan', u'job', u'jobby', u'jobing', u'jobot', u'jobs', u'jodi', u'joe', u'joes', u'john', u'johnny', u'johns', u'join', u'joined', u'joing', u'joining', u'joint', u'joints', u'joke', u'joked', u'joking', u'jokingly', u'jolie', u'joliet', u'jolly', u'jolt', u'jon', u'jonathan', u'jones', u'jonesin', u'jook', u'joplin', u'jordans', u'jose', u'joshua', u'jotted', u'jouet', u'journey', u'joy', u'joyfully', u'joynt', u'joys', u'jp', u'jr', u'juan', u'juba', u'jucey', u'judge', u'judged', u'judges', u'judging', u'judgment', u'judgmental', u'judgments', u'judith', u'juggalo', u'juggling', u'jugoslavian', u'juice', u'juices', u'juicy', u'jukebox', u'jules', u'julie', u'julienned', u'julios', u'july', u'julyish', u'jumbalaya', u'jumbo', u'jumbotron', u'jump', u'jumped', u'jumping', u'jumpsuit', u'june', u'jungle', u'jungles', u'junior', u'junk', u'junkie', u'junkyard', u'jura', u'juror', u'jus', u'just', u'justice', u'justifiable', u'justified', u'justify', u'justin', u'justina', u'justlenses', u'juxtaposing', u'jw', u'k56', u'kabob', u'kabobs', u'kabuki', u'kahlo', u'kahlua', u'kai', u'kaigen', u'kaj', u'kalamata', u'kale', u'kaley', u'kama', u'kanarish', u'kang', u'kansas', u'kanye', u'kaprow', u'kara', u'karahi', u'karanish', u'karaoke', u'karawi', u'karen', u'karey', u'karoake', u'karsh', u'karve', u'karyn', u'kashmans', u'kashmere', u'kasras', u'kat', u'katheaw', u'kathleen', u'kathy', u'katie', u'katlan', u'katsu', u'kauai', u'kaya', u'kazimierz', u'kazmer', u'kebab', u'kee', u'keeping', u'keeps', u'keg', u'keith', u'keller', u'kelly', u'ken', u'kennan', u'kennebec', u'kennel', u'kennels', u'kept', u'kerrie', u'ketchup', u'kettle', u'keurig', u'kevin', u'key', u'keyboard', u'keye', u'keyed', u'keypad', u'keys', u'kfc', u'kha', u'khai', u'khakis', u'kia', u'kibble', u'kick', u'kickass', u'kickassery', u'kickboxing', u'kicked', u'kicker', u'kickin', u'kicking', u'kicks', u'kicky', u'kid', u'kiddies', u'kidding', u'kiddos', u'kids', u'kierland', u'kiersten', u'kik', u'kill', u'killed', u'killer', u'killin', u'killing', u'kills', u'kilt', u'kiltlifter', u'kim', u'kimber', u'kimberly', u'kimchi', u'kimpton', u'kind', u'kinda', u'kindergarten', u'kindly', u'kindness', u'kinds', u'kinetic', u'king', u'kingdom', u'kings', u'kingston', u'kinkos', u'kinks', u'kins', u'kirin', u'kisra', u'kisras', u'kiss', u'kissing', u'kitchen', u'kitchens', u'kitfo', u'kitschy', u'kittens', u'kitty', u'kiwi', u'kk', u'klutz', u'knacks', u'knave', u'knee', u'knees', u'knew', u'knick', u'knickknacks', u'knife', u'knives', u'knob', u'knock', u'knocked', u'knocking', u'knook', u'knorr', u'knot', u'knotch', u'knots', u'know', u'knowing', u'knowledgable', u'knowledge', u'knowledgeable', u'known', u'knows', u'ko', u'kobe', u'koch', u'kokopelli', u'kolsch', u'kona', u'kong', u'kooks', u'kool', u'koolaid', u'koolaide', u'kore', u'korea', u'korean', u'kosher', u'kqoelzgklmrbayws8lhvfw', u'kra', u'kraft', u'krav', u'kreamery', u'kreme', u'krispy', u'kristen', u'kristian', u'kristin', u'kristy', u'kruger', u'kr\\xe4uter', u'kr\\xf6nung', u'ksubi', u'ku', u'kubrick', u'kudo', u'kudos', u'kufta', u'kumomato', u'kumquat', u'kun', u'kung', u'kurobuta', u'kurt', u'kwss', u'kyle', u'kyot', u'kyoto', u'kyrene', u'la', u'lab', u'label', u'labeled', u'labeling', u'labels', u'labor', u'laboratory', u'laborers', u'labs', u'lace', u'laced', u'lack', u'lacked', u'lacking', u'lackluster', u'lacks', u'lactose', u'ladder', u'laden', u'ladie', u'ladies', u'ladle', u'lady', u'ladys', u'lafayette', u'lags', u'lahna', u'laid', u'lair', u'lait', u'lake', u'lake9', u'lakes', u'lalibela', u'lamar', u'lamb', u'lame', u'lameness', u'laminated', u'lamination', u'lamp', u'lamps', u'lampshades', u'lance', u'land', u'landed', u'landing', u'landlocked', u'landmark', u'landmarks', u'landon', u'landscape', u'landscaped', u'landscaping', u'lane', u'lanes', u'language', u'lanning', u'lantana', u'lanterns', u'lap', u'lapping', u'laps', u'lapsang', u'laptop', u'laptops', u'larb', u'lard', u'lardo', u'laredo', u'larg', u'large', u'largely', u'larger', u'larges', u'largest', u'larissa', u'larry', u'las', u'lasagna', u'laser', u'lasering', u'lash', u'lashed', u'lassi', u'lasted', u'lasting', u'lastly', u'lasts', u'latched', u'late', u'lately', u'later', u'lateral', u'latest', u'latilla', u'latin', u'latino', u'latte', u'lattes', u'laudable', u'laugh', u'laughed', u'laughing', u'laughs', u'launch', u'laundry', u'laura', u'lava', u'lavender', u'lavenders', u'lavosh', u'law', u'lawn', u'lawns', u'laws', u'lawyer', u'lax', u'lay', u'layaway', u'layer', u'layered', u'layers', u'laying', u'layla', u'layout', u'layover', u'lazily', u'lazy', u'lazyass', u'lb', u'lbs', u'le', u'lead', u'leader', u'leading', u'leads', u'leaf', u'leafy', u'league', u'leah', u'leak', u'leaking', u'leaks', u'lean', u'leaned', u'leaner', u'leaning', u'leap', u'learn', u'learned', u'learning', u'learns', u'leary', u'lease', u'leased', u'leash', u'leashes', u'leasing', u'leather', u'leathery', u'leave', u'leaves', u'leaving', u'lebanese', u'leberkn\\xf6del', u'leche', u'leches', u'lechon', u'led', u'lee', u'leek', u'leeks', u'leery', u'lees', u'left', u'leftover', u'leftovers', u'leg', u'legacy', u'legal', u'legally', u'legend', u'legendary', u'legends', u'leggings', u'legit', u'legitimate', u'legitimately', u'legs', u'leguizamo', u'leisure', u'leisurely', u'lemme', u'lemming', u'lemon', u'lemonade', u'lemonades', u'lemondade', u'lemongrass', u'lemons', u'lemony', u'lenart', u'lend', u'lends', u'length', u'lengths', u'lengthwise', u'lengua', u'lennie', u'lenses', u'lentil', u'lentils', u'len\\xf4tre', u'leonidas', u'leotards', u'lepinja', u'leslie', u'lesser', u'lesson', u'lessons', u'let', u'lets', u'letter', u'letters', u'letting', u'lettuce', u'level', u'leveler', u'levels', u'levers', u'levy', u'lexus', u'leyva', u'lfs', u'lgo', u'liability', u'liar', u'libation', u'libations', u'liberace', u'liberal', u'liberty', u'libra', u'librarian', u'libraries', u'library', u'libras', u'licence', u'license', u'licensed', u'licious', u'lick', u'licked', u'lickin', u'licking', u'licorice', u'licous', u'lid', u'lie', u'lied', u'lienau', u'lies', u'lieu', u'life', u'lifeless', u'lifelong', u'lifesaver', u'lifestyle', u'lifetime', u'lift', u'lifter', u'lifting', u'lifts', u'light', u'lighted', u'lightening', u'lighter', u'lightest', u'lighthearted', u'lighting', u'lightly', u'lightning', u'lights', u'lightweight', u'lik', u'like', u'likeable', u'liked', u'likely', u'liken', u'likes', u'likey', u'liking', u'liklihood', u'lil', u'lilly', u'limb', u'lime', u'limes', u'limit', u'limitations', u'limited', u'limits', u'limo', u'limoncello', u'limone', u'limos', u'limp', u'limpest', u'lim\\xf3n', u'lincoln', u'linda', u'lindsay', u'lindsey', u'line', u'lined', u'linen', u'linens', u'liner', u'lines', u'linger', u'lingered', u'lingerie', u'lingering', u'linguini', u'linguisa', u'linguistic', u'lining', u'link', u'links', u'lion', u'lions', u'lip', u'lips', u'lipstick', u'liqueur', u'liquid', u'liquidating', u'liquidy', u'liquor', u'liquors', u'lisa', u'lisette', u'lish', u'lisous', u'list', u'listed', u'listen', u'listened', u'listeners', u'listening', u'listens', u'listing', u'listings', u'listlessly', u'lists', u'lit', u'litchfield', u'lite', u'liter', u'literally', u'litmus', u'litterally', u'little', u'livable', u'live', u'lived', u'lively', u'liver', u'livers', u'liverwurst', u'lives', u'livestock', u'living', u'livingsocial', u'liz', u'lizards', u'lizzie', u'll', u'lll', u'lloyd', u'lmt', u'lmts', u'lo', u'load', u'loaded', u'loading', u'loads', u'loaf', u'loan', u'loathed', u'loaves', u'lobby', u'lobbys', u'lobster', u'local', u'locale', u'locales', u'localfirstaz', u'locally', u'locals', u'locate', u'located', u'locating', u'location', u'locations', u'lock', u'locked', u'locker', u'locking', u'locksmith', u'loco', u'locoye', u'lodge', u'lodged', u'loft', u'logic', u'logical', u'logo', u'loin', u'loitering', u'lol', u'lola', u'lolcat', u'lolita', u'lollipops', u'lollypops', u'lolo', u'lon', u'london', u'lone', u'lonely', u'long', u'longed', u'longer', u'longest', u'longing', u'longish', u'lonnnnng', u'loo', u'loofah', u'look', u'looked', u'looking', u'lookout', u'looks', u'loooong', u'loooooove', u'looooounge', u'loooove', u'loop', u'loops', u'loose', u'loosely', u'loosened', u'loosens', u'loosing', u'looved', u'loraco', u'lord', u'loren', u'loretta', u'lori', u'loroco', u'los', u'lose', u'loser', u'loses', u'losing', u'loss', u'lost', u'lot', u'lotion', u'lots', u'lottery', u'lotus', u'loud', u'louder', u'loudly', u'loudspeakers', u'louis', u'louisiana', u'lounge', u'lounged', u'lounges', u'loungey', u'lounging', u'lousy', u'lovable', u'love', u'loved', u'loveitloveit', u'loveliest', u'loveliness', u'lovely', u'lover', u'lovers', u'loves', u'lovin', u'loving', u'lovvvve', u'low', u'lowbrow', u'lower', u'lowest', u'lowly', u'lox', u'loyal', u'loyalty', u'lozenge', u'lsu', u'ltf', u'lthe', u'luau', u'lubrication', u'luby', u'luch', u'lucille', u'lucious', u'luck', u'lucked', u'luckily', u'lucky', u'lucrative', u'lucy', u'luggage', u'luis', u'luke', u'lukewarm', u'lululemon', u'lulus', u'luminarias', u'lumpia', u'lumpless', u'luna', u'lunch', u'lunches', u'lunchtime', u'lung', u'lurch', u'lured', u'lurid', u'lush', u'lust', u'luster', u'luv', u'lux', u'luxe', u'luxurious', u'luxury', u'ly', u'lychee', u'lying', u'lynn', u'lyric', u'lyrical', u'lyrics', u'lysol', u'm1wrcux3oouhhrynl8kjqg', u'ma', u'mabel', u'mac', u'macadamia', u'macadamian', u'macademia', u'macalpines', u'macaroni', u'macarons', u'macaroons', u'macaw', u'macayo', u'macayos', u'macbook', u'macerated', u'machaca', u'machine', u'machines', u'macho', u'mackerel', u'macmillan', u'macmillian', u'macs', u'macy', u'mad', u'madagascar', u'madame', u'madden', u'maddie', u'madeliene', u'madera', u'madiera', u'madness', u'madonna', u'madras', u'madrid', u'maestro', u'maestros', u'maga', u'magazine', u'magazines', u'maggi', u'maggianos', u'magic', u'magical', u'magically', u'magners', u'magnet', u'magnificent', u'magnitude', u'magnolia', u'mags', u'mah', u'maharaja', u'mahhh', u'mahi', u'mai', u'maiden', u'maids', u'mail', u'mailbox', u'mailing', u'mails', u'main', u'maine', u'mainly', u'mains', u'mainstay', u'mainstream', u'maintain', u'maintained', u'maintaining', u'maintains', u'maintenance', u'maizie', u'majerle', u'majerles', u'majestic', u'major', u'majority', u'majors', u'make', u'makeover', u'maker', u'makers', u'makes', u'makeshift', u'makeup', u'makhani', u'makin', u'making', u'makita', u'makoks', u'malaise', u'malaysian', u'malbec', u'male', u'malee', u'malfunction', u'malfunctioned', u'malibu', u'mall', u'malls', u'malt', u'malted', u'maltese', u'malts', u'mam', u'mama', u'mamma', u'mammal', u'mamosa', u'mamoth', u'man', u'manage', u'manageable', u'managed', u'management', u'manager', u'managers', u'manages', u'managing', u'manchego', u'manchurian', u'mandarin', u'mandatory', u'maneuver', u'maneuverable', u'manga', u'manger', u'mango', u'manhandling', u'manhattan', u'mani', u'manicure', u'manicured', u'manicures', u'manikin', u'manipulation', u'mannequin', u'manner', u'mannered', u'manners', u'manning', u'manther', u'manual', u'manually', u'manuel', u'manufactured', u'manufacturer', u'map', u'maple', u'maps', u'mar', u'maraschino', u'marathon', u'marathons', u'marble', u'marcellino', u'march', u'marching', u'marcia', u'marco', u'marcus', u'maretplace', u'marg', u'margaret', u'margareta', u'margarita', u'margaritas', u'margaritta', u'margarittas', u'margherita', u'margin', u'marginal', u'margs', u'marguerite', u'maria', u'mariachi', u'maricopa', u'marie', u'marilyn', u'marinade', u'marinades', u'marinara', u'marinate', u'marinated', u'marine', u'mariott', u'mark', u'markdown', u'marked', u'markeplace', u'markers', u'market', u'marketing', u'marketplace', u'markets', u'marking', u'markings', u'marks', u'markup', u'markups', u'marmalade', u'marnier', u'marquee', u'marriage', u'married', u'marriot', u'marriott', u'marrow', u'marry', u'marsala', u'marscapone', u'marsha', u'marshal', u'marshals', u'marshamallow', u'marshmallow', u'marshmallows', u'mart', u'martial', u'martin', u'martinez', u'martini', u'martinis', u'marvel', u'marvelous', u'mary', u'maryland', u'marys', u'maryvale', u'marz', u'masa', u'masai', u'masala', u'mascaras', u'mascarpone', u'mash', u'mashed', u'masiman', u'mask', u'masking', u'masks', u'mason', u'masquerading', u'mass', u'massage', u'massagers', u'massages', u'massaging', u'massamum', u'masses', u'masseuse', u'masseuses', u'massive', u'mast', u'master', u'mastered', u'masterful', u'masterfully', u'mastering', u'masterpiece', u'mastery', u'mastro', u'mastros', u'mat', u'match', u'matched', u'matches', u'matching', u'matchstick', u'mate', u'mateo', u'mater', u'material', u'materials', u'mates', u'math', u'mathematically', u'matney', u'matrimony', u'matt', u'matter', u'matters', u'mattress', u'mattresses', u'mature', u'matzah', u'matzo', u'mauclerc', u'maui', u'maureen', u'mauves', u'mawshing', u'max', u'maxi', u'maxim', u'maximum', u'mayan', u'maybe', u'mayo', u'mayonnaise', u'mays', u'maytag', u'maz', u'mazin', u'mazing', u'mba', u'mbps', u'mc', u'mcc', u'mccac', u'mccain', u'mcclendon', u'mcclintock', u'mccormick', u'mcdonald', u'mcdonalds', u'mcdowell', u'mcgees', u'mcginnis', u'mcgrath', u'mcgrittles', u'mckellip', u'mckellips', u'mcklintock', u'mcnuggets', u'mcrae', u'meager', u'meal', u'meals', u'mealy', u'mean', u'meandered', u'meaning', u'meaningful', u'means', u'meant', u'meantime', u'measly', u'measure', u'measured', u'measurement', u'meat', u'meatball', u'meatballs', u'meatbeals', u'meathead', u'meatless', u'meatloaf', u'meatlovers', u'meats', u'meaty', u'mecca', u'mechado', u'mechanic', u'mechanical', u'mechanics', u'mecinas', u'medallion', u'medallions', u'media', u'medical', u'medication', u'medications', u'medicine', u'mediocre', u'mediterranean', u'medium', u'medley', u'meds', u'meeeeeanie', u'meet', u'meeting', u'meetings', u'meets', u'meetup', u'mega', u'megan', u'meh', u'mei', u'mein', u'meineke', u'mekong', u'mel', u'melded', u'meling', u'melissa', u'mellow', u'melon', u'melonfishphoto', u'melrose', u'melt', u'melted', u'melting', u'meltingly', u'melts', u'melty', u'member', u'members', u'membership', u'memberships', u'membrane', u'memo', u'memorabilia', u'memorable', u'memorial', u'memories', u'memorize', u'memory', u'men', u'menchies', u'mended', u'mens', u'mental', u'mentality', u'mention', u'mentioned', u'mentioning', u'mentions', u'mentor', u'menu', u'menudo', u'menus', u'meowganificant', u'merc', u'mercedes', u'merchandise', u'merchandising', u'mere', u'merely', u'meringue', u'merited', u'merrels', u'merry', u'mesa', u'mesh', u'mesha', u'mesmerized', u'mesquite', u'mess', u'message', u'messages', u'messed', u'messes', u'messing', u'messy', u'met', u'metabolism', u'metal', u'metate', u'meted', u'meteocre', u'meth', u'method', u'methodical', u'methods', u'meticulous', u'meticulously', u'metric', u'metro', u'metropolitan', u'metrosexuality', u'mex', u'mexi', u'mexican', u'mexico', u'meyer', u'mgr', u'mgrs', u'mi', u'mia', u'miagi', u'miami', u'mic', u'michael', u'michaels', u'michelada', u'michelina', u'michelle', u'michigan', u'mickey', u'mickie', u'micky', u'micro', u'microbes', u'microbrewery', u'microbrews', u'microscopically', u'microwave', u'microwaved', u'mid', u'midday', u'middle', u'midget', u'midi', u'midnight', u'midnite', u'mido', u'midst', u'midwest', u'midwesterner', u'mien', u'mierda', u'mightily', u'mightly', u'mighty', u'mignon', u'migraines', u'miguel', u'mike', u'mila', u'milagro', u'milanese', u'milano', u'mild', u'mile', u'miles', u'milic', u'military', u'milk', u'milkshake', u'milkshakes', u'milky', u'mille', u'miller', u'milling', u'million', u'millions', u'mills', u'mim', u'mimi', u'mimic', u'mimosa', u'mimosas', u'mims', u'min', u'minced', u'mind', u'minded', u'mineral', u'miners', u'mines', u'minestrone', u'mingle', u'mini', u'miniature', u'minimal', u'minimalist', u'minimalistic', u'minimally', u'minimize', u'minimized', u'minimum', u'miniscule', u'minisd', u'minna', u'minneapolis', u'minnesota', u'minnie', u'minor', u'mins', u'mint', u'mintchip', u'minty', u'minus', u'minut', u'minute', u'minutes', u'miracle', u'miraculous', u'mirage', u'miranda', u'mirror', u'mirrored', u'mirrors', u'mirushe', u'mis', u'mischa', u'miserable', u'miserably', u'misfit', u'misfortune', u'mish', u'mishandled', u'mishap', u'mishaps', u'mishmash', u'misinformation', u'misinformed', u'misir', u'mislead', u'misleading', u'misled', u'mismanagement', u'mismanaging', u'mismatched', u'miso', u'misono', u'misplaced', u'miss', u'missed', u'misses', u'missing', u'mission', u'mississippi', u'misstep', u'mist', u'mistake', u'mistakenly', u'mistakes', u'mistaking', u'mister', u'misters', u'misting', u'misto', u'mistos', u'misunderstanding', u'misunderstood', u'misuse', u'mitch', u'mitt', u'mitts', u'miu', u'mix', u'mixed', u'mixer', u'mixers', u'mixes', u'mixing', u'mixology', u'mixto', u'mixture', u'mj', u'mlb', u'mm', u'mma', u'mmm', u'mmmghgh', u'mmmm', u'mmmmm', u'mmmmmazing', u'mmmmmm', u'mmmmmmm', u'mmmmmmmm', u'mmmmmmmmmmm', u'mmmmmmmms', u'mmwkpmltbkcwnnlrai', u'mn', u'mnf', u'mns', u'moaning', u'mobbed', u'mobhcxoi_msekq', u'mobile', u'mocchiato', u'mocha', u'mochi', u'mock', u'mocking', u'mockingly', u'mode', u'model', u'modeled', u'modelo', u'models', u'moderate', u'moderately', u'modern', u'modest', u'modestly', u'modification', u'modifications', u'modify', u'moe', u'moes', u'mohawk', u'moist', u'moister', u'moistest', u'moistness', u'moisturizer', u'moisturizers', u'moisturizes', u'mojito', u'mojitos', u'mojo', u'mojos', u'molar', u'molasses', u'mold', u'molding', u'moldy', u'mole', u'molete', u'molino', u'molinos', u'molly', u'molotes', u'molten', u'moly', u'mom', u'moment', u'moments', u'momma', u'mommy', u'moms', u'mon', u'monarch', u'monday', u'mondays', u'money', u'moneys', u'mongolian', u'monitor', u'monitoring', u'monitors', u'monk', u'monkey', u'monkeys', u'mono', u'monotone', u'monsieur', u'monsoon', u'monster', u'monsters', u'monstrosity', u'monstrous', u'monte', u'montelucia', u'montenegro', u'monterey', u'monterrey', u'month', u'monthly', u'months', u'monthy', u'monton', u'monty', u'monumental', u'moo', u'mood', u'moods', u'moody', u'mooing', u'moon', u'moons', u'moore', u'moores', u'mopped', u'mopping', u'moral', u'morale', u'morally', u'moray', u'morbidly', u'mordida', u'mores', u'moreso', u'morgan', u'mormon', u'mormonic', u'morning', u'mornings', u'moroccan', u'moron', u'morons', u'morphed', u'morsel', u'mortadella', u'mortar', u'morton', u'mortons', u'mos', u'moscow', u'mosear', u'mosh', u'motel', u'mother', u'motherf', u'mothers', u'motion', u'motivate', u'motivated', u'motivating', u'motivation', u'moto', u'motor', u'motorcycles', u'mound', u'mounded', u'mounds', u'mount', u'mountain', u'mountains', u'mounted', u'mounting', u'mourn', u'mouse', u'mousse', u'mouth', u'mouthful', u'mouths', u'mouthwatering', u'moved', u'movement', u'moves', u'movie', u'moviegoers', u'movies', u'moving', u'mower', u'mozarella', u'mozz', u'mozza', u'mozzarella', u'mpls', u'mr', u'mrs', u'ms', u'msg', u'mtn', u'muaaah', u'muay', u'mucho', u'mudd', u'muddled', u'mudslide', u'muertos', u'muffin', u'muffins', u'muffler', u'mug', u'muggy', u'mugs', u'mule', u'mullet', u'mulling', u'multi', u'multigrain', u'multiple', u'multiplied', u'multiplier', u'multiply', u'multitude', u'munch', u'munchies', u'mundane', u'muppet', u'mural', u'murder', u'murphy', u'murray', u'musac', u'muscles', u'museum', u'museums', u'mush', u'mushiest', u'mushroms', u'mushroom', u'mushrooms', u'mushu', u'mushy', u'music', u'musical', u'musician', u'musicians', u'musing', u'musscles', u'mussel', u'mussels', u'mustachio', u'mustard', u'muster', u'musubi', u'mutant', u'mutilated', u'muttered', u'mutton', u'mutts', u'mvp', u'mwkzajaq', u'mylissa', u'myriad', u'myspace', u'mysterious', u'mystery', u'mystified', u'mystique', u'myun', u'na', u'naan', u'nacho', u'nachos', u'nada', u'nadya', u'naengmyeon', u'nag', u'nagging', u'nail', u'nailed', u'nailes', u'nails', u'nak', u'naked', u'nam', u'namaste', u'named', u'names', u'nametags', u'nami', u'namis', u'nan', u'nancy', u'nandos', u'nanny', u'naot', u'nap', u'napa', u'napkin', u'napkins', u'napoleon', u'napoleons', u'napolitano', u'napping', u'narcissistic', u'narcisstic', u'narrow', u'narrowing', u'nascar', u'nastily', u'nastiness', u'nasty', u'natale', u'natalie', u'natcher', u'nate', u'nately', u'nathan', u'nation', u'national', u'nationally', u'nationals', u'nationwide', u'native', u'natives', u'natural', u'naturally', u'nature', u'natured', u'naturopath', u'naturopathic', u'nau', u'nauseous', u'navajo', u'navigate', u'navy', u'nay', u'nazi', u'nba', u'nc', u'ncounter', u'nd', u'ne', u'near', u'nearby', u'nearest', u'nearly', u'neat', u'neatly', u'nebbiolo', u'nebraska', u'necessarily', u'necessary', u'necessities', u'necessity', u'neck', u'need', u'needed', u'needing', u'needle', u'needles', u'needless', u'needs', u'needy', u'neesd', u'nefarious', u'negate', u'negated', u'negative', u'negatives', u'neglected', u'negra', u'negress', u'neighbor', u'neighborhood', u'neighborhoods', u'neighboring', u'neighbors', u'neiman', u'nello', u'neng', u'neo', u'neon', u'neosprin', u'nephew', u'nephews', u'nerd', u'nerds', u'nerdy', u'nerve', u'nervous', u'nespresso', u'ness', u'nestled', u'nests', u'net', u'netflix', u'network', u'networking', u'neutered', u'neutering', u'new', u'newark', u'newbie', u'newbies', u'newborn', u'newcollege', u'newer', u'newest', u'newland', u'newly', u'newmans', u'newport', u'news', u'newshour', u'newsletter', u'newspaper', u'newspapers', u'newyorker', u'nfl', u'ngd', u'ngoc', u'nhat', u'nhra', u'nib', u'nibble', u'nibbles', u'niblets', u'nice', u'nicely', u'nicer', u'nicest', u'nickel', u'nickle', u'nickname', u'nicoise', u'nicole', u'niece', u'nigeri', u'night', u'nightcap', u'nightclub', u'nightclubs', u'nighters', u'nightlife', u'nightly', u'nightmare', u'nightmares', u'nights', u'nigiri', u'nigligent', u'nigth', u'nike', u'nikki', u'nile', u'niman', u'nineteen', u'ninja', u'nipple', u'nippon', u'niro', u'nirvana', u'nita', u'nite', u'nites', u'nitpicking', u'nitris', u'nj', u'nl', u'nnear', u'nob', u'noble', u'nobs', u'nobuo', u'noca', u'noches', u'nod', u'nodded', u'nog', u'nogales', u'noir', u'noise', u'noises', u'noisey', u'noisy', u'nom', u'nomenal', u'nominal', u'nominate', u'nominee', u'non', u'nondescript', u'nonetheless', u'nonfat', u'nonna', u'nonprescription', u'nonprofit', u'nonsense', u'noodle', u'noodles', u'nook', u'noon', u'noooo', u'nooooooooo', u'nopalito', u'nope', u'nordies', u'nordique', u'nordstrom', u'nordstroms', u'norm', u'normal', u'normalcy', u'normally', u'norman', u'normandy', u'norterra', u'north', u'northeast', u'northern', u'northwest', u'norton', u'nose', u'nosh', u'noshed', u'nosie', u'nostalgia', u'nostalgic', u'nostrils', u'notable', u'notary', u'notch', u'note', u'noted', u'notes', u'noticable', u'notice', u'noticeable', u'noticeably', u'noticed', u'notices', u'noticing', u'notified', u'notorious', u'notsomuch', u'notte', u'nough', u'nourishes', u'nourishment', u'nouvelle', u'nov', u'nova', u'novel', u'novels', u'novelties', u'novelty', u'november', u'novice', u'novles', u'nowadays', u'noy', u'nozzle', u'np', u'nsa', u'ntn', u'nude', u'nueva', u'nuff', u'nugget', u'nuggets', u'nuked', u'nulaid', u'numb', u'numbed', u'number', u'numbered', u'numbers', u'numbingly', u'numero', u'numerous', u'nun', u'nuong', u'nurse', u'nursery', u'nurses', u'nurturing', u'nut', u'nutcracker', u'nuteila', u'nutella', u'nutmeg', u'nutrition', u'nutritional', u'nutritious', u'nuts', u'nutsack', u'nutshell', u'nutty', u'nuvi', u'nw', u'nwohio', u'ny', u'nyc', u'nypd', u'o9jiksb', u'oahu', u'oak', u'oakland', u'oakville', u'oasis', u'oatmeal', u'ob', u'obama', u'obese', u'obgyn', u'objects', u'obligatory', u'obliged', u'obliques', u'oblivion', u'obnoxious', u'obscene', u'obscure', u'observant', u'observation', u'observed', u'obsessed', u'obsession', u'obsessive', u'obstinate', u'obstruction', u'obtain', u'obvious', u'obviously', u'occasion', u'occasional', u'occasionally', u'occasions', u'occassions', u'occupied', u'occupies', u'occupying', u'occur', u'occured', u'occurred', u'occurs', u'ocd', u'ocean', u'oceanic', u'oct', u'octaves', u'october', u'octomom', u'octopus', u'odd', u'oddity', u'oddly', u'oddness', u'odds', u'odinian', u'odor', u'odors', u'odyssey', u'offended', u'offending', u'offends', u'offense', u'offensive', u'offer', u'offered', u'offering', u'offerings', u'offers', u'office', u'officer', u'offices', u'official', u'officially', u'officials', u'oft', u'oftentimes', u'ofthe', u'oggie', u'ogled', u'oh', u'ohhh', u'ohhhhkay', u'ohio', u'oil', u'oiled', u'oiliest', u'oiliness', u'oils', u'oily', u'oink', u'oj', u'ok', u'okaaaaay', u'okay', u'okra', u'oktoberfest', u'ol', u'old', u'older', u'oldest', u'oldies', u'olds', u'oldsmobuick', u'ole', u'oleanders', u'olive', u'olives', u'olivos', u'ollie', u'olympic', u'omakase', u'omelet', u'omelets', u'omelette', u'omelettes', u'omfg', u'omg', u'ominvore', u'omit', u'omnivore', u'omt', u'onehope', u'ones', u'ongoing', u'onioins', u'onion', u'onions', u'online', u'ono', u'onset', u'onsite', u'onslaught', u'ony', u'ooey', u'ooh', u'oohed', u'oooh', u'ooooh', u'ooooohhh', u'oooooooo', u'ooooowwweeee', u'oops', u'oozing', u'open', u'opened', u'opening', u'openings', u'openly', u'opens', u'opentable', u'opera', u'operate', u'operated', u'operates', u'operating', u'operation', u'operations', u'operator', u'opi', u'opinion', u'opinions', u'oppinion', u'opportunity', u'opposed', u'opposite', u'oprah', u'ops', u'opt', u'opted', u'optical', u'optimized', u'opting', u'option', u'options', u'opulence', u'opulent', u'opus', u'oral', u'orange', u'orangecello', u'orangeheads', u'oranges', u'orangewood', u'orchard', u'orchata', u'orchestra', u'orchestrated', u'orchid', u'ordeal', u'orded', u'order', u'ordered', u'ordering', u'orderly', u'orders', u'ordinarily', u'ordinary', u'ordred', u'orecchiette', u'oreganata', u'oregano', u'oreganymphos', u'oregon', u'oregonian', u'oreo', u'oreos', u'org', u'organ', u'organic', u'organically', u'organization', u'organizations', u'organize', u'organized', u'organizers', u'organizes', u'organizing', u'orgasm', u'orgasmic', u'orgy', u'orient', u'oriental', u'oriented', u'orig', u'origin', u'original', u'originality', u'originally', u'originate', u'origins', u'orlando', u'orleans', u'ornament', u'ornaments', u'orthopedics', u'orvieto', u'orzo', u'osco', u'osetra', u'osf', u'osp', u'osso', u'ostentatious', u'osteopathic', u'oster', u'otaku', u'otb', u'otfm', u'ouch', u'ouchh', u'ought', u'ounce', u'ounces', u'outbursts', u'outclasses', u'outcome', u'outdated', u'outdoor', u'outdoors', u'outer', u'outfield', u'outfit', u'outfits', u'outfitters', u'outfront', u'outgoing', u'outgrowth', u'outing', u'outlasted', u'outlet', u'outlets', u'outlook', u'outlying', u'outnumbered', u'outraged', u'outrageous', u'outrageously', u'outrigger', u'outright', u'outs', u'outshines', u'outside', u'outsourced', u'outstanding', u'outstretched', u'outta', u'oven', u'ovens', u'overall', u'overalls', u'overbearing', u'overbooked', u'overcharge', u'overcome', u'overcompensation', u'overcooked', u'overcrowded', u'overdoing', u'overflow', u'overflowing', u'overgrown', u'overhead', u'overhear', u'overheard', u'overheat', u'overheating', u'overindulgence', u'overload', u'overloaded', u'overlook', u'overlooked', u'overlooking', u'overly', u'overnight', u'overpower', u'overpowered', u'overpowering', u'overpriced', u'overrated', u'overrode', u'overrun', u'overs', u'overseas', u'oversee', u'oversell', u'oversized', u'overspending', u'overstuff', u'overstuffed', u'overtime', u'overuse', u'overview', u'overweight', u'overwhelm', u'overwhelmed', u'overwhelming', u'overwhelmingly', u'overwheming', u'overworked', u'ovoid', u'owe', u'owed', u'owl', u'owned', u'owner', u'owners', u'ownership', u'owning', u'owns', u'oxbow', u'oxide', u'oxtail', u'oy', u'oye', u'oyster', u'oysters', u'oz', u'pa', u'pablo', u'pace', u'paced', u'pacific', u'pacifico', u'pacified', u'pacifier', u'pack', u'package', u'packaged', u'packages', u'packaging', u'packed', u'packet', u'packets', u'packs', u'pad', u'padding', u'paddle', u'paddy', u'padi', u'padre', u'padres', u'pads', u'page', u'pages', u'pagliacci', u'paid', u'pain', u'painful', u'painfully', u'painless', u'pains', u'painstaking', u'paint', u'painted', u'painters', u'painting', u'paintings', u'paints', u'pair', u'paired', u'pairing', u'pairings', u'pairs', u'pak', u'pakistani', u'pal', u'palabok', u'palace', u'palak', u'palatable', u'palate', u'palates', u'palatte', u'palce', u'pale', u'palee', u'palees', u'paleo', u'paleta', u'paletas', u'palette', u'palettes', u'pallet', u'palm', u'palmer', u'palms', u'palomar', u'palpable', u'pals', u'paltry', u'pamper', u'pampered', u'pampering', u'pan', u'pana', u'panang', u'pancake', u'pancakes', u'pancetta', u'pancho', u'pancit', u'panda', u'pane', u'paneer', u'panel', u'paneled', u'paneling', u'panera', u'panes', u'panic', u'panini', u'panko', u'panna', u'pans', u'pansy', u'pantaloons', u'panties', u'pantry', u'pants', u'pao', u'paola', u'papa', u'papago', u'papas', u'papaya', u'paper', u'paperback', u'paperwork', u'pappa', u'pappadeaux', u'pappardelle', u'paprika', u'par', u'parachute', u'paradise', u'paragraphs', u'paramount', u'paraphernalia', u'paraphrased', u'parasite', u'parasites', u'pardon', u'parent', u'parental', u'parents', u'parfait', u'parfaits', u'parilla', u'paris', u'parish', u'park', u'parka', u'parked', u'parker', u'parking', u'parks', u'parkway', u'parlor', u'parm', u'parma', u'parmagian', u'parmagiana', u'parmesan', u'parmigiano', u'paroose', u'parsley', u'parsnip', u'partake', u'partial', u'participants', u'participate', u'participated', u'participating', u'particuarly', u'particular', u'particularly', u'partied', u'parties', u'partner', u'partners', u'parts', u'party', u'partying', u'pasedena', u'pasena', u'paso', u'pasquale', u'pass', u'passable', u'passed', u'passenger', u'passengers', u'passes', u'passing', u'passion', u'passionate', u'passionately', u'passionfruit', u'passive', u'passport', u'past', u'pasta', u'pastabar', u'pastas', u'paste', u'pasties', u'pastor', u'pastrami', u'pastries', u'pastry', u'pasture', u'pasty', u'pat', u'patatas', u'patch', u'patched', u'patchouli', u'path', u'pathetic', u'pathetically', u'paths', u'patience', u'patient', u'patiently', u'patients', u'patio', u'patios', u'patisserie', u'patrick', u'patricks', u'patrol', u'patrols', u'patron', u'patronage', u'patronize', u'patronized', u'patronizing', u'patrons', u'pattern', u'patterned', u'patterns', u'patterson', u'patti', u'patties', u'patty', u'paul', u'paula', u'paulgstudio', u'pause', u'paved', u'pavilion', u'pavle', u'pavlov', u'pavlovian', u'paw', u'pawn', u'paws', u'pay', u'payard', u'paycheck', u'payday', u'payed', u'paying', u'payment', u'pays', u'payton', u'pazookie', u'pb', u'pbr', u'pbs', u'pcg', u'pea', u'peace', u'peaceful', u'peacefulness', u'peach', u'peaches', u'peak', u'peaking', u'peaks', u'peanut', u'peanuts', u'peanutty', u'pear', u'pearl', u'pearls', u'pearly', u'pears', u'peas', u'peasy', u'pebbles', u'pecan', u'pecans', u'pechuga', u'pecorino', u'pedal', u'peddle', u'pedestrians', u'pedi', u'pediatric', u'pedic', u'pedicure', u'pedicured', u'pedicures', u'pedigree', u'pedregal', u'pee', u'peebles', u'peeing', u'peek', u'peekaboo', u'peeks', u'peel', u'peeled', u'peeling', u'peels', u'peeped', u'peeps', u'peer', u'peeve', u'peggy', u'pei', u'peking', u'pellets', u'pelo', u'pelon', u'pen', u'penalties', u'penalty', u'pencil', u'pendemums', u'penetrated', u'penh', u'penis', u'pennants', u'penne', u'penny', u'pennys', u'penzey', u'peolple', u'people', u'peoples', u'peoria', u'pepitas', u'pepper', u'peppercorn', u'peppercorns', u'peppered', u'peppermint', u'pepperocini', u'pepperoni', u'pepperonis', u'peppers', u'peppery', u'pepsi', u'percent', u'percentage', u'perception', u'perch', u'perchance', u'perched', u'perfect', u'perfected', u'perfection', u'perfectionist', u'perfectlly', u'perfectly', u'perfecto', u'perform', u'performance', u'performances', u'performed', u'performers', u'perfume', u'perimeter', u'period', u'periodic', u'periodically', u'periods', u'peripherals', u'perk', u'perks', u'perky', u'permanent', u'permanently', u'permission', u'permit', u'permits', u'permitting', u'pernil', u'peroxide', u'perpperoni', u'perrier', u'persevered', u'persian', u'persistent', u'person', u'personable', u'personal', u'personality', u'personalized', u'personallity', u'personally', u'personaly', u'personified', u'personnel', u'persons', u'perspective', u'persuasion', u'perturbed', u'peruse', u'perused', u'peruvian', u'pervert', u'pescatarian', u'pesky', u'pestered', u'pesto', u'pet', u'petco', u'pete', u'peter', u'petite', u'petrified', u'pets', u'petshotel', u'petsitter', u'petsmart', u'petticoat', u'petting', u'petty', u'pew', u'pews', u'pf', u'pga', u'ph', u'phad', u'pharmacy', u'phase', u'phenom', u'phenomenal', u'phenomenally', u'phil', u'philadelphia', u'philip', u'philippines', u'phillo', u'philly', u'philosophy', u'phlegm', u'phnom', u'pho', u'phobia', u'phoenicia', u'phoenician', u'phoenicians', u'phoenix', u'phoenixcitygrille', u'phoenixrodandgun', u'phoeniz', u'phone', u'phones', u'phonetic', u'phony', u'photo', u'photographer', u'photographers', u'photographic', u'photography', u'photomark', u'photomart', u'photos', u'photoshoots', u'photoshopped', u'phrase', u'phuket', u'phx', u'phyllo', u'physical', u'physically', u'physician', u'physicians', u'piaggion', u'piano', u'piatto', u'pibb', u'pibil', u'picazzo', u'piccola', u'pick', u'picked', u'pickiest', u'picking', u'pickle', u'pickled', u'pickles', u'picks', u'pickup', u'picky', u'picnic', u'picnics', u'pico', u'picos', u'pics', u'picture', u'pictured', u'pictures', u'picturesque', u'pie', u'piece', u'pieces', u'piecing', u'pier', u'pierce', u'pierced', u'piercing', u'piercings', u'pierre', u'pierrend', u'pies', u'piestewa', u'pig', u'pigg', u'piggy', u'pigs', u'pilates', u'pile', u'piled', u'pilgrim', u'pilgrimage', u'pillage', u'pillow', u'pillows', u'pillowy', u'pilot', u'pilots', u'pima', u'pimms', u'pimp', u'pimpercrombie', u'pinapple', u'pinata', u'pinball', u'pinch', u'pine', u'pineapple', u'ping', u'pinguinos', u'pink', u'pinkeye', u'pinko', u'pinnacle', u'pinned', u'pinot', u'pins', u'pint', u'pinto', u'pints', u'pipe', u'piper', u'pipes', u'piping', u'pipping', u'pique', u'pirates', u'pischke', u'piss', u'pissed', u'pissing', u'pistachio', u'pistachios', u'pistols', u'pit', u'pita', u'pitas', u'pitch', u'pitcher', u'pitchers', u'pitches', u'pits', u'pitt', u'pitted', u'pittsburgh', u'pity', u'pivotal', u'pizza', u'pizzaria', u'pizzas', u'pizzeria', u'pizzeriabianco', u'pizzerias', u'pizzookie', u'pi\\xf1a', u'pj', u'pkh', u'placard', u'placards', u'place', u'placebo', u'placed', u'placement', u'places', u'placing', u'plague', u'plagued', u'plain', u'plainly', u'plan', u'planb', u'plane', u'planes', u'planet', u'plank', u'planks', u'planned', u'planners', u'planning', u'plans', u'plant', u'plantains', u'plantar', u'plants', u'plaque', u'plasma', u'plaster', u'plastered', u'plastic', u'plasticware', u'plate', u'plated', u'plateful', u'plates', u'platform', u'plating', u'platinum', u'platter', u'platters', u'play', u'playable', u'played', u'player', u'players', u'playful', u'playground', u'playing', u'playlist', u'plays', u'plaza', u'plazas', u'plea', u'pleasant', u'pleasanties', u'pleasantly', u'pleased', u'pleasing', u'pleasure', u'pleasures', u'pleather', u'pleeeaaassse', u'plentiful', u'plenty', u'plesant', u'plethora', u'plethoric', u'plex', u'plexiglass', u'pley', u'plight', u'ploenta', u'plop', u'plug', u'plugged', u'plumber', u'plumbing', u'plump', u'plumping', u'plunge', u'plunk', u'plus', u'pluses', u'plush', u'pm', u'pmg', u'pnp', u'po', u'poached', u'poblana', u'poblano', u'poca', u'pocket', u'pockets', u'pod', u'poetic', u'point', u'pointe', u'pointed', u'pointing', u'pointless', u'points', u'pointy', u'poise', u'poisoned', u'poisoning', u'poivre', u'poke', u'poked', u'poker', u'pole', u'polenta', u'poles', u'police', u'policia', u'policies', u'policy', u'polish', u'polished', u'polite', u'politely', u'political', u'politically', u'politicians', u'politics', u'polka', u'pollo', u'polo', u'polytechnic', u'pom', u'pomegranate', u'pomo', u'pompous', u'poncho', u'pond', u'pondered', u'pong', u'ponied', u'ponies', u'pontiac', u'poo', u'pooch', u'poodle', u'poodles', u'pooey', u'pool', u'pools', u'poolside', u'poop', u'poopy', u'poor', u'poorer', u'poorly', u'pop', u'popcorn', u'popped', u'poppers', u'poppin', u'popping', u'poppy', u'pops', u'popular', u'popularity', u'populated', u'population', u'populations', u'populous', u'porch', u'porchetta', u'porcini', u'pores', u'pork', u'porkless', u'porn', u'porridge', u'port', u'portabella', u'portabello', u'porter', u'portfolio', u'portion', u'portioned', u'portions', u'portland', u'portlandia', u'porto', u'portobello', u'portrait', u'portraits', u'portuguese', u'pose', u'poser', u'posh', u'posing', u'position', u'positions', u'positive', u'positively', u'positives', u'possessed', u'possesses', u'possession', u'possibility', u'possible', u'possibly', u'post', u'postcards', u'posted', u'poster', u'posters', u'posting', u'postino', u'postinos', u'postnet', u'posture', u'pot', u'potato', u'potatoe', u'potatoes', u'potatos', u'potence', u'potential', u'potentially', u'potholder', u'potholes', u'pots', u'potstickers', u'pottery', u'pottinger', u'poultry', u'pound', u'pounded', u'pounding', u'pounds', u'pour', u'poured', u'pouring', u'pours', u'poutine', u'powder', u'powdered', u'powders', u'powdery', u'power', u'powerful', u'powers', u'ppl', u'ppp', u'practical', u'practically', u'practice', u'practiced', u'practices', u'practicing', u'prada', u'praise', u'praised', u'praising', u'prance', u'prandial', u'prank', u'prawn', u'prawns', u'pray', u'prayers', u'praying', u'pre', u'preach', u'preaching', u'precariously', u'precede', u'precious', u'precise', u'precocous', u'predator', u'predators', u'predicament', u'predictable', u'predominant', u'predominantly', u'predominately', u'preeminent', u'preet', u'prefabricated', u'preface', u'prefect', u'prefer', u'preferably', u'prefered', u'preference', u'preferences', u'preferred', u'preferring', u'prefers', u'preform', u'pregnancy', u'pregnant', u'prego', u'premade', u'premier', u'premise', u'premises', u'premium', u'preoccupied', u'prep', u'prepackaged', u'prepaid', u'preparada', u'preparation', u'preparations', u'prepare', u'prepared', u'preparer', u'prepares', u'preparing', u'prepay', u'preperation', u'preplexed', u'prepped', u'prepping', u'preschool', u'prescribed', u'prescription', u'prescriptions', u'presence', u'present', u'presentation', u'presented', u'presenting', u'presents', u'preservation', u'preservatives', u'preserve', u'preserved', u'preserves', u'preset', u'president', u'presidential', u'presold', u'press', u'pressed', u'pressure', u'pressured', u'pressuring', u'pressurized', u'prestige', u'prestigious', u'presto', u'presumably', u'presume', u'presumed', u'pretend', u'pretension', u'pretentious', u'pretentiousness', u'pretsels', u'prettier', u'prettiest', u'pretty', u'pretzel', u'pretzels', u'prevent', u'preventative', u'prevented', u'prevention', u'preventive', u'previous', u'previously', u'price', u'priced', u'priceless', u'priceline', u'prices', u'pricey', u'pricier', u'pricing', u'prick', u'prickly', u'pricks', u'pricy', u'pride', u'prides', u'pried', u'prik', u'primarily', u'primary', u'primavera', u'prime', u'primed', u'primer', u'primera', u'primitive', u'primo', u'primp', u'princess', u'principle', u'print', u'printed', u'printers', u'prints', u'prior', u'priorities', u'priority', u'prismacolor', u'prisoners', u'pristine', u'privacy', u'private', u'privately', u'priveledge', u'priviledge', u'privy', u'prix', u'prize', u'pro', u'proactive', u'probably', u'probe', u'problem', u'problems', u'procedure', u'procedures', u'proceed', u'proceeded', u'proceeding', u'proceeds', u'process', u'processed', u'processing', u'procure', u'procured', u'prodding', u'produce', u'produces', u'product', u'production', u'productive', u'products', u'profanity', u'profesh', u'profesional', u'professed', u'professes', u'profession', u'professional', u'professionalism', u'professionally', u'professionals', u'professors', u'profile', u'profiling', u'profit', u'profitable', u'profiteroles', u'profits', u'profoundly', u'profusely', u'program', u'programmable', u'programming', u'programs', u'progress', u'progression', u'progressive', u'progressively', u'project', u'projected', u'projects', u'prom', u'prominent', u'prominently', u'promise', u'promised', u'promises', u'promising', u'promos', u'promote', u'promoted', u'promoter', u'promoters', u'promotes', u'promoting', u'promotion', u'promotions', u'prompt', u'promptly', u'pronounce', u'pronounced', u'pronto', u'pronunciation', u'proof', u'prop', u'propane', u'proper', u'properly', u'properties', u'property', u'proportional', u'proportions', u'proposed', u'proprietor', u'proprietors', u'proprietress', u'props', u'prorate', u'pros', u'prosciutto', u'proscuitto', u'prosecco', u'prospective', u'protecting', u'protein', u'proteins', u'protip', u'protocol', u'prot\\xe9g\\xe9', u'proud', u'proudly', u'prove', u'proved', u'proven', u'provencal', u'provence', u'proverbial', u'proves', u'provide', u'provided', u'provider', u'providers', u'provides', u'providing', u'proving', u'provisionals', u'provisions', u'provolone', u'proximity', u'proxy', u'ps', u'pseudo', u'psyched', u'psycho', u'psychologically', u'psychologist', u'pub', u'pube', u'public', u'publication', u'publications', u'publicized', u'publicly', u'published', u'publisher', u'pubs', u'pucks', u'pudding', u'puddle', u'puddles', u'pudge', u'pueblo', u'puff', u'puffs', u'pug', u'puka', u'puked', u'puking', u'pull', u'pulled', u'pullers', u'pulling', u'pullman', u'pulls', u'pulp', u'pulverized', u'pumas', u'pump', u'pumped', u'pumpernickel', u'pumping', u'pumpkin', u'pumps', u'pun', u'punch', u'punched', u'punches', u'punctual', u'punctuated', u'pungent', u'punished', u'punishment', u'punked', u'puntini', u'pup', u'puppies', u'puppy', u'pups', u'pupusa', u'pupusas', u'purchase', u'purchased', u'purchaser', u'purchases', u'purchasing', u'pure', u'puree', u'purell', u'purely', u'purist', u'purista', u'purple', u'purpose', u'purposed', u'purposely', u'purposes', u'purse', u'purses', u'pursued', u'pursuit', u'purveyor', u'pur\\xe9ed', u'push', u'pushed', u'pushes', u'pushing', u'pushy', u'pussy', u'pussycat', u'puts', u'puttanesca', u'puttanesco', u'putting', u'pv', u'pyllo', u'pyramid', u'qc', u'qdoba', u'qhick', u'qt', u'quacks', u'quail', u'quaint', u'qualifier', u'qualifies', u'qualify', u'qualifying', u'qualities', u'quality', u'qualm', u'quandary', u'quantity', u'quarter', u'quarters', u'que', u'quebec', u'queen', u'queens', u'queer', u'quesadilla', u'quesadillas', u'quesadlla', u'quesedillas', u'quesitons', u'queso', u'quest', u'question', u'questionable', u'questionably', u'questioned', u'questioning', u'questions', u'quibble', u'quiche', u'quiches', u'quick', u'quickening', u'quicker', u'quickest', u'quickly', u'quiessence', u'quiet', u'quieter', u'quietly', u'quiktrip', u'quiktrips', u'quinoa', u'quintessential', u'quiona', u'quirkily', u'quirky', u'quit', u'quite', u'quitting', u'quiznos', u'quorn', u'quotas', u'quote', u'quoted', u'quotes', u'qver', u'qwest', u'ra', u'rabbit', u'rabbits', u'rabe', u'rabies', u'rabit', u'race', u'raced', u'races', u'raceway', u'rachael', u'rachel', u'racial', u'racing', u'racism', u'rack', u'rackin', u'racks', u'racquet', u'rad', u'radar', u'radiator', u'radio', u'radish', u'radishes', u'radius', u'raffles', u'rafts', u'rag', u'rage', u'rager', u'ragey', u'ragin', u'ragout', u'rai', u'rail', u'railroad', u'rain', u'rainbow', u'rainforest', u'raintree', u'raise', u'raised', u'raisin', u'raising', u'raj', u'rake', u'ralph', u'rama', u'ramada', u'ramadas', u'rambutans', u'ramen', u'ramikans', u'ramirez', u'ran', u'rana', u'ranch', u'ranchera', u'ranchero', u'rancheros', u'rancid', u'rancilio', u'random', u'randomly', u'randy', u'rang', u'range', u'ranged', u'ranges', u'ranging', u'rangoons', u'rank', u'ranks', u'ransacked', u'ransom', u'rant', u'rap', u'rapid', u'rare', u'rarely', u'rarer', u'rarity', u'rasberry', u'raspberries', u'raspberry', u'rat', u'ratatouillie', u'rate', u'rated', u'rates', u'rating', u'ratings', u'ration', u'rations', u'rattled', u'rattles', u'rattling', u'rattlings', u'ratty', u'raucous', u'raunchy', u'ravaged', u'rave', u'raved', u'raven', u'raves', u'raving', u'ravings', u'ravioli', u'raviolis', u'raviolli', u'raw', u'rawk', u'rawness', u'rawr', u'ray', u'rays', u'razor', u'razpado', u'rb', u'rc', u'rd', u'rdh', u'rds', u'reaaaaally', u'reach', u'reached', u'reaches', u'reaching', u'react', u'reacted', u'reaction', u'read', u'reader', u'readers', u'readily', u'reading', u'reads', u'ready', u'real', u'realistic', u'reality', u'realize', u'realized', u'realizing', u'realllllllly', u'reallllllly', u'reallly', u'really', u'realrider', u'realryder', u'realtors', u'realty', u'reappeared', u'reapplied', u'rear', u'reason', u'reasonable', u'reasonably', u'reasons', u'reassurance', u'reassurances', u'reassured', u'reassuring', u'rebar', u'rebate', u'rebel', u'rebook', u'rebuilding', u'rebuttal', u'rec', u'recall', u'recant', u'recapture', u'reccomend', u'reccommend', u'receipt', u'receipts', u'receive', u'received', u'receives', u'receiving', u'recent', u'recently', u'recept', u'receptacle', u'reception', u'receptionist', u'receptions', u'recesses', u'recession', u'recharging', u'reciept', u'recipe', u'recipes', u'recital', u'recitals', u'recite', u'recline', u'reclined', u'recliner', u'reclining', u'recognition', u'recognizable', u'recognize', u'recognized', u'recomend', u'recommend', u'recommendation', u'recommendations', u'recommended', u'recommending', u'recommends', u'record', u'recording', u'records', u'recover', u'recovered', u'recovering', u'recovery', u'recreate', u'recreation', u'rectify', u'recyclable', u'recycling', u'red', u'redbull', u'reddest', u'reddwarf', u'redeeming', u'redefine', u'redemption', u'redicolus', u'rediculous', u'redid', u'redneck', u'rednecks', u'redo', u'redone', u'reds', u'redseven', u'reduce', u'reduced', u'reduction', u'redux', u'reef', u'reeked', u'reeks', u'reeling', u'reese', u'ref', u'refer', u'reference', u'references', u'referral', u'referred', u'referring', u'refers', u'refill', u'refilled', u'refilling', u'refills', u'refine', u'refined', u'refinement', u'reflect', u'reflected', u'reflecting', u'reflection', u'reflections', u'reflects', u'reflex', u'refreshed', u'refreshing', u'refreshment', u'refried', u'refrigeration', u'refrigerator', u'refugees', u'refund', u'refunded', u'refuse', u'refused', u'refuses', u'refusing', u'reg', u'regal', u'regan', u'regard', u'regarded', u'regarding', u'regardless', u'regards', u'reggiano', u'regina', u'regio', u'region', u'regional', u'regions', u'register', u'registered', u'regoddamndiculously', u'regress', u'regret', u'regreted', u'regrettable', u'regrettably', u'regular', u'regularly', u'regulars', u'regulator', u'regulatory', u'regus', u'rehearsal', u'rehearsed', u'reheat', u'reheated', u'reimburse', u'reina', u'reincarnated', u'reinforcement', u'reinvest', u'reiterate', u'rejected', u'rejoice', u'rejuvanation', u'rejuvenated', u'rejuvenates', u'related', u'relating', u'relationship', u'relationships', u'relatively', u'relatives', u'relax', u'relaxation', u'relaxed', u'relaxing', u'relay', u'relayed', u'release', u'released', u'releases', u'releasing', u'relented', u'relevant', u'reliable', u'reliably', u'relic', u'relied', u'relief', u'relieved', u'relieves', u'relieving', u'religious', u'relish', u'relive', u'rellano', u'rellena', u'relleno', u'rellenos', u'relocated', u'reluctant', u'reluctantly', u'rely', u'remain', u'remained', u'remaining', u'remains', u'remake', u'remarkable', u'remarked', u'remedy', u'remember', u'remembered', u'remembering', u'remembers', u'remind', u'reminded', u'reminder', u'reminders', u'reminding', u'reminds', u'reminisced', u'reminiscent', u'reminiscing', u'remiss', u'remodeled', u'remodeling', u'remodelled', u'remodled', u'remolded', u'remorse', u'remote', u'remotely', u'removal', u'remove', u'removed', u'rename', u'renamed', u'renaming', u'rendered', u'renegade', u'renew', u'renewed', u'reno', u'renovated', u'renovation', u'renovations', u'rent', u'rental', u'rentals', u'rented', u'renters', u'rents', u'reopen', u'reopened', u'reordered', u'rep', u'repair', u'repaired', u'repairing', u'repairs', u'repartee', u'repast', u'repeat', u'repeated', u'repeatedly', u'repeating', u'repetitive', u'rephrase', u'replace', u'replaced', u'replacement', u'replacing', u'replant', u'replenish', u'replenishment', u'replica', u'replied', u'replies', u'reply', u'report', u'reported', u'representation', u'representative', u'represented', u'representing', u'represents', u'reprieve', u'reprinting', u'reps', u'reptile', u'reptiles', u'republic', u'republican', u'repulsive', u'reputable', u'reputation', u'req', u'request', u'requested', u'requesting', u'requests', u'require', u'required', u'requirement', u'requires', u'reschedule', u'rescheduled', u'rescue', u'rescued', u'research', u'researched', u'researching', u'reseated', u'resell', u'resemblance', u'resemble', u'resembled', u'reservation', u'reservations', u'reserve', u'reserved', u'residence', u'resident', u'residential', u'residents', u'resides', u'residue', u'resist', u'resisted', u'resisting', u'resling', u'resold', u'resolve', u'resolved', u'resonates', u'resort', u'resorts', u'resource', u'resources', u'respect', u'respectable', u'respected', u'respectful', u'respecting', u'respond', u'responded', u'responding', u'responds', u'response', u'responses', u'responsibilities', u'responsibility', u'responsible', u'responsive', u'rest', u'restaraunt', u'restauant', u'restaurant', u'restaurants', u'restaurateurs', u'resteraunt', u'resting', u'restless', u'resto', u'restock', u'restocking', u'restored', u'restrictions', u'restroom', u'restrooms', u'restuarant', u'resturant', u'resturaunt', u'result', u'resulting', u'results', u'retail', u'retailers', u'retain', u'retarded', u'retards', u'retarted', u'rethink', u'rethinking', u'retire', u'retirement', u'retreat', u'retrieve', u'retrieved', u'retro', u'return', u'returned', u'returning', u'returns', u'reuben', u'reunion', u'reunions', u'reusable', u'revamp', u'reveal', u'revealed', u'revealing', u'revel', u'revelation', u'revenge', u'revered', u'reverse', u'review', u'reviewed', u'reviewer', u'reviewers', u'reviewing', u'reviews', u'revisit', u'revitalization', u'revitalize', u'revive', u'revived', u'revolving', u'reward', u'rewarded', u'rewards', u'rewind', u'rey', u'reynolds', u'rhino', u'rhonda', u'rhyme', u'rhythm', u'rhythms', u'rib', u'ribbon', u'ribeeyeeeee', u'ribeye', u'ribs', u'rican', u'rice', u'rices', u'rich', u'richard', u'richardson', u'riches', u'richest', u'richman', u'richmond', u'richness', u'rick', u'rico', u'ricotta', u'rid', u'ridden', u'riddens', u'riddled', u'ride', u'rider', u'riders', u'rides', u'ridge', u'ridgemont', u'ridiculed', u'ridiculous', u'ridiculously', u'ridiculousness', u'riding', u'riesling', u'rifled', u'rifles', u'rig', u'rigatoni', u'right', u'righteous', u'rightful', u'rightly', u'rights', u'rigmarole', u'rim', u'ring', u'ringing', u'rings', u'rink', u'rinkukiu', u'rinse', u'rinsed', u'rio', u'rios', u'rip', u'riparian', u'ripe', u'ripened', u'ripest', u'ripoff', u'ripped', u'risers', u'rises', u'rising', u'risk', u'risks', u'risky', u'risotto', u'risser', u'rissotto', u'ristorant', u'rita', u'ritas', u'ritual', u'ritz', u'riva', u'rival', u'rivaled', u'rivals', u'rivas', u'river', u'riverview', u'rk8m1rxl50pb69_c2yqqtg', u'rl', u'rm', u'rnr', u'roach', u'road', u'roadhouse', u'roadhouses', u'roading', u'roads', u'roadshow', u'roadside', u'roadtrip', u'roadway', u'roam', u'roaring', u'roark', u'roast', u'roasted', u'roaster', u'roasting', u'roasts', u'rob', u'robata', u'robb', u'robbins', u'robe', u'robert', u'roberto', u'robes', u'robin', u'robotically', u'robust', u'robyn', u'rock', u'rockabilly', u'rocked', u'rocker', u'rockerij', u'rocket', u'rocketburger', u'rockets', u'rockin', u'rocking', u'rocknroll', u'rocks', u'rockstar', u'rod', u'rode', u'rodgering', u'rogue', u'roka', u'rokerij', u'role', u'roll', u'rollatini', u'rolled', u'roller', u'rolling', u'rolls', u'roma', u'romaine', u'roman', u'romance', u'romanelli', u'romano', u'romantic', u'rome', u'romper', u'ron', u'roof', u'roofing', u'roofs', u'rooftop', u'rooibos', u'room', u'roommate', u'rooms', u'roomy', u'roosevelt', u'roost', u'rooste', u'rooster', u'root', u'rootbeer', u'rooting', u'roots', u'ropa', u'rope', u'roped', u'ropes', u'rosa', u'rose', u'rosemary', u'rosie', u'rosita', u'ross', u'rot', u'rotary', u'rotate', u'rotated', u'rotates', u'rotating', u'rotation', u'rotisserie', u'rotten', u'rottie', u'rotting', u'rouge', u'rough', u'roughly', u'round', u'rounded', u'rounding', u'rounds', u'route', u'routed', u'routes', u'routine', u'roving', u'row', u'rowdy', u'rows', u'roxie', u'roy', u'royal', u'royale', u'royals', u'royalty', u'rpi', u'rr', u'rsvp', u'rub', u'rubbed', u'rubber', u'rubbery', u'rubbing', u'ruben', u'rubio', u'rubios', u'rubs', u'ruby', u'rude', u'rudely', u'rudest', u'rudy', u'rue', u'rueben', u'ruffians', u'rugby', u'rugged', u'rugger', u'ruin', u'ruined', u'ruining', u'ruins', u'rule', u'rules', u'rum', u'rumbi', u'rumbling', u'rumor', u'run', u'rundown', u'runner', u'running', u'runny', u'runs', u'runway', u'rupture', u'rural', u'rush', u'rushed', u'rushes', u'rushing', u'russell', u'russets', u'russian', u'rustic', u'rustica', u'rusticana', u'rustler', u'rustlers', u'rusty', u'rut', u'rutabaga', u'ruth', u'rx', u'ryan', u'rye', u'ryno', u'sa', u'sabor', u'sabzi', u'sack', u'sacked', u'sacks', u'sacred', u'sacrificed', u'sad', u'saddens', u'saddle', u'sadly', u'safe', u'safely', u'safety', u'safeway', u'saffron', u'sagacity', u'sage', u'sagging', u'saguaro', u'said', u'saigon', u'saint', u'saintly', u'saints', u'sakana', u'sake', u'sakebomber', u'sakes', u'sala', u'salad', u'salads', u'salami', u'salary', u'salat', u'salazar', u'salcido', u'salds', u'sale', u'salek', u'salem', u'sales', u'salesgirls', u'salesman', u'salesperson', u'saleswomen', u'saliva', u'salivate', u'salivates', u'salivating', u'sally', u'salmon', u'salmons', u'salon', u'salons', u'saloon', u'salsa', u'salsas', u'salscicia', u'salsiccia', u'salt', u'salted', u'saltier', u'saltiest', u'saltimbocca', u'saltine', u'saltiness', u'salty', u'salud', u'salute', u'salvador', u'salvage', u'salvation', u'sam', u'samburger', u'samich', u'sammich', u'samosas', u'sample', u'sampled', u'sampler', u'samples', u'sampling', u'samplings', u'samsung', u'samuri', u'san', u'sanctuary', u'sand', u'sandal', u'sandals', u'sandalwood', u'sanded', u'sandella', u'sanding', u'sando', u'sands', u'sandstone', u'sandstorm', u'sandwhich', u'sandwhiches', u'sandwich', u'sandwiched', u'sandwiches', u'sandy', u'sandys', u'sane', u'sang', u'sangria', u'sangrias', u'sanitary', u'sanitizing', u'sanity', u'sank', u'sans', u'santa', u'santan', u'sante', u'santi', u'santisi', u'sapling', u'sapporo', u'sar', u'sara', u'sarah', u'sarcasm', u'sarcastic', u'sarcastically', u'sarrc', u'sarsaparilla', u'sashimi', u'sat', u'satay', u'sate', u'satellite', u'satiate', u'satified', u'satisfaction', u'satisfied', u'satisfies', u'satisfy', u'satisfying', u'satisfyingly', u'satori', u'satuday', u'saturated', u'saturday', u'saturdays', u'sauce', u'sauced', u'saucers', u'sauces', u'saucey', u'sauerbraten', u'sauerkraut', u'sauna', u'saunas', u'saurkraut', u'sausage', u'sausages', u'sauteed', u'saut\\xe9ed', u'sauvignon', u'save', u'saved', u'savers', u'saves', u'saving', u'savings', u'savor', u'savored', u'savoring', u'savory', u'savoy', u'savvy', u'saw', u'sawdust', u'sawed', u'saxophone', u'say', u'sayin', u'saying', u'says', u'sazerac', u'sb', u'sbux', u'scal', u'scale', u'scallion', u'scallions', u'scallop', u'scalloped', u'scallops', u'scamorza', u'scan', u'scandalesque', u'scandinavian', u'scanning', u'scans', u'scantily', u'scape', u'scardy', u'scare', u'scared', u'scarey', u'scarf', u'scarfing', u'scarier', u'scariest', u'scary', u'scathing', u'scattered', u'scenario', u'scene', u'scenery', u'scenes', u'scenic', u'scent', u'scented', u'schedule', u'scheduled', u'schedules', u'scheduling', u'scheme', u'schmancy', u'schmears', u'schmicks', u'schmoozeaz', u'schmucks', u'schneikies', u'schnitzel', u'school', u'schools', u'schreiner', u'sci', u'science', u'scientific', u'scissors', u'scoffed', u'scolded', u'scolding', u'scollops', u'scone', u'scones', u'scoop', u'scooped', u'scoops', u'scooter', u'scope', u'scorching', u'score', u'scored', u'scorpion', u'scorpions', u'scotch', u'scothes', u'scott', u'scottsadale', u'scottsdale', u'scottsdaley', u'scottsdalian', u'scottsdalish', u'scout', u'scow', u'scowl', u'scraggly', u'scramble', u'scrambled', u'scrambler', u'scramblers', u'scrambles', u'scrambling', u'scraped', u'scraping', u'scraps', u'scrapy', u'scratch', u'scratched', u'scratcher', u'scream', u'screamed', u'screaming', u'screams', u'screen', u'screening', u'screens', u'screw', u'screwed', u'screwing', u'screws', u'scrounge', u'scrub', u'scruffy', u'scrumptious', u'scrunched', u'sculpted', u'sculpture', u'sculptures', u'scuzy', u'sd', u'sdl', u'se', u'sea', u'seabase', u'seabass', u'seafood', u'seagulls', u'sealed', u'seamlessly', u'seams', u'seamus', u'sean', u'seann', u'sear', u'search', u'searched', u'searches', u'searching', u'seared', u'sears', u'season', u'seasonal', u'seasoned', u'seasoning', u'seasons', u'seat', u'seated', u'seating', u'seatings', u'seats', u'seattle', u'seaweed', u'sebastian', u'sec', u'secluded', u'second', u'secondly', u'seconds', u'secret', u'secretary', u'secretive', u'secretmenu', u'secrets', u'secs', u'section', u'sectioned', u'sections', u'secure', u'secured', u'security', u'sedate', u'sedated', u'sedation', u'sedona', u'seed', u'seeded', u'seeds', u'seedy', u'seeing', u'seek', u'seeking', u'seen', u'sees', u'segments', u'sekong', u'select', u'selected', u'selecting', u'selection', u'selectioned', u'selections', u'selects', u'self', u'sell', u'seller', u'sellers', u'selling', u'sells', u'selvedge', u'selves', u'semerdjian', u'semester', u'semi', u'sen', u'send', u'sending', u'sendoff', u'senior', u'seniors', u'senor', u'sens', u'sensation', u'sensational', u'sense', u'sensed', u'senses', u'sensitive', u'sensory', u'sensuous', u'sent', u'sentance', u'sentence', u'sentences', u'sentimental', u'separate', u'separately', u'separating', u'separation', u'seperate', u'sephora', u'september', u'sequence', u'sera', u'serbian', u'serene', u'series', u'seriously', u'serously', u'serpentine', u'serptember', u'serranos', u'serums', u'serv', u'serve', u'served', u'server', u'servered', u'servers', u'serves', u'service', u'serviced', u'services', u'serving', u'servings', u'sesame', u'session', u'sessions', u'set', u'sets', u'setting', u'settle', u'settled', u'setup', u'setups', u'seven', u'sever', u'severe', u'severely', u'sewer', u'sex', u'sexiness', u'sexy', u'sf', u'sfo', u'sh', u'shabby', u'shabu', u'shack', u'shacked', u'shade', u'shaded', u'shades', u'shadow', u'shadows', u'shady', u'shae', u'shaft', u'shake', u'shaken', u'shaker', u'shakes', u'shaking', u'shall', u'shallot', u'shallots', u'shame', u'shamefully', u'shameless', u'shampoo', u'shampoos', u'shanghai', u'shank', u'shanks', u'shape', u'shaped', u'shapes', u'shaping', u'shar', u'share', u'shared', u'sharers', u'shares', u'sharing', u'sharon', u'sharp', u'sharpened', u'sharper', u'sharpie', u'shasta', u'shattered', u'shave', u'shaved', u'shaving', u'shawarma', u'shawn', u'shazam', u'shazzam', u'shea', u'sheared', u'shed', u'shedding', u'sheen', u'sheep', u'sheer', u'sheesh', u'sheet', u'sheets', u'sheila', u'shelf', u'shell', u'shellac', u'shelley', u'shelling', u'shells', u'shelter', u'sheltered', u'shelve', u'shelves', u'shelving', u'shenanigans', u'shep', u'shepard', u'shepards', u'shepherd', u'shepherds', u'sheppard', u'sheraton', u'sheriff', u'sherry', u'shift', u'shifts', u'shifty', u'shimp', u'shin', u'shinbay', u'shindig', u'shine', u'shiner', u'shines', u'shiney', u'shining', u'shins', u'shiny', u'ship', u'shipment', u'shipped', u'shipping', u'shirataki', u'shiraz', u'shirazi', u'shirt', u'shirts', u'shish', u'shishito', u'shit', u'shitake', u'shitaki', u'shithead', u'shittier', u'shitty', u'shmancy', u'shochu', u'shock', u'shocked', u'shocker', u'shocking', u'shockingly', u'shocks', u'shoe', u'shoes', u'shone', u'shook', u'shooshing', u'shoot', u'shooter', u'shooters', u'shooting', u'shoots', u'shop', u'shopaholics', u'shopkeepers', u'shoppe', u'shopped', u'shopper', u'shoppers', u'shopping', u'shops', u'short', u'shortage', u'shortbread', u'shortened', u'shortens', u'shorter', u'shortleashdogs', u'shortly', u'shorts', u'shorty', u'shot', u'shots', u'shoulder', u'shoulders', u'shouldn', u'shouldnt', u'shout', u'shouted', u'shouting', u'shoved', u'shovel', u'shovelfuls', u'shoveling', u'shoving', u'showcase', u'showcased', u'showed', u'shower', u'showering', u'showers', u'showing', u'showings', u'shown', u'shows', u'showstopper', u'shrapnel', u'shredded', u'shreds', u'shrimp', u'shrine', u'shrink', u'shrooms', u'shrugged', u'shu', u'shucks', u'shudder', u'shuffleboard', u'shuffled', u'shuffling', u'shui', u'shuro', u'shut', u'shuttle', u'shwarma', u'shy', u'shyt', u'si', u'siam', u'siblings', u'sick', u'sickening', u'sickest', u'sickly', u'sidebar', u'sidebarphx', u'sidecar', u'sided', u'sides', u'sidewalk', u'sideways', u'sidling', u'siebel', u'sift', u'sigh', u'sight', u'sights', u'sign', u'signage', u'signal', u'signaled', u'signals', u'signature', u'signed', u'significant', u'significantly', u'signing', u'signs', u'siiders', u'silberschlag', u'silence', u'silenced', u'silent', u'silently', u'silica', u'silk', u'silky', u'silly', u'silvana', u'silver', u'silvered', u'silvermine', u'silverton', u'silverware', u'sima', u'similar', u'similarities', u'similarly', u'simmered', u'simple', u'simplicity', u'simplify', u'simplistic', u'simply', u'simpson', u'simultaneously', u'sinatra', u'sincerely', u'sincerity', u'sinful', u'sinfully', u'sing', u'singapore', u'singers', u'singing', u'single', u'singles', u'singleton', u'sink', u'sinker', u'sinking', u'sinks', u'sinner', u'sinsr', u'sip', u'siphon', u'sipped', u'sipping', u'sir', u'sirloin', u'sissies', u'sissys', u'sister', u'sit', u'site', u'sites', u'sits', u'sitter', u'sitting', u'situated', u'situation', u'sivananda', u'sixteen', u'sixth', u'sizable', u'size', u'sized', u'sizes', u'sizing', u'sizzle', u'sizzler', u'sizzling', u'skarderud', u'skate', u'skateboarding', u'skating', u'skeptic', u'skeptical', u'skepticism', u'sketchbook', u'sketchy', u'skewed', u'skewer', u'skewers', u'ski', u'skill', u'skilled', u'skillet', u'skillets', u'skillfully', u'skills', u'skim', u'skimp', u'skimpy', u'skin', u'skinny', u'skins', u'skip', u'skipped', u'skipping', u'skirt', u'skirts', u'skits', u'skull', u'sky', u'skylights', u'skyline', u'slab', u'slacks', u'slam', u'slammed', u'slander', u'slang', u'slanged', u'slant', u'slap', u'slapped', u'slaps', u'slash', u'slated', u'slather', u'slathered', u'slave', u'slaw', u'sleazer', u'sleek', u'sleep', u'sleeping', u'sleepy', u'sleeve', u'sleeved', u'sleeves', u'slept', u'slew', u'slice', u'sliced', u'slices', u'slicing', u'slicker', u'slide', u'slider', u'sliders', u'sliding', u'slight', u'slighted', u'slightest', u'slightly', u'slim', u'slimmed', u'slimming', u'slimy', u'slingers', u'slip', u'slipped', u'slippers', u'slippery', u'sliver', u'slivers', u'sllluuuurrrpp', u'slogan', u'slop', u'slope', u'slopped', u'sloppy', u'slot', u'slotted', u'slow', u'slowed', u'slowest', u'slowing', u'slowly', u'slurpers', u'slurping', u'slurs', u'slushies', u'sm', u'smack', u'smacking', u'smacks', u'small', u'smaller', u'smallest', u'smallish', u'smalll', u'smancy', u'smart', u'smarts', u'smash', u'smashboxx', u'smashburger', u'smashed', u'smashing', u'smattering', u'smc', u'smear', u'smeared', u'smearing', u'smeeks', u'smell', u'smelled', u'smelling', u'smells', u'smelly', u'smile', u'smiled', u'smiles', u'smiley', u'smiling', u'smith', u'smoke', u'smoked', u'smokehouse', u'smokers', u'smokes', u'smokey', u'smokin', u'smoking', u'smoky', u'smooshy', u'smooth', u'smoother', u'smoothie', u'smoothies', u'smoothly', u'smore', u'smores', u'smother', u'smothered', u'smucker', u'snaaz', u'snack', u'snacking', u'snacks', u'snag', u'snagged', u'snagging', u'snails', u'snakes', u'snap', u'snapped', u'snapper', u'snappy', u'snaps', u'snarfed', u'snarking', u'snarl', u'snatched', u'sneak', u'sneaker', u'sneakers', u'sneaks', u'sneaky', u'sneeze', u'sneezed', u'snicker', u'snickerdoodle', u'snickered', u'snickers', u'sniff', u'sniffed', u'sniffling', u'sniffster', u'snikerdoodle', u'snob', u'snobbery', u'snobbish', u'snobbsdale', u'snobby', u'snobs', u'snoooty', u'snooty', u'snorting', u'snottily', u'snottsdale', u'snotty', u'snow', u'snowbirds', u'snowfairy', u'snubbed', u'soak', u'soaked', u'soaking', u'soap', u'soapy', u'soba', u'sober', u'soccer', u'social', u'socialize', u'socialized', u'socializing', u'society', u'sock', u'sockets', u'socks', u'soda', u'sodas', u'sodelicious', u'sodium', u'sofas', u'sofia', u'soft', u'softball', u'softdrink', u'softee', u'softened', u'softening', u'softer', u'softshell', u'software', u'soggy', u'sol', u'solar', u'sold', u'soldier', u'soldiered', u'sole', u'solely', u'solemnly', u'solicited', u'solicits', u'solid', u'solidly', u'solitaire', u'solitary', u'solitude', u'solo', u'solstice', u'solution', u'solutions', u'solve', u'solved', u'solvent', u'solvents', u'som', u'somber', u'sombra', u'sombreros', u'somebody', u'someday', u'somehwere', u'someones', u'someplace', u'somethings', u'somewhat', u'sommelier', u'somtimes', u'son', u'sone', u'song', u'songs', u'sonic', u'sonny', u'sonora', u'sonoran', u'sons', u'sony', u'soo', u'soon', u'sooner', u'sooo', u'soooo', u'sooooo', u'soooooo', u'sooooooo', u'sooooooooo', u'soothing', u'sop', u'sopa', u'sopapilla', u'sopapillas', u'sophia', u'sophie', u'sophisticated', u'sophistication', u'sopping', u'sopranos', u'sorbet', u'sorbets', u'sordid', u'sore', u'sorento', u'sorrentino', u'sorrow', u'sorry', u'sort', u'sorta', u'sorted', u'sorting', u'sorts', u'souchong', u'souffle', u'souffles', u'sought', u'soul', u'souls', u'sound', u'sounded', u'sounding', u'sounds', u'soundtrack', u'soup', u'soups', u'soupy', u'sour', u'source', u'sourced', u'sources', u'sourcing', u'sourdough', u'sous', u'south', u'southbridge', u'southeast', u'southern', u'southwest', u'southwestern', u'soutwest', u'souvenier', u'souveniers', u'souvia', u'souvlaki', u'sox', u'soy', u'soynami', u'sp', u'spa', u'space', u'spaces', u'spacey', u'spacing', u'spacious', u'spackling', u'spades', u'spaetzle', u'spagetti', u'spaghetti', u'spain', u'spam', u'span', u'spandex', u'spandwex', u'spaniards', u'spanikopita', u'spanish', u'spare', u'spared', u'spark', u'sparked', u'sparkling', u'sparkly', u'sparse', u'spas', u'spashground', u'spastic', u'spat', u'spawn', u'spay', u'spaying', u'speak', u'speakeasy', u'speaker', u'speakers', u'speaking', u'speaks', u'spear', u'spearmint', u'special', u'specialist', u'specialists', u'speciality', u'specialize', u'specializes', u'specially', u'specialness', u'specials', u'specialties', u'specialtly', u'specialty', u'species', u'specifc', u'specific', u'specifically', u'specification', u'specifics', u'specified', u'speckled', u'spectacular', u'spectrum', u'speculate', u'speech', u'speed', u'speeds', u'speedy', u'spell', u'spelled', u'spelling', u'spellings', u'spencer', u'spend', u'spending', u'spends', u'spendy', u'spent', u'spewed', u'spice', u'spiced', u'spices', u'spicey', u'spicier', u'spiciness', u'spicoli', u'spicolli', u'spicy', u'spiddle', u'spider', u'spiderman', u'spieker', u'spiiiccyyyy', u'spiked', u'spiky', u'spill', u'spilled', u'spin', u'spinach', u'spinal', u'spinato', u'spinatos', u'spincach', u'spinning', u'spirit', u'spirits', u'spiritual', u'spiro', u'spit', u'spite', u'splash', u'splashed', u'splashing', u'splenda', u'splendid', u'splinter', u'split', u'splits', u'splitting', u'splleeeendid', u'splurge', u'splurged', u'splurges', u'splurging', u'spoil', u'spoiled', u'spoilt', u'spoke', u'spoken', u'sponge', u'spongy', u'spontaneous', u'spoon', u'spoonful', u'spoons', u'sporadic', u'spore', u'sport', u'sporting', u'sportman', u'sports', u'sportsman', u'spot', u'spotless', u'spotlessly', u'spots', u'spotted', u'spotty', u'spouse', u'spouses', u'spouting', u'spouts', u'sprawl', u'sprawled', u'sprawling', u'spray', u'sprayer', u'spread', u'spreads', u'spreadsheet', u'spring', u'springfield', u'springs', u'sprinkle', u'sprinkled', u'sprinkles', u'sprinkling', u'sprint', u'sprite', u'sprites', u'sprout', u'sprouts', u'spudnuts', u'spumoni', u'spun', u'spur', u'spy', u'sq', u'sqaw', u'square', u'squares', u'squash', u'squat', u'squaw', u'squeaky', u'squealing', u'squeegee', u'squeeking', u'squeeze', u'squeezed', u'squeezing', u'squid', u'squirming', u'squirrel', u'squirrels', u'squirt', u'squirted', u'squished', u'squishing', u'squishy', u'sriacha', u'sriracha', u'sslowest', u'ssssshhhhhh', u'st', u'stab', u'stabbed', u'stable', u'stack', u'stacked', u'stacking', u'stacks', u'stadium', u'stadiums', u'staff', u'staffed', u'staffer', u'staffperson', u'stage', u'stages', u'staggering', u'stained', u'staining', u'stainless', u'stains', u'stair', u'staircase', u'stairmaster', u'stairs', u'stake', u'stale', u'stalked', u'stalking', u'stall', u'stalled', u'stalls', u'stamina', u'stammered', u'stammering', u'stamp', u'stamped', u'stan', u'stand', u'standard', u'standards', u'standby', u'standing', u'standout', u'standouts', u'stands', u'stanley', u'staple', u'staples', u'star', u'starbuck', u'starbucks', u'starches', u'starchy', u'stare', u'stared', u'stares', u'stargazing', u'staring', u'stark', u'starr', u'stars', u'start', u'started', u'starter', u'starters', u'starting', u'startled', u'startlingly', u'starts', u'starve', u'starving', u'stash', u'stashed', u'state', u'stated', u'statement', u'states', u'stateside', u'static', u'stating', u'station', u'stationary', u'stationed', u'stations', u'statistics', u'statues', u'status', u'stave', u'stay', u'staycation', u'staycations', u'stayed', u'staying', u'stays', u'steady', u'steak', u'steakburger', u'steakhouse', u'steakhouses', u'steaks', u'steal', u'stealerships', u'stealing', u'steals', u'stealthy', u'steam', u'steamed', u'steamers', u'steaming', u'stedson', u'steel', u'steelhead', u'steen', u'steep', u'steeping', u'steepness', u'steer', u'steered', u'steinway', u'stella', u'stellar', u'stem', u'stemware', u'stench', u'step', u'stephen', u'stepped', u'stepper', u'stepping', u'steps', u'stepsister', u'stereo', u'stereotype', u'stereotypical', u'sterile', u'sterilized', u'steroids', u'stetson', u'steve', u'stew', u'stewart', u'stews', u'stick', u'sticker', u'stickers', u'stickiness', u'sticking', u'stickler', u'sticks', u'sticky', u'stiff', u'stiffy', u'stigma', u'stigmata', u'stilton', u'stimulating', u'stimuli', u'stingray', u'stingrays', u'stingy', u'stink', u'stinking', u'stinks', u'stinkweeds', u'stinky', u'stipulations', u'stir', u'stirred', u'stirrup', u'stitches', u'stitching', u'stl', u'stock', u'stocked', u'stocking', u'stockings', u'stocks', u'stoked', u'stole', u'stolen', u'stomach', u'stomachs', u'stomp', u'stomped', u'stomping', u'stone', u'stoned', u'stood', u'stool', u'stools', u'stop', u'stopped', u'stopping', u'stops', u'storage', u'store', u'stored', u'stores', u'stories', u'storm', u'stormed', u'storms', u'stormy', u'story', u'stouffer', u'stout', u'stracciatella', u'straight', u'straightaway', u'straightforward', u'strain', u'strained', u'strait', u'strand', u'stranded', u'strands', u'strange', u'strangely', u'stranger', u'strangers', u'strap', u'strapless', u'strapped', u'straps', u'strategic', u'strategy', u'stratified', u'straw', u'strawberries', u'strawberry', u'stray', u'strayed', u'streak', u'stream', u'streaming', u'streamliner', u'strebe', u'street', u'streets', u'streetwalkin', u'strength', u'strenuous', u'strep', u'stress', u'stressed', u'stressing', u'stretch', u'stretches', u'stretching', u'striaght', u'strict', u'strictly', u'stride', u'strike', u'strikes', u'string', u'stringier', u'strings', u'stringy', u'strip', u'stripe', u'striped', u'stripes', u'striping', u'stripped', u'stripper', u'strippers', u'stripping', u'strips', u'strives', u'stroganoff', u'stroke', u'strokes', u'stroll', u'strolled', u'stroller', u'strolling', u'strong', u'stronger', u'stronghold', u'strongly', u'strore', u'struck', u'structure', u'struggled', u'struggles', u'struggling', u'strummed', u'struts', u'stubborn', u'stubs', u'stuck', u'stucky', u'stud', u'studded', u'studebaker', u'student', u'students', u'studied', u'studio', u'studios', u'study', u'studying', u'stuff', u'stuffed', u'stuffing', u'stuffy', u'stumble', u'stumbled', u'stumps', u'stunk', u'stunned', u'stunner', u'stunning', u'stupendous', u'stupendously', u'stupid', u'stupidly', u'stupor', u'sturgeon', u'stutter', u'stuttering', u'style', u'styles', u'stylish', u'stylist', u'stylists', u'stylush', u'styrofoam', u'sub', u'subaru', u'subconcious', u'subdued', u'suberb', u'subject', u'sublime', u'submit', u'submitted', u'submitting', u'subpar', u'subs', u'subscriber', u'subscription', u'subsequent', u'subsequently', u'subset', u'substance', u'substandard', u'substantial', u'substantially', u'substitute', u'substituted', u'substitution', u'substitutions', u'subtle', u'subtleness', u'subtler', u'subtly', u'subtract', u'suburban', u'suburbia', u'suburbs', u'subway', u'subways', u'succeed', u'succeeded', u'succeeds', u'success', u'successful', u'successfully', u'succulent', u'succulents', u'sucha', u'suck', u'sucked', u'sucker', u'suckers', u'sucking', u'sucks', u'sud', u'sudden', u'suddenly', u'suds', u'sue', u'sued', u'suffer', u'suffered', u'suffering', u'suffers', u'suffice', u'sufficed', u'sufficiently', u'sugar', u'sugared', u'sugary', u'suggest', u'suggested', u'suggesting', u'suggestion', u'suggestions', u'suggests', u'suit', u'suitable', u'suite', u'suited', u'suites', u'suiting', u'suits', u'sul', u'sullivan', u'sum', u'sumac', u'sumibiyaki', u'summarize', u'summary', u'summer', u'summers', u'summertime', u'summery', u'summit', u'summitt', u'sumptuous', u'sums', u'sun', u'sunburn', u'sundae', u'sundaes', u'sundance', u'sunday', u'sundays', u'sundevil', u'sundried', u'sundries', u'sundrops', u'sunflower', u'sunglasses', u'sunken', u'sunny', u'sunridge', u'sunrise', u'suns', u'sunscreen', u'sunset', u'sunshine', u'sunsine', u'super', u'superb', u'superbowl', u'supercuts', u'superfantasticdeliciousness', u'superfood', u'superior', u'superman', u'supermarket', u'supermarkets', u'superstar', u'superstition', u'supervision', u'supervisor', u'supervisors', u'supped', u'supper', u'supplementation', u'supplements', u'supplier', u'suppliers', u'supplies', u'supply', u'support', u'supported', u'supporter', u'supporters', u'supporting', u'supportive', u'supports', u'suppose', u'supposed', u'supposedly', u'supreme', u'supremely', u'sur', u'surcharge', u'surcharges', u'sure', u'surefire', u'surely', u'surf', u'surface', u'surfaces', u'surfing', u'surgeries', u'surgery', u'surly', u'surname', u'surpassed', u'surpasses', u'surprise', u'surprised', u'surprises', u'surprising', u'surprisingly', u'surreal', u'surround', u'surrounded', u'surrounding', u'surroundings', u'surrounds', u'suruki', u'survive', u'survived', u'survives', u'susan', u'sushi', u'sushis', u'susie', u'suspect', u'suspected', u'suspended', u'suspenders', u'suspension', u'suspicion', u'suspicious', u'sustainability', u'sustainable', u'sustaining', u'susy', u'sutra', u'sutures', u'suv', u'sven', u'sw', u'swadee', u'swag', u'swallow', u'swamp', u'swanky', u'swap', u'swapped', u'swatting', u'swayed', u'swb', u'swear', u'swears', u'sweat', u'sweater', u'sweaters', u'sweating', u'sweatshops', u'sweaty', u'swede', u'sweden', u'swedish', u'sweeet', u'sweeping', u'sweet', u'sweeter', u'sweetest', u'sweetheart', u'sweeties', u'sweetish', u'sweetness', u'sweetrepublic', u'sweets', u'sweltering', u'swift', u'swill', u'swim', u'swimmer', u'swimming', u'swimsuits', u'swing', u'swinging', u'swipe', u'swiped', u'swirl', u'swirling', u'swirls', u'swiss', u'switch', u'switchbacks', u'switched', u'swivel', u'swollen', u'swoon', u'swooped', u'swordfish', u'swore', u'sworn', u'swung', u'sy', u'syd', u'syllables', u'symbol', u'symbols', u'sympathetic', u'sympathy', u'symphony', u'symptoms', u'sync', u'synergy', u'synthetic', u'syrup', u'syrups', u'sysco', u'systems', u'szechuan', u'tab', u'tabasco', u'table', u'tableau', u'tables', u'tableside', u'tablespoon', u'tablespoons', u'tablet', u'tabooli', u'tabs', u'tacked', u'tacky', u'taco', u'tacos', u'tact', u'tad', u'taffy', u'tag', u'tagged', u'tagline', u'taglines', u'tags', u'tahini', u'tahiti', u'tai', u'tail', u'tailgate', u'tailor', u'tailored', u'tailoring', u'tailors', u'tails', u'tainted', u'taiwanese', u'takamatsu', u'takeaway', u'taken', u'takeout', u'taker', u'takes', u'taking', u'tako', u'talavera', u'talent', u'talented', u'talents', u'talibanish', u'talisha', u'talk', u'talkative', u'talked', u'talking', u'talks', u'tall', u'tallest', u'tally', u'tam', u'tamale', u'tamales', u'tame', u'tamie', u'tammie', u'tampa', u'tampiquena', u'tampons', u'tan', u'tana', u'tandem', u'tandoori', u'tang', u'tangerine', u'tangible', u'tango', u'tangy', u'tank', u'tankard', u'tanks', u'tannat', u'tanning', u'tans', u'tantalizing', u'tanzy', u'taos', u'tap', u'tapas', u'tape', u'taped', u'tapenade', u'tapenades', u'tapioca', u'tapped', u'tapping', u'taps', u'taqueria', u'taquitos', u'tar', u'tara', u'tarantino', u'tarbell', u'tardy', u'targer', u'target', u'targets', u'tart', u'tartar', u'tartes', u'tartiflette', u'tartish', u'tarts', u'tartufa', u'tartufo', u'task', u'tasks', u'tassone', u'taste', u'tastebuds', u'tasted', u'tasteful', u'tastefully', u'tasteless', u'taster', u'tastes', u'tastey', u'tastier', u'tasties', u'tastiest', u'tastiness', u'tasting', u'tastings', u'tasty', u'tataki', u'tater', u'taters', u'tats', u'tattered', u'tattering', u'tattoo', u'tattooed', u'tattooer', u'tattooers', u'tattoos', u'tatts', u'tatum', u'tatziki', u'taught', u'taunts', u'tavern', u'tawnya', u'tax', u'taxes', u'taxi', u'taxicab', u'taxidermy', u'taylor', u'tazer', u'tc', u'tch', u'tchatchkies', u'tea', u'teach', u'teacher', u'teachers', u'teaches', u'teaching', u'teacup', u'teaks', u'teakwoods', u'teal', u'team', u'teams', u'teamwork', u'teapot', u'teapots', u'tear', u'tears', u'teas', u'teaspoon', u'teats', u'teavana', u'tech', u'technical', u'technically', u'technician', u'technicians', u'technique', u'techniques', u'techno', u'technology', u'techs', u'ted', u'teddy', u'teds', u'tee', u'teed', u'teeming', u'teen', u'teenage', u'teenager', u'teenagers', u'teenie', u'teens', u'teensy', u'teeny', u'teenytiny', u'tees', u'teese', u'teeth', u'teff', u'teharu', u'tejas', u'telegraph', u'telemarketers', u'telenovela', u'telephone', u'television', u'televisions', u'tell', u'tellin', u'telling', u'tells', u'telly', u'temp', u'tempe', u'temper', u'temperature', u'temperatures', u'tempermant', u'temporada', u'temporary', u'tempranillo', u'temps', u'temptation', u'tempted', u'tempting', u'tempur', u'tempura', u'tenant', u'tend', u'tended', u'tendencies', u'tendency', u'tender', u'tenderbelly', u'tenderlion', u'tenderloin', u'tenderness', u'tenders', u'tendon', u'tendons', u'tends', u'tennis', u'tent', u'tents', u'tepan', u'tepary', u'tepenyaki', u'teppiniyaki', u'tequila', u'tequilas', u'tequilla', u'teresa', u'teriffic', u'teriyaki', u'term', u'termial', u'terminal', u'terms', u'terra', u'terrain', u'terrayki', u'terrazzo', u'terrible', u'terribly', u'terrier', u'terrific', u'terrified', u'terrill', u'territory', u'terrrific', u'tess', u'test', u'tested', u'testosterone', u'tests', u'tex', u'texan', u'texas', u'texasburgerguy', u'texaz', u'texmex', u'text', u'texted', u'texting', u'texts', u'textural', u'texture', u'textured', u'textures', u'tgf', u'tgw', u'th', u'tha', u'thai', u'thaiger', u'thailand', u'thang', u'thanh', u'thank', u'thanked', u'thankful', u'thankfully', u'thankgsiving', u'thanking', u'thanks', u'thanksgiving', u'thanksliving', u'thats', u'thawed', u'thawing', u'thay', u'theater', u'theaters', u'theatre', u'theatres', u'thee', u'thefts', u'theirs', u'theives', u'theme', u'themed', u'themes', u'theodosopoulos', u'theory', u'thepanko', u'theprice', u'ther', u'therapeutic', u'therapist', u'therapists', u'therapy', u'thereof', u'theres', u'thermostat', u'thestandard', u'theyre', u'thhe', u'thicker', u'thickness', u'thier', u'thigh', u'thighs', u'thing', u'thingies', u'things', u'thingy', u'thingys', u'think', u'thinker', u'thinkin', u'thinking', u'thinks', u'thinly', u'thinner', u'thirdly', u'thirsty', u'thirty', u'thit', u'tho', u'thole', u'thomas', u'thorough', u'thoroughfares', u'thoroughly', u'thou', u'thought', u'thoughtful', u'thoughts', u'thouhgt', u'thousand', u'thousands', u'thr', u'thrasher', u'thread', u'threading', u'threatened', u'threatening', u'threesome', u'threw', u'thrice', u'thrift', u'thrifting', u'thrifty', u'thrilled', u'thrilling', u'thrive', u'throat', u'throne', u'throught', u'throw', u'throwback', u'throwin', u'throwing', u'thrown', u'thta', u'thumb', u'thumbs', u'thumping', u'thunder', u'thunderbird', u'thunk', u'thurs', u'thursday', u'thursdays', u'thyme', u'ti', u'tiara', u'tibs', u'ticked', u'ticket', u'ticketing', u'tickets', u'tickled', u'ticoz', u'tidbits', u'tide', u'tidy', u'tie', u'tied', u'tiered', u'tiers', u'ties', u'tiffany', u'tiffanys', u'tiger', u'tigers', u'tight', u'tighter', u'tijuana', u'tika', u'tiki', u'tikil', u'tikka', u'tikki', u'til', u'tilapia', u'tile', u'tiler', u'till', u'tim', u'time', u'timed', u'timeless', u'timely', u'timer', u'timers', u'times', u'timeshare', u'timey', u'timing', u'timo', u'tin', u'tina', u'tines', u'tinga', u'tingling', u'tiniest', u'tinkering', u'tinkled', u'tins', u'tint', u'tiny', u'tinyurl', u'tip', u'tipalia', u'tipped', u'tipping', u'tips', u'tiramisu', u'tire', u'tired', u'tirelessly', u'tires', u'tiring', u'tish', u'tissue', u'tit', u'titan', u'title', u'tix', u'tj', u'tk', u'tlc', u'tlike', u'toast', u'toasted', u'toaster', u'toasts', u'toasty', u'tobacco', u'tobasco', u'toby', u'today', u'todays', u'todd', u'toddler', u'toddlers', u'toddy', u'toe', u'toenails', u'toes', u'toffee', u'tofu', u'togo', u'toilet', u'toilets', u'tokens', u'tokyo', u'told', u'tolerable', u'tolerance', u'tolerate', u'toliet', u'tolteca', u'tom', u'tomatillo', u'tomato', u'tomatoes', u'tomatos', u'tomb', u'tommy', u'tomorrow', u'ton', u'tone', u'toned', u'toners', u'tones', u'tongs', u'tongue', u'tongued', u'tonic', u'tonight', u'tonights', u'tons', u'tony', u'toof', u'took', u'tool', u'tools', u'tooooo', u'tooth', u'toothbrush', u'toothless', u'tootin', u'tootsie', u'tootzi', u'topic', u'topics', u'topped', u'topping', u'toppings', u'topps', u'tops', u'torch', u'torched', u'tore', u'tori', u'torment', u'torn', u'toro', u'torres', u'tort', u'torta', u'tortalini', u'tortas', u'tortellini', u'tortilla', u'tortillas', u'torture', u'torturous', u'toss', u'tossed', u'tosses', u'tossing', u'tostada', u'tostadas', u'tot', u'total', u'totaled', u'totally', u'toting', u'tots', u'tottie', u'totts', u'touch', u'touched', u'touches', u'touching', u'tough', u'tougher', u'tounge', u'tour', u'tourism', u'tourist', u'tourists', u'tourney', u'tours', u'touted', u'touting', u'tovar', u'tow', u'towed', u'towel', u'towels', u'tower', u'towers', u'towing', u'town', u'towne', u'towner', u'towners', u'townhomes', u'towns', u'toxin', u'toy', u'toys', u'tqla', u'tra', u'trace', u'track', u'tracking', u'tracks', u'tract', u'tractor', u'tracy', u'trade', u'trader', u'traders', u'trading', u'tradition', u'traditional', u'traditionally', u'traffic', u'tragus', u'trail', u'trailhead', u'trailings', u'trails', u'train', u'trained', u'trainer', u'trainers', u'training', u'trains', u'traipse', u'tranquil', u'transaction', u'transcendent', u'transcendental', u'transfer', u'transferred', u'transferring', u'transfers', u'transform', u'transformation', u'transformers', u'transients', u'transit', u'transitioning', u'translated', u'translates', u'translation', u'translations', u'transmission', u'transparency', u'transplant', u'transplanted', u'transplanting', u'transport', u'transported', u'transporting', u'trap', u'trapped', u'traps', u'trash', u'trashed', u'trashy', u'trauma', u'travel', u'traveled', u'traveler', u'travelers', u'traveling', u'travelling', u'travels', u'travelzoo', u'travis', u'tray', u'trays', u'treacherous', u'treachery', u'tread', u'treadmill', u'treasure', u'treasures', u'treat', u'treated', u'treating', u'treatment', u'treatments', u'treats', u'tree', u'treehouse', u'trees', u'trek', u'trekking', u'treks', u'tremendous', u'trend', u'trendier', u'trendy', u'trepidation', u'trepidations', u'tres', u'tri', u'triangles', u'triathlons', u'tribute', u'trick', u'tricked', u'tricks', u'tricky', u'tricycles', u'tried', u'tries', u'trifecta', u'trifled', u'trigger', u'trim', u'trimmed', u'trimmers', u'trinkets', u'trio', u'trip', u'tripe', u'triple', u'trips', u'trite', u'triva', u'trivia', u'troon', u'trophies', u'trophy', u'tropical', u'trot', u'trotted', u'trouble', u'troubled', u'trough', u'trousers', u'trout', u'truck', u'truckin', u'trucks', u'true', u'truely', u'truffle', u'truffled', u'truffles', u'truly', u'trumpet', u'trumps', u'trunk', u'trust', u'trusted', u'trusting', u'trustworthy', u'trusty', u'truth', u'truthfully', u'try', u'trying', u'tryst', u'tsa', u'tske', u'tso', u'tsoynami', u'tsoynamis', u'tty', u'tub', u'tube', u'tubs', u'tuck', u'tucked', u'tucker', u'tucson', u'tues', u'tuesday', u'tuesdays', u'tum', u'tumbled', u'tumeric', u'tummy', u'tumor', u'tums', u'tuna', u'tune', u'tuned', u'tunes', u'tunnel', u'tupperware', u'turbo', u'turbulence', u'turd', u'turkey', u'turkish', u'turn', u'turned', u'turner', u'turning', u'turnover', u'turns', u'turntable', u'turtle', u'tuscan', u'tuscana', u'tuscany', u'tush', u'tutorial', u'tutti', u'tv', u'tvs', u'twangy', u'twas', u'tweak', u'tweaker', u'tweek', u'tween', u'tweeples', u'tweeted', u'tweeter', u'tweets', u'tweeze', u'twenties', u'twice', u'twilight', u'twin', u'twinkling', u'twinkly', u'twins', u'twist', u'twisted', u'twisting', u'twisty', u'twitter', u'twix', u'twozels', u'twss', u'tx', u'tying', u'tyler', u'tylor', u'type', u'typed', u'types', u'typical', u'typically', u'tyson', u'tysoncrosbie', u'tzatziki', u'ua', u'uber', u'uchi', u'udder', u'udon', u'udupai', u'udupi', u'ufc', u'ugh', u'ugly', u'uh', u'uhh', u'uhhh', u'uk', u'ukrainian', u'ul', u'ulta', u'ultimate', u'ultimately', u'ultra', u'ultrasound', u'ultrasounds', u'um', u'umami', u'umberto', u'umbrella', u'umbrellaed', u'umbrellas', u'umbria', u'umm', u'ummm', u'ummmmmmmm', u'umph', u'umpteen', u'unable', u'unacceptable', u'unadulterated', u'unagi', u'unanimous', u'unanswered', u'unapologetic', u'unapologetically', u'unappealing', u'unappetizing', u'unassuming', u'unaware', u'unbearable', u'unbeatable', u'unbelievable', u'unbelievably', u'unborn', u'unbridled', u'uncanny', u'uncaring', u'uncle', u'unclear', u'uncles', u'uncluttered', u'uncomfortable', u'uncomfortabley', u'uncomplicated', u'uncooked', u'uncooperative', u'uncountable', u'uncouth', u'uncrowded', u'uncrumbled', u'uncut', u'undecided', u'underage', u'underaged', u'underarm', u'underarms', u'undercooked', u'underdone', u'underground', u'underhanded', u'underneath', u'underrated', u'underserved', u'understaffed', u'understand', u'understandable', u'understanding', u'understands', u'understated', u'understatement', u'understood', u'underwear', u'underwhelmed', u'underwhelming', u'underwritten', u'undeserving', u'undeterred', u'undies', u'undoubtedly', u'undr', u'undress', u'undrinkable', u'uneasy', u'uneaten', u'unedible', u'uneducated', u'unemployed', u'unemployment', u'unending', u'unenjoyably', u'unethical', u'unexceptional', u'unexpected', u'unexpectedly', u'unexplainably', u'unfamiliar', u'unfavorable', u'unfinished', u'unflattering', u'unflexible', u'unforgettable', u'unforgivable', u'unfortunate', u'unfortunately', u'unfounded', u'unfriendliness', u'unfriendly', u'unhappy', u'unhealthily', u'unhelpful', u'uni', u'unidentifiable', u'unidientifiable', u'uniform', u'uniformly', u'uniforms', u'unimaginable', u'uninspired', u'uninspiring', u'unintended', u'uninteresting', u'uninterupted', u'uninviting', u'union', u'unique', u'uniquely', u'uniqueness', u'unisex', u'unison', u'unit', u'unite', u'united', u'units', u'university', u'unkept', u'unknowingly', u'unknown', u'unleashing', u'unless', u'unlike', u'unlikely', u'unlimited', u'unlock', u'unlocked', u'unlucky', u'unmanipulated', u'unmarked', u'unmentionable', u'unmistakably', u'unnecessary', u'unnoticed', u'uno', u'unobstructed', u'unocal', u'unoccupied', u'unofficial', u'unorganized', u'unoriginal', u'unpalatable', u'unparalleled', u'unphogettable', u'unphoghetable', u'unpleasant', u'unpretentious', u'unpretentiously', u'unprocessed', u'unprofessional', u'unprofessionally', u'unreal', u'unrefined', u'unrelated', u'unrivaled', u'unsanitary', u'unsatisfied', u'unseasoned', u'unseen', u'unselfishly', u'unsolicited', u'unstopable', u'unstressed', u'unsuccessful', u'unsuccessfully', u'unsure', u'unsuspecting', u'unted', u'untill', u'untraditional', u'untrained', u'untried', u'unusable', u'unused', u'unusual', u'unusually', u'unvalidated', u'unwanted', u'unwarmed', u'unwelcome', u'unwilling', u'unwind', u'unyielding', u'uopx', u'upbeat', u'upbringings', u'upc', u'upcharge', u'upcharging', u'upchuck', u'upcoming', u'update', u'updated', u'updates', u'updating', u'upfront', u'upgrade', u'upgraded', u'upgrades', u'upgrading', u'uphill', u'upholstery', u'uploaded', u'upo', u'upper', u'uppers', u'upping', u'uprooted', u'ups', u'upscale', u'upset', u'upsets', u'upside', u'upstaged', u'upstairs', u'uptight', u'uptown', u'ur', u'urban', u'urbanspoon', u'urchin', u'urge', u'urgent', u'urinal', u'urinates', u'urine', u'uruguay', u'usa', u'usage', u'usain', u'usairways', u'use', u'used', u'useful', u'useless', u'user', u'uses', u'using', u'usl', u'usps', u'usual', u'usually', u'usuals', u'utah', u'utensil', u'utensils', u'uterus', u'utility', u'utilize', u'utilizing', u'utmost', u'utter', u'uttered', u'utterly', u'uv', u'ux10', u'uye', u'va', u'vaca', u'vacant', u'vacation', u'vacationing', u'vacations', u'vacay', u'vaccilate', u'vaccination', u'vaccines', u'vacuum', u'vacuumed', u'vaguely', u'vain', u'val', u'valencia', u'valentine', u'valentines', u'valerie', u'valet', u'valeted', u'valets', u'valid', u'validated', u'validation', u'valle', u'valley', u'valomilk', u'valuable', u'value', u'values', u'vampire', u'vampiro', u'van', u'vancouver', u'vandalized', u'vang', u'vanilla', u'vanity', u'vans', u'vantage', u'vaporized', u'variance', u'variation', u'variations', u'varied', u'varietals', u'varieties', u'variety', u'various', u'vary', u'vases', u'vast', u'vat', u'vatican', u'vatoci', u'vatra', u'vault', u've', u'veal', u'veer', u'veerrrrrryyyyyyyyy', u'veg', u'vegan', u'veganized', u'vegas', u'vegetable', u'vegetables', u'vegetarian', u'vegetarians', u'veggie', u'veggies', u'vegie', u'vegiies', u'vegtable', u'vehicle', u'vehicles', u'veiled', u'vein', u'veins', u'velvet', u'velveta', u'velvety', u'vender', u'vendor', u'vendors', u'venerable', u'venice', u'venom', u'vent', u'ventilation', u'vents', u'venture', u'ventured', u'ventures', u'venue', u'venues', u'venyse', u'vera', u'verbal', u'verbally', u'verde', u'verdes', u'verdict', u'verduras', u'verge', u'verges', u'verisimilitude', u'veritable', u'verizon', u'vermicelli', u'vermont', u'vermonter', u'veronica', u'veronique', u'verrado', u'verse', u'versed', u'version', u'versions', u'versus', u'verts', u'vests', u'vet', u'veterans', u'veterinary', u'vets', u'vexing', u'vey', u'viad', u'viagra', u'vibe', u'vibrant', u'vibrate', u'vibrated', u'vic', u'vice', u'vicinity', u'victorian', u'vide', u'video', u'videogame', u'videos', u'vids', u'vieja', u'viejas', u'vien', u'viet', u'vietnam', u'vietnamese', u'vietri', u'view', u'viewing', u'views', u'vig', u'vigazz', u'vignettes', u'viking', u'vikings', u'villa', u'village', u'villas', u'vin', u'vinagerette', u'vinagrette', u'vinaigrette', u'vincent', u'vindaloo', u'vine', u'vinegar', u'vinegarette', u'vinegary', u'vines', u'vineyard', u'vingerette', u'vings', u'vino', u'vintage', u'vinyl', u'viola', u'violated', u'violation', u'violations', u'violence', u'violently', u'vip', u'vips', u'virgin', u'virginia', u'virus', u'viscous', u'visibility', u'visible', u'visibly', u'vision', u'visit', u'visited', u'visiting', u'visitor', u'visitors', u'visits', u'vista', u'vistal', u'visualize', u'visually', u'visuals', u'vitality', u'vitamin', u'vitamins', u'vittles', u'vivant', u'vivid', u'vochos', u'vodka', u'vodkas', u'voice', u'voiced', u'void', u'voided', u'voila', u'volcano', u'volleyball', u'volume', u'volumes', u'volunteer', u'volunteered', u'volunteering', u'volunteers', u'vomit', u'von', u'voodoo', u'voracious', u'vortex', u'vote', u'voted', u'voting', u'vouch', u'voucher', u'vouchers', u'vow', u'vowed', u'vs', u'vsc', u'vueve', u'vulgar', u'vulture', u'vultures', u'vw', u'wa', u'waaaaaaaaay', u'waaaaaay', u'waayy', u'wac', u'wach', u'wacky', u'wad', u'waders', u'waffle', u'waffles', u'waffling', u'wag', u'wager', u'wagged', u'wagyu', u'waikiki', u'waist', u'waisting', u'wait', u'waited', u'waiter', u'waiters', u'waiting', u'waitress', u'waitresses', u'waits', u'waitstaff', u'waitstand', u'waived', u'wake', u'wal', u'waldorf', u'walet', u'walgreens', u'walk', u'walkable', u'walked', u'walking', u'walks', u'walkway', u'walkways', u'wall', u'wallet', u'wallets', u'wallowing', u'wallpaper', u'wallpapers', u'walls', u'wally', u'walmart', u'walnut', u'walnuts', u'waltzed', u'wand', u'wander', u'wandered', u'wandering', u'wanna', u'wannabes', u'want', u'want_', u'wanted', u'wanting', u'wantons', u'wants', u'war', u'ward', u'wardrobe', u'wards', u'ware', u'warehouse', u'warehoused', u'warm', u'warmed', u'warmer', u'warmers', u'warming', u'warmly', u'warmth', u'warn', u'warned', u'warner', u'warning', u'warnings', u'warp', u'warrant', u'warrants', u'warranty', u'warriors', u'wars', u'wary', u'wasabe', u'wasabi', u'wash', u'washcloths', u'washday', u'washed', u'washer', u'washers', u'washes', u'washing', u'washington', u'washingtons', u'wasn', u'wasnt', u'wasp', u'waste', u'wastebaskets', u'wasted', u'waster', u'wasting', u'wasy', u'watch', u'watched', u'watcher', u'watchers', u'watches', u'watching', u'water', u'watered', u'waterfall', u'waterfalls', u'waterfront', u'watering', u'watermelon', u'waterproof', u'waters', u'waterslides', u'waterworks', u'watery', u'watt', u'wave', u'waved', u'wavelle', u'waving', u'wax', u'waxed', u'waxing', u'way', u'wayne', u'ways', u'wayward', u'wbc', u'wcg', u'weak', u'weakness', u'wealthier', u'weapon', u'wear', u'wearing', u'wears', u'weary', u'weather', u'weaving', u'web', u'website', u'websites', u'wed', u'wedding', u'weddings', u'wedge', u'wedges', u'wednesday', u'wednesdays', u'weds', u'wee', u'week', u'weekday', u'weekdays', u'weekend', u'weekends', u'weekly', u'weeknight', u'weeknights', u'weeks', u'wei', u'weigh', u'weighs', u'weight', u'weighted', u'weights', u'weihenstephaner', u'weil', u'weird', u'weirded', u'weirdest', u'weirdly', u'weirdo', u'weirdos', u'welcome', u'welcomed', u'welcomes', u'welcoming', u'wellness', u'wells', u'wendy', u'wendys', u'went', u'weren', u'werent', u'west', u'western', u'westgate', u'westin', u'westminster', u'westside', u'westward', u'wet', u'whaat', u'whack', u'whacked', u'whales', u'whatnot', u'whats', u'whatsoever', u'whatsosever', u'whatsover', u'wheat', u'wheel', u'wheeling', u'wheels', u'wheezed', u'whew', u'whiff', u'whilst', u'whim', u'whimsical', u'whines', u'whinin', u'whining', u'whinnying', u'whip', u'whipped', u'whips', u'whirl', u'whirlpools', u'whisked', u'whiskey', u'whiskeys', u'whisper', u'whispered', u'whispers', u'whistling', u'white', u'whiten', u'whites', u'whitesands', u'whitey', u'whitney', u'whiz', u'whoa', u'whoah', u'wholeheartedly', u'wholly', u'whooping', u'whopper', u'whopping', u'whore', u'whoreish', u'whoring', u'wi', u'wich', u'wicked', u'wide', u'wider', u'widow', u'wiener', u'wierd', u'wife', u'wifey', u'wifi', u'wig', u'wiggle', u'wigs', u'wigwam', u'wih', u'wii', u'wiki', u'wikipedia', u'wil', u'wild', u'wildcat', u'wilderness', u'wildest', u'wildfish', u'wildflower', u'wildhorse', u'wildlife', u'wildly', u'willie', u'willing', u'willingfully', u'willow', u'willpower', u'wills', u'willy', u'willys', u'wilma', u'wilted', u'wimp', u'wimper', u'win', u'wind', u'window', u'windowpanes', u'windows', u'winds', u'windshield', u'windsor', u'windy', u'wine', u'wines', u'wing', u'wings', u'wink', u'winkie', u'winking', u'winky', u'winner', u'winners', u'winning', u'wino', u'winos', u'wins', u'winter', u'wipe', u'wiped', u'wiper', u'wipes', u'wiping', u'wire', u'wireless', u'wiring', u'wisconsin', u'wisdom', u'wise', u'wiseguy', u'wisely', u'wiser', u'wish', u'wished', u'wishful', u'wishing', u'witches', u'withdrawal', u'withheld', u'withstanding', u'witness', u'witnessed', u'wives', u'wiz', u'wizard', u'wks', u'wll', u'wobble', u'wobbly', u'woes', u'wok', u'woke', u'woken', u'wolfed', u'wolfpack', u'wolverine', u'woman', u'women', u'womens', u'won', u'wonder', u'wondered', u'wonderful', u'wonderfully', u'wonderfulness', u'wondering', u'wonderland', u'wonderous', u'wonders', u'wondrous', u'wongs', u'wont', u'wonton', u'wontons', u'woo', u'wood', u'wooden', u'woodlands', u'woods', u'woodworker', u'wooed', u'woohoo', u'wool', u'word', u'wordly', u'words', u'wore', u'work', u'worked', u'worker', u'workers', u'working', u'workmanship', u'workout', u'workouts', u'works', u'world', u'worlds', u'worldwide', u'worm', u'worn', u'worried', u'worries', u'worry', u'worrying', u'worse', u'worship', u'worst', u'worstershire', u'worth', u'worthless', u'worthwhile', u'worthy', u'wott', u'woulda', u'wouldn', u'wouldnt', u'wouldve', u'wound', u'wow', u'wowed', u'wowzer', u'wracking', u'wrap', u'wrapped', u'wrapper', u'wrappers', u'wrapping', u'wraps', u'wrath', u'wreck', u'wrestling', u'wrigley', u'wrigleyville', u'wrinkled', u'wrinkles', u'wrinkling', u'wrist', u'wristbands', u'write', u'writer', u'writers', u'writes', u'writing', u'written', u'wrkout', u'wrong', u'wrote', u'wtf', u'wth', u'wussies', u'wwe', u'www', u'w\\xfcrze', u'x2', u'xanax', u'xbox', u'xeriscape', u'xg8u6fz2e8hu0xq3hf7czg', u'xl', u'xlv', u'xmas', u'ya', u'yack', u'yah', u'yahoo', u'yakaguru', u'yakisoba', u'yall', u'yam', u'yang', u'yankin', u'yanks', u'yard', u'yards', u'yardsale', u'yasu', u'yawning', u'yay', u'yc', u'yea', u'yeah', u'year', u'yearly', u'yearning', u'yearnings', u'years', u'yeh', u'yell', u'yelled', u'yelling', u'yellow', u'yellowfin', u'yellowtail', u'yells', u'yelp', u'yelped', u'yelper', u'yelpers', u'yelping', u'yen', u'yep', u'yeppie', u'yer', u'yerba', u'yes', u'yesssss', u'yesterday', u'yew', u'yielding', u'yikes', u'yin', u'yippee', u'ymca', u'yo', u'yodeling', u'yodels', u'yoga', u'yogalates', u'yogis', u'yogurt', u'yogurtini', u'yogurtland', u'yogurtology', u'yogurtopia', u'yogurts', u'yoli', u'yolk', u'yon', u'yoohoo', u'york', u'yorker', u'yorkie', u'youki', u'young', u'younger', u'youngest', u'youre', u'youth', u'youthful', u'youtube', u'yow', u'yowza', u'yr', u'yragui', u'yrs', u'yu', u'yuck', u'yucky', u'yuk', u'yukgejang', u'yukon', u'yum', u'yuma', u'yumm', u'yummie', u'yummier', u'yumminess', u'yummm', u'yummmm', u'yummmmmm', u'yummmmmmers', u'yummmmy', u'yummy', u'yumness', u'yung', u'yup', u'yupha', u'yuppies', u'yusefs', u'yuukk', u'yuuuummmmae', u'yuuuuummmmmyyy', u'yuuuuuuum', u'yuyuyummy', u'yuzu', u'yyyyy', u'z11', u'za', u'zabba', u'zach', u'zam', u'zanella', u'zankou', u'zappos', u'zatsiki', u'zen', u'zero', u'zest', u'zexperience', u'zha', u'zhou', u'zia', u'zihuatenejo', u'zilch', u'zin', u'zinburger', u'zinburgergeist', u'zinc', u'zinfandel', u'zing', u'zip', u'zipcar', u'zipper', u'zippers', u'zipps', u'ziti', u'zoe', u'zombi', u'zombies', u'zone', u'zones', u'zoning', u'zoo', u'zoyo', u'zucca', u'zucchini', u'zuchinni', u'zumba', u'zupa', u'zuzu', u'zwiebel', u'zzed', u'\\xe9clairs', u'\\xe9cole', u'\\xe9m']\n"
     ]
    }
   ],
   "source": [
    "# All 100 features\n",
    "print(vect.get_feature_names())"
   ]
  },
  {
   "cell_type": "markdown",
   "metadata": {},
   "source": [
    "Just like with all other models, more features does not mean a better model. So, we must tune our feature generator to remove features whose predictive capability is none or very low.\n",
    "\n",
    "In this case, there is roughly a 1.6% increase in accuracy when we double the n-gram size and increase our max features by 1,000-fold. Note that if we restrict it to only unigrams, then the accuracy increases even more! So, bigrams were very likely adding more noise than signal. \n",
    "\n",
    "In the end, by only using 16,000 unigram features we came away with a much smaller, simpler, and easier-to-think-about model which also resulted in higher accuracy."
   ]
  },
  {
   "cell_type": "code",
   "execution_count": 59,
   "metadata": {},
   "outputs": [
    {
     "name": "stdout",
     "output_type": "stream",
     "text": [
      "1-grams and 2-grams, up to 100K features:\n",
      "('Features: ', 100000)\n",
      "('Accuracy: ', 0.88551859099804309)\n",
      "\n",
      "1-grams only, up to 100K features:\n",
      "('Features: ', 16825)\n",
      "('Accuracy: ', 0.91878669275929548)\n"
     ]
    }
   ],
   "source": [
    "# Include 1-grams and 2-grams, and limit the number of features.\n",
    "\n",
    "print '1-grams and 2-grams, up to 100K features:'\n",
    "vect = CountVectorizer(ngram_range=(1, 2), max_features=100000)\n",
    "tokenize_test(vect)\n",
    "\n",
    "print\n",
    "print '1-grams only, up to 100K features:'\n",
    "vect = CountVectorizer(ngram_range=(1, 1), max_features=100000)\n",
    "tokenize_test(vect)"
   ]
  },
  {
   "cell_type": "markdown",
   "metadata": {},
   "source": [
    "- `min_df`: Float in range [0.0, 1.0] or int, default=1\n",
    "- When building the vocabulary ignore terms that have a document frequency strictly lower than the given threshold. This value is also called cut-off in the literature. If float, the parameter represents a proportion of documents, integer absolute counts."
   ]
  },
  {
   "cell_type": "code",
   "execution_count": 82,
   "metadata": {
    "scrolled": true
   },
   "outputs": [
    {
     "name": "stdout",
     "output_type": "stream",
     "text": [
      "('Features: ', 43957)\n",
      "('Accuracy: ', 0.93248532289628183)\n"
     ]
    }
   ],
   "source": [
    "# Include 1-grams and 2-grams, and only include terms that appear at least two times.\n",
    "vect = CountVectorizer(ngram_range=(1, 2), min_df=2)\n",
    "tokenize_test(vect)"
   ]
  },
  {
   "cell_type": "markdown",
   "metadata": {},
   "source": [
    "<a id='textblob'></a>\n",
    "## Introduction to TextBlob\n",
    "\n",
    "TextBlob: \"Simplified Text Processing\"\n",
    "\n",
    "> TextBlob provides a simplified interface for exploring \"common natural language processing (NLP) tasks such as part-of-speech tagging, noun phrase extraction, sentiment analysis, classification, translation, and more.\" - [TextBlob website](https://textblob.readthedocs.io/en/dev/)"
   ]
  },
  {
   "cell_type": "code",
   "execution_count": 60,
   "metadata": {
    "scrolled": true
   },
   "outputs": [
    {
     "name": "stdout",
     "output_type": "stream",
     "text": [
      "My wife took me here on my birthday for breakfast and it was excellent.  The weather was perfect which made sitting outside overlooking their grounds an absolute pleasure.  Our waitress was excellent and our food arrived quickly on the semi-busy Saturday morning.  It looked like the place fills up pretty quickly so the earlier you get here the better.\n",
      "\n",
      "Do yourself a favor and get their Bloody Mary.  It was phenomenal and simply the best I've ever had.  I'm pretty sure they only use ingredients from their garden and blend them fresh when you order it.  It was amazing.\n",
      "\n",
      "While EVERYTHING on the menu looks excellent, I had the white truffle scrambled eggs vegetable skillet and it was tasty and delicious.  It came with 2 pieces of their griddled bread with was amazing and it absolutely made the meal complete.  It was the best \"toast\" I've ever had.\n",
      "\n",
      "Anyway, I can't wait to go back!\n"
     ]
    }
   ],
   "source": [
    "# Print the first review.\n",
    "print(yelp_best_worst.text[0])"
   ]
  },
  {
   "cell_type": "code",
   "execution_count": 61,
   "metadata": {
    "collapsed": true
   },
   "outputs": [],
   "source": [
    "# Save it as a TextBlob object.\n",
    "review = TextBlob(yelp_best_worst.text[0])"
   ]
  },
  {
   "cell_type": "code",
   "execution_count": 62,
   "metadata": {},
   "outputs": [
    {
     "data": {
      "text/plain": [
       "WordList(['My', 'wife', 'took', 'me', 'here', 'on', 'my', 'birthday', 'for', 'breakfast', 'and', 'it', 'was', 'excellent', 'The', 'weather', 'was', 'perfect', 'which', 'made', 'sitting', 'outside', 'overlooking', 'their', 'grounds', 'an', 'absolute', 'pleasure', 'Our', 'waitress', 'was', 'excellent', 'and', 'our', 'food', 'arrived', 'quickly', 'on', 'the', 'semi-busy', 'Saturday', 'morning', 'It', 'looked', 'like', 'the', 'place', 'fills', 'up', 'pretty', 'quickly', 'so', 'the', 'earlier', 'you', 'get', 'here', 'the', 'better', 'Do', 'yourself', 'a', 'favor', 'and', 'get', 'their', 'Bloody', 'Mary', 'It', 'was', 'phenomenal', 'and', 'simply', 'the', 'best', 'I', \"'ve\", 'ever', 'had', 'I', \"'m\", 'pretty', 'sure', 'they', 'only', 'use', 'ingredients', 'from', 'their', 'garden', 'and', 'blend', 'them', 'fresh', 'when', 'you', 'order', 'it', 'It', 'was', 'amazing', 'While', 'EVERYTHING', 'on', 'the', 'menu', 'looks', 'excellent', 'I', 'had', 'the', 'white', 'truffle', 'scrambled', 'eggs', 'vegetable', 'skillet', 'and', 'it', 'was', 'tasty', 'and', 'delicious', 'It', 'came', 'with', '2', 'pieces', 'of', 'their', 'griddled', 'bread', 'with', 'was', 'amazing', 'and', 'it', 'absolutely', 'made', 'the', 'meal', 'complete', 'It', 'was', 'the', 'best', 'toast', 'I', \"'ve\", 'ever', 'had', 'Anyway', 'I', 'ca', \"n't\", 'wait', 'to', 'go', 'back'])"
      ]
     },
     "execution_count": 62,
     "metadata": {},
     "output_type": "execute_result"
    }
   ],
   "source": [
    "# List the words.\n",
    "review.words"
   ]
  },
  {
   "cell_type": "code",
   "execution_count": 63,
   "metadata": {},
   "outputs": [
    {
     "data": {
      "text/plain": [
       "[Sentence(\"My wife took me here on my birthday for breakfast and it was excellent.\"),\n",
       " Sentence(\"The weather was perfect which made sitting outside overlooking their grounds an absolute pleasure.\"),\n",
       " Sentence(\"Our waitress was excellent and our food arrived quickly on the semi-busy Saturday morning.\"),\n",
       " Sentence(\"It looked like the place fills up pretty quickly so the earlier you get here the better.\"),\n",
       " Sentence(\"Do yourself a favor and get their Bloody Mary.\"),\n",
       " Sentence(\"It was phenomenal and simply the best I've ever had.\"),\n",
       " Sentence(\"I'm pretty sure they only use ingredients from their garden and blend them fresh when you order it.\"),\n",
       " Sentence(\"It was amazing.\"),\n",
       " Sentence(\"While EVERYTHING on the menu looks excellent, I had the white truffle scrambled eggs vegetable skillet and it was tasty and delicious.\"),\n",
       " Sentence(\"It came with 2 pieces of their griddled bread with was amazing and it absolutely made the meal complete.\"),\n",
       " Sentence(\"It was the best \"toast\" I've ever had.\"),\n",
       " Sentence(\"Anyway, I can't wait to go back!\")]"
      ]
     },
     "execution_count": 63,
     "metadata": {},
     "output_type": "execute_result"
    }
   ],
   "source": [
    "# List the sentences.\n",
    "review.sentences"
   ]
  },
  {
   "cell_type": "code",
   "execution_count": 64,
   "metadata": {},
   "outputs": [
    {
     "data": {
      "text/plain": [
       "TextBlob(\"my wife took me here on my birthday for breakfast and it was excellent.  the weather was perfect which made sitting outside overlooking their grounds an absolute pleasure.  our waitress was excellent and our food arrived quickly on the semi-busy saturday morning.  it looked like the place fills up pretty quickly so the earlier you get here the better.\n",
       "\n",
       "do yourself a favor and get their bloody mary.  it was phenomenal and simply the best i've ever had.  i'm pretty sure they only use ingredients from their garden and blend them fresh when you order it.  it was amazing.\n",
       "\n",
       "while everything on the menu looks excellent, i had the white truffle scrambled eggs vegetable skillet and it was tasty and delicious.  it came with 2 pieces of their griddled bread with was amazing and it absolutely made the meal complete.  it was the best \"toast\" i've ever had.\n",
       "\n",
       "anyway, i can't wait to go back!\")"
      ]
     },
     "execution_count": 64,
     "metadata": {},
     "output_type": "execute_result"
    }
   ],
   "source": [
    "# Some string methods are available.\n",
    "review.lower()"
   ]
  },
  {
   "cell_type": "markdown",
   "metadata": {},
   "source": [
    "<a id='stem'></a>\n",
    "## Stemming and Lemmatization\n",
    "\n",
    "Stemming is a crude process of removing common endings from sentences, such as \"s\", \"es\", \"ly\", \"ing\", and \"ed\".\n",
    "\n",
    "- **What:** Reduce a word to its base/stem/root form.\n",
    "- **Why:** This intelligently reduces the number of features by grouping together (hopefully) related words.\n",
    "- **Notes:**\n",
    "    - Stemming uses a simple and fast rule-based approach.\n",
    "    - Stemmed words are usually not shown to users (used for analysis/indexing).\n",
    "    - Some search engines treat words with the same stem as synonyms."
   ]
  },
  {
   "cell_type": "code",
   "execution_count": 66,
   "metadata": {},
   "outputs": [
    {
     "name": "stdout",
     "output_type": "stream",
     "text": [
      "[u'my', u'wife', u'took', u'me', u'here', u'on', u'my', u'birthday', u'for', u'breakfast', u'and', u'it', u'was', u'excel', u'the', u'weather', u'was', u'perfect', u'which', u'made', u'sit', u'outsid', u'overlook', u'their', u'ground', u'an', u'absolut', u'pleasur', u'our', u'waitress', u'was', u'excel', u'and', u'our', u'food', u'arriv', u'quick', u'on', u'the', u'semi-busi', u'saturday', u'morn', u'it', u'look', u'like', u'the', u'place', u'fill', u'up', u'pretti', u'quick', u'so', u'the', u'earlier', u'you', u'get', u'here', u'the', u'better', u'do', u'yourself', u'a', u'favor', u'and', u'get', u'their', u'bloodi', u'mari', u'it', u'was', u'phenomen', u'and', u'simpli', u'the', u'best', u'i', u've', u'ever', u'had', u'i', u\"'m\", u'pretti', u'sure', u'they', u'onli', u'use', u'ingredi', u'from', u'their', u'garden', u'and', u'blend', u'them', u'fresh', u'when', u'you', u'order', u'it', u'it', u'was', u'amaz', u'while', u'everyth', u'on', u'the', u'menu', u'look', u'excel', u'i', u'had', u'the', u'white', u'truffl', u'scrambl', u'egg', u'veget', u'skillet', u'and', u'it', u'was', u'tasti', u'and', u'delici', u'it', u'came', u'with', u'2', u'piec', u'of', u'their', u'griddl', u'bread', u'with', u'was', u'amaz', u'and', u'it', u'absolut', u'made', u'the', u'meal', u'complet', u'it', u'was', u'the', u'best', u'toast', u'i', u've', u'ever', u'had', u'anyway', u'i', u'ca', u\"n't\", u'wait', u'to', u'go', u'back']\n"
     ]
    }
   ],
   "source": [
    "# Initialize stemmer.\n",
    "stemmer = SnowballStemmer('english')\n",
    "\n",
    "# Stem each word.\n",
    "print([stemmer.stem(word) for word in review.words])"
   ]
  },
  {
   "cell_type": "markdown",
   "metadata": {},
   "source": [
    "Some examples you can see are \"excellent\" stemmed to \"excel\" and \"amazing\" stemmed to \"amaz\"."
   ]
  },
  {
   "cell_type": "markdown",
   "metadata": {},
   "source": [
    "Lemmatization is a more refined process that uses specific language and grammar rules to derive the root of a word.  \n",
    "\n",
    "This is useful for words that do not share an obvious root such as \"better\" and \"best\".\n",
    "\n",
    "- **What:** Lemmatization derives the canonical form (\"lemma\") of a word.\n",
    "- **Why:** It can be better than stemming.\n",
    "- **Notes:** Uses a dictionary-based approach (slower than stemming)."
   ]
  },
  {
   "cell_type": "code",
   "execution_count": 67,
   "metadata": {},
   "outputs": [
    {
     "name": "stdout",
     "output_type": "stream",
     "text": [
      "['My', 'wife', 'took', 'me', 'here', 'on', 'my', 'birthday', 'for', 'breakfast', 'and', 'it', u'wa', 'excellent', 'The', 'weather', u'wa', 'perfect', 'which', 'made', 'sitting', 'outside', 'overlooking', 'their', u'ground', 'an', 'absolute', 'pleasure', 'Our', 'waitress', u'wa', 'excellent', 'and', 'our', 'food', 'arrived', 'quickly', 'on', 'the', 'semi-busy', 'Saturday', 'morning', 'It', 'looked', 'like', 'the', 'place', u'fill', 'up', 'pretty', 'quickly', 'so', 'the', 'earlier', 'you', 'get', 'here', 'the', 'better', 'Do', 'yourself', 'a', 'favor', 'and', 'get', 'their', 'Bloody', 'Mary', 'It', u'wa', 'phenomenal', 'and', 'simply', 'the', 'best', 'I', \"'ve\", 'ever', 'had', 'I', \"'m\", 'pretty', 'sure', 'they', 'only', 'use', u'ingredient', 'from', 'their', 'garden', 'and', 'blend', 'them', 'fresh', 'when', 'you', 'order', 'it', 'It', u'wa', 'amazing', 'While', 'EVERYTHING', 'on', 'the', 'menu', u'look', 'excellent', 'I', 'had', 'the', 'white', 'truffle', 'scrambled', u'egg', 'vegetable', 'skillet', 'and', 'it', u'wa', 'tasty', 'and', 'delicious', 'It', 'came', 'with', '2', u'piece', 'of', 'their', 'griddled', 'bread', 'with', u'wa', 'amazing', 'and', 'it', 'absolutely', 'made', 'the', 'meal', 'complete', 'It', u'wa', 'the', 'best', 'toast', 'I', \"'ve\", 'ever', 'had', 'Anyway', 'I', 'ca', \"n't\", 'wait', 'to', 'go', 'back']\n"
     ]
    }
   ],
   "source": [
    "# Assume every word is a noun.\n",
    "print([word.lemmatize() for word in review.words])"
   ]
  },
  {
   "cell_type": "markdown",
   "metadata": {},
   "source": [
    "Some examples you can see are \"filled\" lemmatized to \"fill\" and \"was\" lemmatized to \"wa\".\n"
   ]
  },
  {
   "cell_type": "code",
   "execution_count": 68,
   "metadata": {},
   "outputs": [
    {
     "name": "stdout",
     "output_type": "stream",
     "text": [
      "['My', 'wife', u'take', 'me', 'here', 'on', 'my', 'birthday', 'for', 'breakfast', 'and', 'it', u'be', 'excellent', 'The', 'weather', u'be', 'perfect', 'which', u'make', u'sit', 'outside', u'overlook', 'their', u'ground', 'an', 'absolute', 'pleasure', 'Our', 'waitress', u'be', 'excellent', 'and', 'our', 'food', u'arrive', 'quickly', 'on', 'the', 'semi-busy', 'Saturday', 'morning', 'It', u'look', 'like', 'the', 'place', u'fill', 'up', 'pretty', 'quickly', 'so', 'the', 'earlier', 'you', 'get', 'here', 'the', 'better', 'Do', 'yourself', 'a', 'favor', 'and', 'get', 'their', 'Bloody', 'Mary', 'It', u'be', 'phenomenal', 'and', 'simply', 'the', 'best', 'I', \"'ve\", 'ever', u'have', 'I', \"'m\", 'pretty', 'sure', 'they', 'only', 'use', 'ingredients', 'from', 'their', 'garden', 'and', 'blend', 'them', 'fresh', 'when', 'you', 'order', 'it', 'It', u'be', u'amaze', 'While', 'EVERYTHING', 'on', 'the', 'menu', u'look', 'excellent', 'I', u'have', 'the', 'white', 'truffle', u'scramble', u'egg', 'vegetable', 'skillet', 'and', 'it', u'be', 'tasty', 'and', 'delicious', 'It', u'come', 'with', '2', u'piece', 'of', 'their', u'griddle', 'bread', 'with', u'be', u'amaze', 'and', 'it', 'absolutely', u'make', 'the', 'meal', 'complete', 'It', u'be', 'the', 'best', 'toast', 'I', \"'ve\", 'ever', u'have', 'Anyway', 'I', 'ca', \"n't\", 'wait', 'to', 'go', 'back']\n"
     ]
    }
   ],
   "source": [
    "# Assume every word is a verb.\n",
    "print([word.lemmatize(pos='v') for word in review.words])"
   ]
  },
  {
   "cell_type": "markdown",
   "metadata": {},
   "source": [
    "Some examples you can see are \"was\" lemmatized to \"be\" and \"arrived\" lemmatized to \"arrive\"."
   ]
  },
  {
   "cell_type": "markdown",
   "metadata": {},
   "source": [
    "**More Lemmatization and Stemming Examples**\n",
    "\n",
    "|Lemmatization|Stemming|\n",
    "|-------------|---------|\n",
    "|shouted → shout|badly → bad|\n",
    "|best → good|computing → comput|\n",
    "|better → good|computed → comput|\n",
    "|good → good|wipes → wip|\n",
    "|wiping → wipe|wiped → wip|\n",
    "|hidden → hide|wiping → wip|"
   ]
  },
  {
   "cell_type": "markdown",
   "metadata": {},
   "source": [
    "### Activity: Knowledge Check\n",
    "- What other words or phrases might cause problems with stemming? Why?\n",
    "- What other words or phrases might cause problems with lemmatization? Why?\n",
    "\n",
    "----\n",
    "\n"
   ]
  },
  {
   "cell_type": "code",
   "execution_count": 69,
   "metadata": {
    "collapsed": true
   },
   "outputs": [],
   "source": [
    "# Define a function that accepts text and returns a list of lemmas.\n",
    "def split_into_lemmas(text):\n",
    "    text = unicode(text, 'utf-8').lower()\n",
    "    words = TextBlob(text).words\n",
    "    return [word.lemmatize() for word in words]"
   ]
  },
  {
   "cell_type": "code",
   "execution_count": 70,
   "metadata": {},
   "outputs": [
    {
     "name": "stdout",
     "output_type": "stream",
     "text": [
      "('Features: ', 16452)\n",
      "('Accuracy: ', 0.92074363992172215)\n"
     ]
    }
   ],
   "source": [
    "# Use split_into_lemmas as the feature extraction function (Warning: SLOW!).\n",
    "vect = CountVectorizer(analyzer=split_into_lemmas, decode_error='replace')\n",
    "tokenize_test(vect)"
   ]
  },
  {
   "cell_type": "code",
   "execution_count": 71,
   "metadata": {},
   "outputs": [
    {
     "name": "stdout",
     "output_type": "stream",
     "text": [
      "[u'yuyuyummy', u'yuzu', u'z', u'z-grill', u'z11', u'zach', u'zam', u'zanella', u'zankou', u'zappos', u'zatsiki', u'zen', u'zen-like', u'zero', u'zero-star', u'zest', u'zexperience', u'zha', u'zhou', u'zia', u'zilch', u'zin', u'zinburger', u'zinburgergeist', u'zinc', u'zinfandel', u'zing', u'zip', u'zipcar', u'zipper', u'zipps', u'ziti', u'zoe', u'zombi', u'zombie', u'zone', u'zoning', u'zoo', u'zoyo', u'zucca', u'zucchini', u'zuchinni', u'zumba', u'zupa', u'zuzu', u'zwiebel-kr\\xe4uter', u'zzed', u'\\xe9clairs', u'\\xe9cole', u'\\xe9m']\n"
     ]
    }
   ],
   "source": [
    "# Last 50 features\n",
    "print(vect.get_feature_names()[-50:])"
   ]
  },
  {
   "cell_type": "markdown",
   "metadata": {},
   "source": [
    "With all the available options for `CountVectorizer()`, you may wonder how to decide which to use! It's true that you can sometimes reason about which preprocessing techniques might work best. However, you will often not know for sure without trying out many different combinations and comparing their accuracies. \n",
    "\n",
    "> Keep in mind that you should constantly be thinking about the result of each preprocessing step instead of blindly trying them without thinking. Does each type of preprocessing \"makes sense\" with the input data you are using? Is it likely to keep intact the signal and remove noise?"
   ]
  },
  {
   "cell_type": "markdown",
   "metadata": {},
   "source": [
    "<a id='tfidf'></a>\n",
    "## Term Frequency–Inverse Document Frequency (TF–IDF)\n",
    "\n",
    "- **What:** Term frequency–inverse document frequency (TF–IDF) computes the \"relative frequency\" with which a word appears in a document, compared to its frequency across all documents.\n",
    "- **Why:** It's more useful than \"term frequency\" for identifying \"important\" words in each document (high frequency in that document, low frequency in other documents).\n",
    "- **Notes:** It's used for search-engine scoring, text summarization, and document clustering."
   ]
  },
  {
   "cell_type": "code",
   "execution_count": 72,
   "metadata": {
    "collapsed": true
   },
   "outputs": [],
   "source": [
    "# Example documents\n",
    "simple_train = ['call you tonight', 'Call me a cab', 'please call me... PLEASE!']"
   ]
  },
  {
   "cell_type": "code",
   "execution_count": 73,
   "metadata": {},
   "outputs": [
    {
     "data": {
      "text/html": [
       "<div>\n",
       "<style>\n",
       "    .dataframe thead tr:only-child th {\n",
       "        text-align: right;\n",
       "    }\n",
       "\n",
       "    .dataframe thead th {\n",
       "        text-align: left;\n",
       "    }\n",
       "\n",
       "    .dataframe tbody tr th {\n",
       "        vertical-align: top;\n",
       "    }\n",
       "</style>\n",
       "<table border=\"1\" class=\"dataframe\">\n",
       "  <thead>\n",
       "    <tr style=\"text-align: right;\">\n",
       "      <th></th>\n",
       "      <th>cab</th>\n",
       "      <th>call</th>\n",
       "      <th>me</th>\n",
       "      <th>please</th>\n",
       "      <th>tonight</th>\n",
       "      <th>you</th>\n",
       "    </tr>\n",
       "  </thead>\n",
       "  <tbody>\n",
       "    <tr>\n",
       "      <th>0</th>\n",
       "      <td>0</td>\n",
       "      <td>1</td>\n",
       "      <td>0</td>\n",
       "      <td>0</td>\n",
       "      <td>1</td>\n",
       "      <td>1</td>\n",
       "    </tr>\n",
       "    <tr>\n",
       "      <th>1</th>\n",
       "      <td>1</td>\n",
       "      <td>1</td>\n",
       "      <td>1</td>\n",
       "      <td>0</td>\n",
       "      <td>0</td>\n",
       "      <td>0</td>\n",
       "    </tr>\n",
       "    <tr>\n",
       "      <th>2</th>\n",
       "      <td>0</td>\n",
       "      <td>1</td>\n",
       "      <td>1</td>\n",
       "      <td>2</td>\n",
       "      <td>0</td>\n",
       "      <td>0</td>\n",
       "    </tr>\n",
       "  </tbody>\n",
       "</table>\n",
       "</div>"
      ],
      "text/plain": [
       "   cab  call  me  please  tonight  you\n",
       "0    0     1   0       0        1    1\n",
       "1    1     1   1       0        0    0\n",
       "2    0     1   1       2        0    0"
      ]
     },
     "execution_count": 73,
     "metadata": {},
     "output_type": "execute_result"
    }
   ],
   "source": [
    "# Term frequency\n",
    "vect = CountVectorizer()\n",
    "tf = pd.DataFrame(vect.fit_transform(simple_train).toarray(), columns=vect.get_feature_names())\n",
    "tf"
   ]
  },
  {
   "cell_type": "code",
   "execution_count": 74,
   "metadata": {},
   "outputs": [
    {
     "data": {
      "text/html": [
       "<div>\n",
       "<style>\n",
       "    .dataframe thead tr:only-child th {\n",
       "        text-align: right;\n",
       "    }\n",
       "\n",
       "    .dataframe thead th {\n",
       "        text-align: left;\n",
       "    }\n",
       "\n",
       "    .dataframe tbody tr th {\n",
       "        vertical-align: top;\n",
       "    }\n",
       "</style>\n",
       "<table border=\"1\" class=\"dataframe\">\n",
       "  <thead>\n",
       "    <tr style=\"text-align: right;\">\n",
       "      <th></th>\n",
       "      <th>cab</th>\n",
       "      <th>call</th>\n",
       "      <th>me</th>\n",
       "      <th>please</th>\n",
       "      <th>tonight</th>\n",
       "      <th>you</th>\n",
       "    </tr>\n",
       "  </thead>\n",
       "  <tbody>\n",
       "    <tr>\n",
       "      <th>0</th>\n",
       "      <td>1</td>\n",
       "      <td>3</td>\n",
       "      <td>2</td>\n",
       "      <td>1</td>\n",
       "      <td>1</td>\n",
       "      <td>1</td>\n",
       "    </tr>\n",
       "  </tbody>\n",
       "</table>\n",
       "</div>"
      ],
      "text/plain": [
       "   cab  call  me  please  tonight  you\n",
       "0    1     3   2       1        1    1"
      ]
     },
     "execution_count": 74,
     "metadata": {},
     "output_type": "execute_result"
    }
   ],
   "source": [
    "# Document frequency\n",
    "vect = CountVectorizer(binary=True)\n",
    "df = vect.fit_transform(simple_train).toarray().sum(axis=0)\n",
    "pd.DataFrame(df.reshape(1, 6), columns=vect.get_feature_names())"
   ]
  },
  {
   "cell_type": "code",
   "execution_count": 75,
   "metadata": {},
   "outputs": [
    {
     "data": {
      "text/html": [
       "<div>\n",
       "<style>\n",
       "    .dataframe thead tr:only-child th {\n",
       "        text-align: right;\n",
       "    }\n",
       "\n",
       "    .dataframe thead th {\n",
       "        text-align: left;\n",
       "    }\n",
       "\n",
       "    .dataframe tbody tr th {\n",
       "        vertical-align: top;\n",
       "    }\n",
       "</style>\n",
       "<table border=\"1\" class=\"dataframe\">\n",
       "  <thead>\n",
       "    <tr style=\"text-align: right;\">\n",
       "      <th></th>\n",
       "      <th>cab</th>\n",
       "      <th>call</th>\n",
       "      <th>me</th>\n",
       "      <th>please</th>\n",
       "      <th>tonight</th>\n",
       "      <th>you</th>\n",
       "    </tr>\n",
       "  </thead>\n",
       "  <tbody>\n",
       "    <tr>\n",
       "      <th>0</th>\n",
       "      <td>0.0</td>\n",
       "      <td>0.333333</td>\n",
       "      <td>0.0</td>\n",
       "      <td>0.0</td>\n",
       "      <td>1.0</td>\n",
       "      <td>1.0</td>\n",
       "    </tr>\n",
       "    <tr>\n",
       "      <th>1</th>\n",
       "      <td>1.0</td>\n",
       "      <td>0.333333</td>\n",
       "      <td>0.5</td>\n",
       "      <td>0.0</td>\n",
       "      <td>0.0</td>\n",
       "      <td>0.0</td>\n",
       "    </tr>\n",
       "    <tr>\n",
       "      <th>2</th>\n",
       "      <td>0.0</td>\n",
       "      <td>0.333333</td>\n",
       "      <td>0.5</td>\n",
       "      <td>2.0</td>\n",
       "      <td>0.0</td>\n",
       "      <td>0.0</td>\n",
       "    </tr>\n",
       "  </tbody>\n",
       "</table>\n",
       "</div>"
      ],
      "text/plain": [
       "   cab      call   me  please  tonight  you\n",
       "0  0.0  0.333333  0.0     0.0      1.0  1.0\n",
       "1  1.0  0.333333  0.5     0.0      0.0  0.0\n",
       "2  0.0  0.333333  0.5     2.0      0.0  0.0"
      ]
     },
     "execution_count": 75,
     "metadata": {},
     "output_type": "execute_result"
    }
   ],
   "source": [
    "# Term frequency–inverse document frequency (simple version)\n",
    "tf/df"
   ]
  },
  {
   "cell_type": "markdown",
   "metadata": {},
   "source": [
    "The higher the TF–IDF value, the more \"important\" the word is to that specific document. Here, \"cab\" is the most important and unique word in document 1, while \"please\" is the most important and unique word in document 2. TF–IDF is often used for training as a replacement for word count."
   ]
  },
  {
   "cell_type": "code",
   "execution_count": 77,
   "metadata": {},
   "outputs": [
    {
     "data": {
      "text/html": [
       "<div>\n",
       "<style>\n",
       "    .dataframe thead tr:only-child th {\n",
       "        text-align: right;\n",
       "    }\n",
       "\n",
       "    .dataframe thead th {\n",
       "        text-align: left;\n",
       "    }\n",
       "\n",
       "    .dataframe tbody tr th {\n",
       "        vertical-align: top;\n",
       "    }\n",
       "</style>\n",
       "<table border=\"1\" class=\"dataframe\">\n",
       "  <thead>\n",
       "    <tr style=\"text-align: right;\">\n",
       "      <th></th>\n",
       "      <th>cab</th>\n",
       "      <th>call</th>\n",
       "      <th>me</th>\n",
       "      <th>please</th>\n",
       "      <th>tonight</th>\n",
       "      <th>you</th>\n",
       "    </tr>\n",
       "  </thead>\n",
       "  <tbody>\n",
       "    <tr>\n",
       "      <th>0</th>\n",
       "      <td>0.000000</td>\n",
       "      <td>0.385372</td>\n",
       "      <td>0.000000</td>\n",
       "      <td>0.000000</td>\n",
       "      <td>0.652491</td>\n",
       "      <td>0.652491</td>\n",
       "    </tr>\n",
       "    <tr>\n",
       "      <th>1</th>\n",
       "      <td>0.720333</td>\n",
       "      <td>0.425441</td>\n",
       "      <td>0.547832</td>\n",
       "      <td>0.000000</td>\n",
       "      <td>0.000000</td>\n",
       "      <td>0.000000</td>\n",
       "    </tr>\n",
       "    <tr>\n",
       "      <th>2</th>\n",
       "      <td>0.000000</td>\n",
       "      <td>0.266075</td>\n",
       "      <td>0.342620</td>\n",
       "      <td>0.901008</td>\n",
       "      <td>0.000000</td>\n",
       "      <td>0.000000</td>\n",
       "    </tr>\n",
       "  </tbody>\n",
       "</table>\n",
       "</div>"
      ],
      "text/plain": [
       "        cab      call        me    please   tonight       you\n",
       "0  0.000000  0.385372  0.000000  0.000000  0.652491  0.652491\n",
       "1  0.720333  0.425441  0.547832  0.000000  0.000000  0.000000\n",
       "2  0.000000  0.266075  0.342620  0.901008  0.000000  0.000000"
      ]
     },
     "execution_count": 77,
     "metadata": {},
     "output_type": "execute_result"
    }
   ],
   "source": [
    "# TfidfVectorizer\n",
    "vect = TfidfVectorizer()\n",
    "pd.DataFrame(vect.fit_transform(simple_train).toarray(), columns=vect.get_feature_names())"
   ]
  },
  {
   "cell_type": "markdown",
   "metadata": {},
   "source": [
    "**More details:** [TF–IDF is about what matters](http://planspace.org/20150524-tfidf_is_about_what_matters/)"
   ]
  },
  {
   "cell_type": "markdown",
   "metadata": {},
   "source": [
    "<a id='yelp_tfidf'></a>\n",
    "## Using TF–IDF to Summarize a Yelp Review\n",
    "\n",
    "Reddit's autotldr uses the [SMMRY](http://smmry.com/about) algorithm, which is based on TF–IDF."
   ]
  },
  {
   "cell_type": "code",
   "execution_count": 78,
   "metadata": {},
   "outputs": [
    {
     "data": {
      "text/plain": [
       "(10000, 28880)"
      ]
     },
     "execution_count": 78,
     "metadata": {},
     "output_type": "execute_result"
    }
   ],
   "source": [
    "# Create a document-term matrix using TF–IDF.\n",
    "vect = TfidfVectorizer(stop_words='english')\n",
    "\n",
    "# Fit transform Yelp data.\n",
    "dtm = vect.fit_transform(yelp.text)\n",
    "features = vect.get_feature_names()\n",
    "dtm.shape"
   ]
  },
  {
   "cell_type": "code",
   "execution_count": 79,
   "metadata": {
    "collapsed": true
   },
   "outputs": [],
   "source": [
    "def summarize():\n",
    "    \n",
    "    # Choose a random review that is at least 300 characters.\n",
    "    review_length = 0\n",
    "    while review_length < 300:\n",
    "        review_id = np.random.randint(0, len(yelp))\n",
    "        review_text = yelp.text[review_id]\n",
    "        #review_text = unicode(yelp.text[review_id], 'utf-8')\n",
    "        review_length = len(review_text)\n",
    "    \n",
    "    # Create a dictionary of words and their TF–IDF scores.\n",
    "    word_scores = {}\n",
    "    for word in TextBlob(review_text).words:\n",
    "        word = word.lower()\n",
    "        if word in features:\n",
    "            word_scores[word] = dtm[review_id, features.index(word)]\n",
    "    \n",
    "    # Print words with the top five TF–IDF scores.\n",
    "    print('TOP SCORING WORDS:')\n",
    "    top_scores = sorted(word_scores.items(), key=lambda x: x[1], reverse=True)[:5]\n",
    "    for word, score in top_scores:\n",
    "        print(word)\n",
    "    \n",
    "    # Print five random words.\n",
    "    print('\\n' + 'RANDOM WORDS:')\n",
    "    random_words = np.random.choice(list(word_scores.keys()), size=5, replace=False)\n",
    "    for word in random_words:\n",
    "        print(word)\n",
    "    \n",
    "    # Print the review.\n",
    "    print('\\n' + review_text)"
   ]
  },
  {
   "cell_type": "code",
   "execution_count": 81,
   "metadata": {},
   "outputs": [
    {
     "name": "stdout",
     "output_type": "stream",
     "text": [
      "TOP SCORING WORDS:\n",
      "tour\n",
      "misbehaved\n",
      "saguaros\n",
      "drawbacks\n",
      "rides\n",
      "\n",
      "RANDOM WORDS:\n",
      "scenery\n",
      "great\n",
      "ground\n",
      "rise\n",
      "guide\n",
      "\n",
      "Sunset rise on new year's eve. Gorgeous scenery. Great short ride, but you cover a lot of ground with a lot of different amazing views. Saguaros everywhere. Great view of the lake from the top of the hill. Friendly staff. Drawbacks: horses seemed pretty tired by the end of the day (we were the last tour). Even though my horse misbehaved, our tour guide handled him very well. Looking forward to more rides when we return for vacation!\n"
     ]
    }
   ],
   "source": [
    "summarize()"
   ]
  },
  {
   "cell_type": "markdown",
   "metadata": {},
   "source": [
    "<a id='sentiment'></a>\n",
    "## Sentiment Analysis\n",
    "\n",
    "Understanding how positive or negative a review is. There are many ways in practice to compute a sentiment value. For example:\n",
    "\n",
    "- Have a list of \"positive\" words and a list of \"negative\" words and count how many occur in a document. \n",
    "- Train a classifier given many examples of \"positive\" documents and \"negative\" documents. \n",
    "    - Note that this technique is often just an automated way to derive the first (e.g., using bag-of-words with logistic regression, a coefficient is assigned to each word!).\n",
    "\n",
    "For the most accurate sentiment analysis, you will want to train a custom sentiment model based on documents that are particular to your application. Generic models (such as the one we are about to use!) often do not work as well as hoped.\n",
    "\n",
    "As we will do below, always make sure you double-check that the algorithm is working by manually verifying that scores correctly correspond to positive/negative reviews! Otherwise, you may be using numbers that are not accurate."
   ]
  },
  {
   "cell_type": "code",
   "execution_count": 87,
   "metadata": {},
   "outputs": [
    {
     "name": "stdout",
     "output_type": "stream",
     "text": [
      "My wife took me here on my birthday for breakfast and it was excellent.  The weather was perfect which made sitting outside overlooking their grounds an absolute pleasure.  Our waitress was excellent and our food arrived quickly on the semi-busy Saturday morning.  It looked like the place fills up pretty quickly so the earlier you get here the better.\n",
      "\n",
      "Do yourself a favor and get their Bloody Mary.  It was phenomenal and simply the best I've ever had.  I'm pretty sure they only use ingredients from their garden and blend them fresh when you order it.  It was amazing.\n",
      "\n",
      "While EVERYTHING on the menu looks excellent, I had the white truffle scrambled eggs vegetable skillet and it was tasty and delicious.  It came with 2 pieces of their griddled bread with was amazing and it absolutely made the meal complete.  It was the best \"toast\" I've ever had.\n",
      "\n",
      "Anyway, I can't wait to go back!\n"
     ]
    }
   ],
   "source": [
    "print(review)"
   ]
  },
  {
   "cell_type": "code",
   "execution_count": 88,
   "metadata": {},
   "outputs": [
    {
     "data": {
      "text/plain": [
       "0.40246913580246907"
      ]
     },
     "execution_count": 88,
     "metadata": {},
     "output_type": "execute_result"
    }
   ],
   "source": [
    "# Polarity ranges from -1 (most negative) to 1 (most positive).\n",
    "review.sentiment.polarity"
   ]
  },
  {
   "cell_type": "code",
   "execution_count": 93,
   "metadata": {},
   "outputs": [
    {
     "data": {
      "text/html": [
       "<div>\n",
       "<style>\n",
       "    .dataframe thead tr:only-child th {\n",
       "        text-align: right;\n",
       "    }\n",
       "\n",
       "    .dataframe thead th {\n",
       "        text-align: left;\n",
       "    }\n",
       "\n",
       "    .dataframe tbody tr th {\n",
       "        vertical-align: top;\n",
       "    }\n",
       "</style>\n",
       "<table border=\"1\" class=\"dataframe\">\n",
       "  <thead>\n",
       "    <tr style=\"text-align: right;\">\n",
       "      <th></th>\n",
       "      <th>business_id</th>\n",
       "      <th>date</th>\n",
       "      <th>review_id</th>\n",
       "      <th>stars</th>\n",
       "      <th>text</th>\n",
       "      <th>type</th>\n",
       "      <th>user_id</th>\n",
       "      <th>cool</th>\n",
       "      <th>useful</th>\n",
       "      <th>funny</th>\n",
       "      <th>length</th>\n",
       "      <th>sentiment</th>\n",
       "    </tr>\n",
       "  </thead>\n",
       "  <tbody>\n",
       "    <tr>\n",
       "      <th>0</th>\n",
       "      <td>9yKzy9PApeiPPOUJEtnvkg</td>\n",
       "      <td>2011-01-26</td>\n",
       "      <td>fWKvX83p0-ka4JS3dc6E5A</td>\n",
       "      <td>5</td>\n",
       "      <td>My wife took me here on my birthday for breakf...</td>\n",
       "      <td>review</td>\n",
       "      <td>rLtl8ZkDX5vH5nAx9C3q5Q</td>\n",
       "      <td>2</td>\n",
       "      <td>5</td>\n",
       "      <td>0</td>\n",
       "      <td>889</td>\n",
       "      <td>0.402469</td>\n",
       "    </tr>\n",
       "  </tbody>\n",
       "</table>\n",
       "</div>"
      ],
      "text/plain": [
       "              business_id        date               review_id  stars  \\\n",
       "0  9yKzy9PApeiPPOUJEtnvkg  2011-01-26  fWKvX83p0-ka4JS3dc6E5A      5   \n",
       "\n",
       "                                                text    type  \\\n",
       "0  My wife took me here on my birthday for breakf...  review   \n",
       "\n",
       "                  user_id  cool  useful  funny  length  sentiment  \n",
       "0  rLtl8ZkDX5vH5nAx9C3q5Q     2       5      0     889   0.402469  "
      ]
     },
     "execution_count": 93,
     "metadata": {},
     "output_type": "execute_result"
    }
   ],
   "source": [
    "# Understanding the apply method\n",
    "yelp['length'] = yelp.text.apply(len)\n",
    "yelp.head(1)"
   ]
  },
  {
   "cell_type": "code",
   "execution_count": 94,
   "metadata": {
    "collapsed": true
   },
   "outputs": [],
   "source": [
    "# Define a function that accepts text and returns the polarity.\n",
    "def detect_sentiment(text):\n",
    "    return TextBlob(text.decode('utf-8')).sentiment.polarity\n",
    "    #return TextBlob(text).sentiment.polarity"
   ]
  },
  {
   "cell_type": "code",
   "execution_count": 95,
   "metadata": {
    "collapsed": true
   },
   "outputs": [],
   "source": [
    "# Create a new DataFrame column for sentiment (Warning: SLOW!).\n",
    "yelp['sentiment'] = yelp.text.apply(detect_sentiment)"
   ]
  },
  {
   "cell_type": "code",
   "execution_count": 96,
   "metadata": {},
   "outputs": [
    {
     "data": {
      "text/plain": [
       "<matplotlib.axes._subplots.AxesSubplot at 0x16db7dd8>"
      ]
     },
     "execution_count": 96,
     "metadata": {},
     "output_type": "execute_result"
    },
    {
     "data": {
      "image/png": "[encoded data removed]",
      "text/plain": [
       "<matplotlib.figure.Figure at 0x16e34128>"
      ]
     },
     "metadata": {},
     "output_type": "display_data"
    }
   ],
   "source": [
    "# Box plot of sentiment grouped by stars\n",
    "yelp.boxplot(column='sentiment', by='stars')"
   ]
  },
  {
   "cell_type": "code",
   "execution_count": 97,
   "metadata": {},
   "outputs": [
    {
     "data": {
      "text/plain": [
       "254    Our server Gary was awesome. Food was amazing....\n",
       "347    3 syllables for this place. \\nA-MAZ-ING!\\n\\nTh...\n",
       "420                                    LOVE the food!!!!\n",
       "459    Love it!!! Wish we still lived in Arizona as C...\n",
       "679                                     Excellent burger\n",
       "Name: text, dtype: object"
      ]
     },
     "execution_count": 97,
     "metadata": {},
     "output_type": "execute_result"
    }
   ],
   "source": [
    "# Reviews with most positive sentiment\n",
    "yelp[yelp.sentiment == 1].text.head()"
   ]
  },
  {
   "cell_type": "code",
   "execution_count": 98,
   "metadata": {},
   "outputs": [
    {
     "data": {
      "text/plain": [
       "773     This was absolutely horrible. I got the suprem...\n",
       "1517                  Nasty workers and over priced trash\n",
       "3266    Absolutely awful... these guys have NO idea wh...\n",
       "4766                                       Very bad food!\n",
       "5812        I wouldn't send my worst enemy to this place.\n",
       "Name: text, dtype: object"
      ]
     },
     "execution_count": 98,
     "metadata": {},
     "output_type": "execute_result"
    }
   ],
   "source": [
    "# Reviews with most negative sentiment\n",
    "yelp[yelp.sentiment == -1].text.head()"
   ]
  },
  {
   "cell_type": "code",
   "execution_count": 99,
   "metadata": {
    "collapsed": true
   },
   "outputs": [],
   "source": [
    "# Widen the column display.\n",
    "pd.set_option('max_colwidth', 500)"
   ]
  },
  {
   "cell_type": "code",
   "execution_count": 102,
   "metadata": {},
   "outputs": [
    {
     "data": {
      "text/html": [
       "<div>\n",
       "<style>\n",
       "    .dataframe thead tr:only-child th {\n",
       "        text-align: right;\n",
       "    }\n",
       "\n",
       "    .dataframe thead th {\n",
       "        text-align: left;\n",
       "    }\n",
       "\n",
       "    .dataframe tbody tr th {\n",
       "        vertical-align: top;\n",
       "    }\n",
       "</style>\n",
       "<table border=\"1\" class=\"dataframe\">\n",
       "  <thead>\n",
       "    <tr style=\"text-align: right;\">\n",
       "      <th></th>\n",
       "      <th>business_id</th>\n",
       "      <th>date</th>\n",
       "      <th>review_id</th>\n",
       "      <th>stars</th>\n",
       "      <th>text</th>\n",
       "      <th>type</th>\n",
       "      <th>user_id</th>\n",
       "      <th>cool</th>\n",
       "      <th>useful</th>\n",
       "      <th>funny</th>\n",
       "      <th>length</th>\n",
       "      <th>sentiment</th>\n",
       "    </tr>\n",
       "  </thead>\n",
       "  <tbody>\n",
       "    <tr>\n",
       "      <th>390</th>\n",
       "      <td>106JT5p8e8Chtd0CZpcARw</td>\n",
       "      <td>2009-08-06</td>\n",
       "      <td>KowGVoP_gygzdSu6Mt3zKQ</td>\n",
       "      <td>5</td>\n",
       "      <td>RIP AZ Coffee Connection.  :(  I stopped by two days ago unaware that they had closed.  I am severely bummed.  This place is irreplaceable!  Damn you, Starbucks and McDonalds!</td>\n",
       "      <td>review</td>\n",
       "      <td>jKeaOrPyJ-dI9SNeVqrbww</td>\n",
       "      <td>1</td>\n",
       "      <td>0</td>\n",
       "      <td>0</td>\n",
       "      <td>175</td>\n",
       "      <td>-0.302083</td>\n",
       "    </tr>\n",
       "  </tbody>\n",
       "</table>\n",
       "</div>"
      ],
      "text/plain": [
       "                business_id        date               review_id  stars  \\\n",
       "390  106JT5p8e8Chtd0CZpcARw  2009-08-06  KowGVoP_gygzdSu6Mt3zKQ      5   \n",
       "\n",
       "                                                                                                                                                                                text  \\\n",
       "390  RIP AZ Coffee Connection.  :(  I stopped by two days ago unaware that they had closed.  I am severely bummed.  This place is irreplaceable!  Damn you, Starbucks and McDonalds!   \n",
       "\n",
       "       type                 user_id  cool  useful  funny  length  sentiment  \n",
       "390  review  jKeaOrPyJ-dI9SNeVqrbww     1       0      0     175  -0.302083  "
      ]
     },
     "execution_count": 102,
     "metadata": {},
     "output_type": "execute_result"
    }
   ],
   "source": [
    "# Negative sentiment in a 5-star review\n",
    "yelp[(yelp.stars == 5) & (yelp.sentiment < -0.3)].head(1)"
   ]
  },
  {
   "cell_type": "code",
   "execution_count": 103,
   "metadata": {},
   "outputs": [
    {
     "data": {
      "text/html": [
       "<div>\n",
       "<style>\n",
       "    .dataframe thead tr:only-child th {\n",
       "        text-align: right;\n",
       "    }\n",
       "\n",
       "    .dataframe thead th {\n",
       "        text-align: left;\n",
       "    }\n",
       "\n",
       "    .dataframe tbody tr th {\n",
       "        vertical-align: top;\n",
       "    }\n",
       "</style>\n",
       "<table border=\"1\" class=\"dataframe\">\n",
       "  <thead>\n",
       "    <tr style=\"text-align: right;\">\n",
       "      <th></th>\n",
       "      <th>business_id</th>\n",
       "      <th>date</th>\n",
       "      <th>review_id</th>\n",
       "      <th>stars</th>\n",
       "      <th>text</th>\n",
       "      <th>type</th>\n",
       "      <th>user_id</th>\n",
       "      <th>cool</th>\n",
       "      <th>useful</th>\n",
       "      <th>funny</th>\n",
       "      <th>length</th>\n",
       "      <th>sentiment</th>\n",
       "    </tr>\n",
       "  </thead>\n",
       "  <tbody>\n",
       "    <tr>\n",
       "      <th>1781</th>\n",
       "      <td>53YGfwmbW73JhFiemNeyzQ</td>\n",
       "      <td>2012-06-22</td>\n",
       "      <td>Gi-4O3EhE175vujbFGDIew</td>\n",
       "      <td>1</td>\n",
       "      <td>If you like the stuck up Scottsdale vibe this is a good place for you. The food isn't impressive. Nice outdoor seating.</td>\n",
       "      <td>review</td>\n",
       "      <td>Hqgx3IdJAAaoQjvrUnbNvw</td>\n",
       "      <td>0</td>\n",
       "      <td>1</td>\n",
       "      <td>2</td>\n",
       "      <td>119</td>\n",
       "      <td>0.766667</td>\n",
       "    </tr>\n",
       "  </tbody>\n",
       "</table>\n",
       "</div>"
      ],
      "text/plain": [
       "                 business_id        date               review_id  stars  \\\n",
       "1781  53YGfwmbW73JhFiemNeyzQ  2012-06-22  Gi-4O3EhE175vujbFGDIew      1   \n",
       "\n",
       "                                                                                                                         text  \\\n",
       "1781  If you like the stuck up Scottsdale vibe this is a good place for you. The food isn't impressive. Nice outdoor seating.   \n",
       "\n",
       "        type                 user_id  cool  useful  funny  length  sentiment  \n",
       "1781  review  Hqgx3IdJAAaoQjvrUnbNvw     0       1      2     119   0.766667  "
      ]
     },
     "execution_count": 103,
     "metadata": {},
     "output_type": "execute_result"
    }
   ],
   "source": [
    "# Positive sentiment in a 1-star review\n",
    "yelp[(yelp.stars == 1) & (yelp.sentiment > 0.5)].head(1)"
   ]
  },
  {
   "cell_type": "code",
   "execution_count": 104,
   "metadata": {
    "collapsed": true
   },
   "outputs": [],
   "source": [
    "# Reset the column display width.\n",
    "pd.reset_option('max_colwidth')"
   ]
  },
  {
   "cell_type": "markdown",
   "metadata": {},
   "source": [
    "<a id='add_feat'></a>\n",
    "## Bonus: Adding Features to a Document-Term Matrix"
   ]
  },
  {
   "cell_type": "markdown",
   "metadata": {},
   "source": [
    "Here, we will add additional features to our `CountVectorizer()`-generated feature set to hopefully improve our model.\n",
    "\n",
    "To make the best models, you will want to supplement the auto-generated features with new features you think might be important. After all, `CountVectorizer()` typically lowercases text and removes all associations between words. Or, you may have metadata to add in addition to just the text.\n",
    "\n",
    "> Remember: Although you may have hundreds of thousands of features, each data point is extremely sparse. So, if you add in a new feature, e.g., one that detects if the text is all capital letters, this new feature can still have a huge effect on the model outcome!"
   ]
  },
  {
   "cell_type": "code",
   "execution_count": 113,
   "metadata": {
    "collapsed": true
   },
   "outputs": [],
   "source": [
    "# Create a DataFrame that only contains the 5-star and 1-star reviews.\n",
    "yelp_best_worst = yelp[(yelp.stars==5) | (yelp.stars==1)]\n",
    "\n",
    "# define X and y\n",
    "feature_cols = ['text', 'sentiment', 'cool', 'useful', 'funny']\n",
    "X = yelp_best_worst[feature_cols]\n",
    "y = yelp_best_worst.stars\n",
    "\n",
    "# split into training and testing sets\n",
    "X_train, X_test, y_train, y_test = train_test_split(X, y, random_state=1)"
   ]
  },
  {
   "cell_type": "code",
   "execution_count": 114,
   "metadata": {},
   "outputs": [
    {
     "name": "stdout",
     "output_type": "stream",
     "text": [
      "(3064, 16825)\n",
      "(1022, 16825)\n"
     ]
    }
   ],
   "source": [
    "# Use CountVectorizer with text column only.\n",
    "vect = CountVectorizer()\n",
    "X_train_dtm = vect.fit_transform(X_train.text)\n",
    "X_test_dtm = vect.transform(X_test.text)\n",
    "print(X_train_dtm.shape)\n",
    "print(X_test_dtm.shape)"
   ]
  },
  {
   "cell_type": "code",
   "execution_count": 115,
   "metadata": {},
   "outputs": [
    {
     "data": {
      "text/plain": [
       "(3064, 4)"
      ]
     },
     "execution_count": 115,
     "metadata": {},
     "output_type": "execute_result"
    }
   ],
   "source": [
    "# Shape of other four feature columns\n",
    "X_train.drop('text', axis=1).shape"
   ]
  },
  {
   "cell_type": "code",
   "execution_count": 116,
   "metadata": {},
   "outputs": [
    {
     "data": {
      "text/plain": [
       "(3064, 4)"
      ]
     },
     "execution_count": 116,
     "metadata": {},
     "output_type": "execute_result"
    }
   ],
   "source": [
    "# Cast other feature columns to float and convert to a sparse matrix.\n",
    "extra = sp.sparse.csr_matrix(X_train.drop('text', axis=1).astype(float))\n",
    "extra.shape"
   ]
  },
  {
   "cell_type": "code",
   "execution_count": 117,
   "metadata": {},
   "outputs": [
    {
     "data": {
      "text/plain": [
       "(3064, 16829)"
      ]
     },
     "execution_count": 117,
     "metadata": {},
     "output_type": "execute_result"
    }
   ],
   "source": [
    "# Combine sparse matrices.\n",
    "X_train_dtm_extra = sp.sparse.hstack((X_train_dtm, extra))\n",
    "X_train_dtm_extra.shape"
   ]
  },
  {
   "cell_type": "code",
   "execution_count": 118,
   "metadata": {},
   "outputs": [
    {
     "data": {
      "text/plain": [
       "(1022, 16829)"
      ]
     },
     "execution_count": 118,
     "metadata": {},
     "output_type": "execute_result"
    }
   ],
   "source": [
    "# Repeat for testing set.\n",
    "extra = sp.sparse.csr_matrix(X_test.drop('text', axis=1).astype(float))\n",
    "X_test_dtm_extra = sp.sparse.hstack((X_test_dtm, extra))\n",
    "X_test_dtm_extra.shape"
   ]
  },
  {
   "cell_type": "code",
   "execution_count": 119,
   "metadata": {},
   "outputs": [
    {
     "name": "stdout",
     "output_type": "stream",
     "text": [
      "0.917808219178\n"
     ]
    }
   ],
   "source": [
    "# Use logistic regression with text column only.\n",
    "logreg = LogisticRegression(C=1e9)\n",
    "logreg.fit(X_train_dtm, y_train)\n",
    "y_pred_class = logreg.predict(X_test_dtm)\n",
    "print(metrics.accuracy_score(y_test, y_pred_class))"
   ]
  },
  {
   "cell_type": "code",
   "execution_count": 120,
   "metadata": {},
   "outputs": [
    {
     "name": "stdout",
     "output_type": "stream",
     "text": [
      "0.922700587084\n"
     ]
    }
   ],
   "source": [
    "# Use logistic regression with all features.\n",
    "logreg = LogisticRegression(C=1e9)\n",
    "logreg.fit(X_train_dtm_extra, y_train)\n",
    "y_pred_class = logreg.predict(X_test_dtm_extra)\n",
    "print(metrics.accuracy_score(y_test, y_pred_class))"
   ]
  },
  {
   "cell_type": "markdown",
   "metadata": {},
   "source": [
    "<a id='more_textblob'></a>\n",
    "## Bonus: Fun TextBlob Features"
   ]
  },
  {
   "cell_type": "code",
   "execution_count": 124,
   "metadata": {},
   "outputs": [
    {
     "data": {
      "text/plain": [
       "TextBlob(\"15 minutes late\")"
      ]
     },
     "execution_count": 124,
     "metadata": {},
     "output_type": "execute_result"
    }
   ],
   "source": [
    "# Spelling correction\n",
    "TextBlob('15 minuets late').correct()"
   ]
  },
  {
   "cell_type": "code",
   "execution_count": 125,
   "metadata": {},
   "outputs": [
    {
     "data": {
      "text/plain": [
       "[('part', 0.9929478138222849), (u'parrot', 0.007052186177715092)]"
      ]
     },
     "execution_count": 125,
     "metadata": {},
     "output_type": "execute_result"
    }
   ],
   "source": [
    "# Spellcheck\n",
    "Word('parot').spellcheck()"
   ]
  },
  {
   "cell_type": "code",
   "execution_count": 126,
   "metadata": {},
   "outputs": [
    {
     "data": {
      "text/plain": [
       "[u'tip laterally',\n",
       " u'enclose with a bank',\n",
       " u'do business with a bank or keep an account at a bank',\n",
       " u'act as the banker in a game or in gambling',\n",
       " u'be in the banking business',\n",
       " u'put into a bank account',\n",
       " u'cover with ashes so to control the rate of burning',\n",
       " u'have confidence or faith in']"
      ]
     },
     "execution_count": 126,
     "metadata": {},
     "output_type": "execute_result"
    }
   ],
   "source": [
    "# Definitions\n",
    "Word('bank').define('v')"
   ]
  },
  {
   "cell_type": "code",
   "execution_count": 127,
   "metadata": {},
   "outputs": [
    {
     "data": {
      "text/plain": [
       "u'es'"
      ]
     },
     "execution_count": 127,
     "metadata": {},
     "output_type": "execute_result"
    }
   ],
   "source": [
    "# Language identification\n",
    "TextBlob('Hola amigos').detect_language()"
   ]
  },
  {
   "cell_type": "markdown",
   "metadata": {},
   "source": [
    "<a id=\"bayes\"></a>\n",
    "\n",
    "## Appendix: Intro to Naive Bayes and Text Classification\n",
    "\n",
    "Later in the course, we will explore in-depth how to use the Naive Bayes classifier with text. Naive Bayes is a very popular classifier because it has minimal storage requirements, is fast, can be tuned easily with more data, and has found very useful applications in text classificaton. For example, Paul Graham originally proposed using Naive Bayes to detect spam in his [Plan for Spam](http://www.paulgraham.com/spam.html).\n",
    "\n",
    "Earlier we experimented with text classification using a Naive Bayes model. What exactly are Naive Bayes classifiers? \n",
    "\n",
    "**What is Bayes?**  \n",
    "Bayes, or Bayes' Theorem, is a different way to assess probability. It considers prior information in order to more accurately assess the situation.\n",
    "\n",
    "**Example:** You are playing roulette.\n",
    "\n",
    "As you approach the table, you see that the last number the ball landed on was Red-3. With a frequentist mindset, you know that the ball is just as likely to land on Red-3 again given that every slot on the wheel has an equal opportunity of 1 in 37.\n",
    "\n",
    "However, it is against your intuition to bet on red on the next roll. You think that because it was red this time it is more likely to be black next time. You don't know why, but in the back of your mind you believe that the ball is more likely to land on black given it landed on red previously than it is to land on red twice in a row.\n",
    "\n",
    "This is what Bayes is all about — adjusting probabilities as more data is gathered!"
   ]
  },
  {
   "cell_type": "markdown",
   "metadata": {},
   "source": [
    "Below is the equation for Bayes.  \n",
    "\n",
    "$$P(A \\ | \\ B) = \\frac {P(B \\ | \\ A) \\times P(A)} {P(B)}$$\n",
    "\n",
    "- **$P(A \\ | \\ B)$** : Probability of `Event A` occurring given `Event B` has occurred.\n",
    "- **$P(B \\ | \\ A)$** : Probability of `Event B` occurring given `Event A` has occurred.\n",
    "- **$P(A)$** : Probability of `Event A` occurring.\n",
    "- **$P(B)$** : Probability of `Event B` occurring."
   ]
  },
  {
   "cell_type": "markdown",
   "metadata": {},
   "source": [
    "\n",
    "\n",
    "## Applying Naive Bayes Classification to Spam Filtering\n",
    "\n",
    "Let's pretend we have an email with three words: \"Send money now.\" We'll use Naive Bayes to classify it as **ham or spam.** (\"Ham\" just means not spam. It can include emails that look like spam but that you opt into!)\n",
    "\n",
    "$$P(spam \\ | \\ \\text{send money now}) = \\frac {P(\\text{send money now} \\ | \\ spam) \\times P(spam)} {P(\\text{send money now})}$$\n",
    "\n",
    "By assuming that the features (the words) are conditionally independent, we can simplify the likelihood function:\n",
    "\n",
    "$$P(spam \\ | \\ \\text{send money now}) \\approx \\frac {P(\\text{send} \\ | \\ spam) \\times P(\\text{money} \\ | \\ spam) \\times P(\\text{now} \\ | \\ spam) \\times P(spam)} {P(\\text{send money now})}$$\n",
    "\n",
    "Note that each conditional probability in the numerator is easily calculated directly from the training data!\n",
    "\n",
    "So, we can calculate all of the values in the numerator by examining a corpus of spam email:\n",
    "\n",
    "$$P(spam \\ | \\ \\text{send money now}) \\approx \\frac {0.2 \\times 0.1 \\times 0.1 \\times 0.9} {P(\\text{send money now})} = \\frac {0.0018} {P(\\text{send money now})}$$\n",
    "\n",
    "We would repeat this process with a corpus of ham email:\n",
    "\n",
    "$$P(ham \\ | \\ \\text{send money now}) \\approx \\frac {0.05 \\times 0.01 \\times 0.1 \\times 0.1} {P(\\text{send money now})} = \\frac {0.000005} {P(\\text{send money now})}$$\n",
    "\n",
    "All we care about is whether spam or ham has the higher probability, and so we predict that the email is spam.\n",
    "\n",
    "\n",
    "### Key Takeaways\n",
    "\n",
    "- The \"naive\" assumption of Naive Bayes (that the features are conditionally independent) is critical to making these calculations simple.\n",
    "- The normalization constant (the denominator) can be ignored since it's the same for all classes.\n",
    "- The prior probability is much less relevant once you have a lot of features.\n",
    "\n",
    "### Comparing Naive Bayes With Other Models\n",
    "\n",
    "Advantages of Naive Bayes:\n",
    "\n",
    "- Model training and prediction are very fast.\n",
    "- It's somewhat interpretable.\n",
    "- No tuning is required.\n",
    "- Features don't need scaling.\n",
    "- It's insensitive to irrelevant features (with enough observations).\n",
    "- It performs better than logistic regression when the training set is very small.\n",
    "\n",
    "Disadvantages of Naive Bayes:\n",
    "\n",
    "- If \"spam\" is dependent on non-independent combinations of individual words, it may not work well.\n",
    "- Predicted probabilities are not well calibrated.\n",
    "- Correlated features can be problematic (due to the independence assumption).\n",
    "- It can't handle negative features (with Multinomial Naive Bayes).\n",
    "- It has a higher \"asymptotic error\" than logistic regression.\n",
    "\n",
    "-----"
   ]
  },
  {
   "cell_type": "markdown",
   "metadata": {},
   "source": [
    "<a id='conclusion'></a>\n",
    "## Conclusion\n",
    "\n",
    "- NLP is a gigantic field.\n",
    "- Understanding the basics broadens the types of data you can work with.\n",
    "- Simple techniques go a long way.\n",
    "- Use scikit-learn for NLP whenever possible.\n",
    "\n",
    "While we used SKLearn and TextBlob today, another popular python NLP library is [Spacy](https://spacy.io)."
   ]
  },
  {
   "cell_type": "code",
   "execution_count": null,
   "metadata": {
    "collapsed": true
   },
   "outputs": [],
   "source": []
  }
 ],
 "metadata": {
  "kernelspec": {
   "display_name": "Python 2",
   "language": "python",
   "name": "python2"
  },
  "language_info": {
   "codemirror_mode": {
    "name": "ipython",
    "version": 2
   },
   "file_extension": ".py",
   "mimetype": "text/x-python",
   "name": "python",
   "nbconvert_exporter": "python",
   "pygments_lexer": "ipython2",
   "version": "2.7.13"
  }
 },
 "nbformat": 4,
 "nbformat_minor": 2
}
